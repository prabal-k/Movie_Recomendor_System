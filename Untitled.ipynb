{
 "cells": [
  {
   "cell_type": "code",
   "execution_count": 1,
   "id": "73822534",
   "metadata": {},
   "outputs": [],
   "source": [
    "import numpy as np\n",
    "import pandas as pd\n",
    "pd.set_option(\"display.max_columns\",None)"
   ]
  },
  {
   "cell_type": "code",
   "execution_count": 2,
   "id": "431f441b",
   "metadata": {},
   "outputs": [],
   "source": [
    "movies = pd.read_csv(r\"C:\\Users\\Prabal Kuinkel\\Desktop\\Data Analyst\\Movie_Recomendor_System\\Data Sets\\tmdb_5000_movies.csv\")\n",
    "credits = pd.read_csv(r\"C:\\Users\\Prabal Kuinkel\\Desktop\\Data Analyst\\Movie_Recomendor_System\\Data Sets\\tmdb_5000_credits.csv\")"
   ]
  },
  {
   "cell_type": "code",
   "execution_count": 3,
   "id": "3a9ce0df",
   "metadata": {},
   "outputs": [
    {
     "data": {
      "text/html": [
       "<div>\n",
       "<style scoped>\n",
       "    .dataframe tbody tr th:only-of-type {\n",
       "        vertical-align: middle;\n",
       "    }\n",
       "\n",
       "    .dataframe tbody tr th {\n",
       "        vertical-align: top;\n",
       "    }\n",
       "\n",
       "    .dataframe thead th {\n",
       "        text-align: right;\n",
       "    }\n",
       "</style>\n",
       "<table border=\"1\" class=\"dataframe\">\n",
       "  <thead>\n",
       "    <tr style=\"text-align: right;\">\n",
       "      <th></th>\n",
       "      <th>budget</th>\n",
       "      <th>genres</th>\n",
       "      <th>homepage</th>\n",
       "      <th>id</th>\n",
       "      <th>keywords</th>\n",
       "      <th>original_language</th>\n",
       "      <th>original_title</th>\n",
       "      <th>overview</th>\n",
       "      <th>popularity</th>\n",
       "      <th>production_companies</th>\n",
       "      <th>production_countries</th>\n",
       "      <th>release_date</th>\n",
       "      <th>revenue</th>\n",
       "      <th>runtime</th>\n",
       "      <th>spoken_languages</th>\n",
       "      <th>status</th>\n",
       "      <th>tagline</th>\n",
       "      <th>title</th>\n",
       "      <th>vote_average</th>\n",
       "      <th>vote_count</th>\n",
       "    </tr>\n",
       "  </thead>\n",
       "  <tbody>\n",
       "    <tr>\n",
       "      <th>0</th>\n",
       "      <td>237000000</td>\n",
       "      <td>[{\"id\": 28, \"name\": \"Action\"}, {\"id\": 12, \"nam...</td>\n",
       "      <td>http://www.avatarmovie.com/</td>\n",
       "      <td>19995</td>\n",
       "      <td>[{\"id\": 1463, \"name\": \"culture clash\"}, {\"id\":...</td>\n",
       "      <td>en</td>\n",
       "      <td>Avatar</td>\n",
       "      <td>In the 22nd century, a paraplegic Marine is di...</td>\n",
       "      <td>150.437577</td>\n",
       "      <td>[{\"name\": \"Ingenious Film Partners\", \"id\": 289...</td>\n",
       "      <td>[{\"iso_3166_1\": \"US\", \"name\": \"United States o...</td>\n",
       "      <td>2009-12-10</td>\n",
       "      <td>2787965087</td>\n",
       "      <td>162.0</td>\n",
       "      <td>[{\"iso_639_1\": \"en\", \"name\": \"English\"}, {\"iso...</td>\n",
       "      <td>Released</td>\n",
       "      <td>Enter the World of Pandora.</td>\n",
       "      <td>Avatar</td>\n",
       "      <td>7.2</td>\n",
       "      <td>11800</td>\n",
       "    </tr>\n",
       "    <tr>\n",
       "      <th>1</th>\n",
       "      <td>300000000</td>\n",
       "      <td>[{\"id\": 12, \"name\": \"Adventure\"}, {\"id\": 14, \"...</td>\n",
       "      <td>http://disney.go.com/disneypictures/pirates/</td>\n",
       "      <td>285</td>\n",
       "      <td>[{\"id\": 270, \"name\": \"ocean\"}, {\"id\": 726, \"na...</td>\n",
       "      <td>en</td>\n",
       "      <td>Pirates of the Caribbean: At World's End</td>\n",
       "      <td>Captain Barbossa, long believed to be dead, ha...</td>\n",
       "      <td>139.082615</td>\n",
       "      <td>[{\"name\": \"Walt Disney Pictures\", \"id\": 2}, {\"...</td>\n",
       "      <td>[{\"iso_3166_1\": \"US\", \"name\": \"United States o...</td>\n",
       "      <td>2007-05-19</td>\n",
       "      <td>961000000</td>\n",
       "      <td>169.0</td>\n",
       "      <td>[{\"iso_639_1\": \"en\", \"name\": \"English\"}]</td>\n",
       "      <td>Released</td>\n",
       "      <td>At the end of the world, the adventure begins.</td>\n",
       "      <td>Pirates of the Caribbean: At World's End</td>\n",
       "      <td>6.9</td>\n",
       "      <td>4500</td>\n",
       "    </tr>\n",
       "    <tr>\n",
       "      <th>2</th>\n",
       "      <td>245000000</td>\n",
       "      <td>[{\"id\": 28, \"name\": \"Action\"}, {\"id\": 12, \"nam...</td>\n",
       "      <td>http://www.sonypictures.com/movies/spectre/</td>\n",
       "      <td>206647</td>\n",
       "      <td>[{\"id\": 470, \"name\": \"spy\"}, {\"id\": 818, \"name...</td>\n",
       "      <td>en</td>\n",
       "      <td>Spectre</td>\n",
       "      <td>A cryptic message from Bond’s past sends him o...</td>\n",
       "      <td>107.376788</td>\n",
       "      <td>[{\"name\": \"Columbia Pictures\", \"id\": 5}, {\"nam...</td>\n",
       "      <td>[{\"iso_3166_1\": \"GB\", \"name\": \"United Kingdom\"...</td>\n",
       "      <td>2015-10-26</td>\n",
       "      <td>880674609</td>\n",
       "      <td>148.0</td>\n",
       "      <td>[{\"iso_639_1\": \"fr\", \"name\": \"Fran\\u00e7ais\"},...</td>\n",
       "      <td>Released</td>\n",
       "      <td>A Plan No One Escapes</td>\n",
       "      <td>Spectre</td>\n",
       "      <td>6.3</td>\n",
       "      <td>4466</td>\n",
       "    </tr>\n",
       "  </tbody>\n",
       "</table>\n",
       "</div>"
      ],
      "text/plain": [
       "      budget                                             genres  \\\n",
       "0  237000000  [{\"id\": 28, \"name\": \"Action\"}, {\"id\": 12, \"nam...   \n",
       "1  300000000  [{\"id\": 12, \"name\": \"Adventure\"}, {\"id\": 14, \"...   \n",
       "2  245000000  [{\"id\": 28, \"name\": \"Action\"}, {\"id\": 12, \"nam...   \n",
       "\n",
       "                                       homepage      id  \\\n",
       "0                   http://www.avatarmovie.com/   19995   \n",
       "1  http://disney.go.com/disneypictures/pirates/     285   \n",
       "2   http://www.sonypictures.com/movies/spectre/  206647   \n",
       "\n",
       "                                            keywords original_language  \\\n",
       "0  [{\"id\": 1463, \"name\": \"culture clash\"}, {\"id\":...                en   \n",
       "1  [{\"id\": 270, \"name\": \"ocean\"}, {\"id\": 726, \"na...                en   \n",
       "2  [{\"id\": 470, \"name\": \"spy\"}, {\"id\": 818, \"name...                en   \n",
       "\n",
       "                             original_title  \\\n",
       "0                                    Avatar   \n",
       "1  Pirates of the Caribbean: At World's End   \n",
       "2                                   Spectre   \n",
       "\n",
       "                                            overview  popularity  \\\n",
       "0  In the 22nd century, a paraplegic Marine is di...  150.437577   \n",
       "1  Captain Barbossa, long believed to be dead, ha...  139.082615   \n",
       "2  A cryptic message from Bond’s past sends him o...  107.376788   \n",
       "\n",
       "                                production_companies  \\\n",
       "0  [{\"name\": \"Ingenious Film Partners\", \"id\": 289...   \n",
       "1  [{\"name\": \"Walt Disney Pictures\", \"id\": 2}, {\"...   \n",
       "2  [{\"name\": \"Columbia Pictures\", \"id\": 5}, {\"nam...   \n",
       "\n",
       "                                production_countries release_date     revenue  \\\n",
       "0  [{\"iso_3166_1\": \"US\", \"name\": \"United States o...   2009-12-10  2787965087   \n",
       "1  [{\"iso_3166_1\": \"US\", \"name\": \"United States o...   2007-05-19   961000000   \n",
       "2  [{\"iso_3166_1\": \"GB\", \"name\": \"United Kingdom\"...   2015-10-26   880674609   \n",
       "\n",
       "   runtime                                   spoken_languages    status  \\\n",
       "0    162.0  [{\"iso_639_1\": \"en\", \"name\": \"English\"}, {\"iso...  Released   \n",
       "1    169.0           [{\"iso_639_1\": \"en\", \"name\": \"English\"}]  Released   \n",
       "2    148.0  [{\"iso_639_1\": \"fr\", \"name\": \"Fran\\u00e7ais\"},...  Released   \n",
       "\n",
       "                                          tagline  \\\n",
       "0                     Enter the World of Pandora.   \n",
       "1  At the end of the world, the adventure begins.   \n",
       "2                           A Plan No One Escapes   \n",
       "\n",
       "                                      title  vote_average  vote_count  \n",
       "0                                    Avatar           7.2       11800  \n",
       "1  Pirates of the Caribbean: At World's End           6.9        4500  \n",
       "2                                   Spectre           6.3        4466  "
      ]
     },
     "execution_count": 3,
     "metadata": {},
     "output_type": "execute_result"
    }
   ],
   "source": [
    "movies.head(3)"
   ]
  },
  {
   "cell_type": "code",
   "execution_count": 4,
   "id": "95e736eb",
   "metadata": {},
   "outputs": [
    {
     "data": {
      "text/html": [
       "<div>\n",
       "<style scoped>\n",
       "    .dataframe tbody tr th:only-of-type {\n",
       "        vertical-align: middle;\n",
       "    }\n",
       "\n",
       "    .dataframe tbody tr th {\n",
       "        vertical-align: top;\n",
       "    }\n",
       "\n",
       "    .dataframe thead th {\n",
       "        text-align: right;\n",
       "    }\n",
       "</style>\n",
       "<table border=\"1\" class=\"dataframe\">\n",
       "  <thead>\n",
       "    <tr style=\"text-align: right;\">\n",
       "      <th></th>\n",
       "      <th>movie_id</th>\n",
       "      <th>title</th>\n",
       "      <th>cast</th>\n",
       "      <th>crew</th>\n",
       "    </tr>\n",
       "  </thead>\n",
       "  <tbody>\n",
       "    <tr>\n",
       "      <th>0</th>\n",
       "      <td>19995</td>\n",
       "      <td>Avatar</td>\n",
       "      <td>[{\"cast_id\": 242, \"character\": \"Jake Sully\", \"...</td>\n",
       "      <td>[{\"credit_id\": \"52fe48009251416c750aca23\", \"de...</td>\n",
       "    </tr>\n",
       "    <tr>\n",
       "      <th>1</th>\n",
       "      <td>285</td>\n",
       "      <td>Pirates of the Caribbean: At World's End</td>\n",
       "      <td>[{\"cast_id\": 4, \"character\": \"Captain Jack Spa...</td>\n",
       "      <td>[{\"credit_id\": \"52fe4232c3a36847f800b579\", \"de...</td>\n",
       "    </tr>\n",
       "    <tr>\n",
       "      <th>2</th>\n",
       "      <td>206647</td>\n",
       "      <td>Spectre</td>\n",
       "      <td>[{\"cast_id\": 1, \"character\": \"James Bond\", \"cr...</td>\n",
       "      <td>[{\"credit_id\": \"54805967c3a36829b5002c41\", \"de...</td>\n",
       "    </tr>\n",
       "  </tbody>\n",
       "</table>\n",
       "</div>"
      ],
      "text/plain": [
       "   movie_id                                     title  \\\n",
       "0     19995                                    Avatar   \n",
       "1       285  Pirates of the Caribbean: At World's End   \n",
       "2    206647                                   Spectre   \n",
       "\n",
       "                                                cast  \\\n",
       "0  [{\"cast_id\": 242, \"character\": \"Jake Sully\", \"...   \n",
       "1  [{\"cast_id\": 4, \"character\": \"Captain Jack Spa...   \n",
       "2  [{\"cast_id\": 1, \"character\": \"James Bond\", \"cr...   \n",
       "\n",
       "                                                crew  \n",
       "0  [{\"credit_id\": \"52fe48009251416c750aca23\", \"de...  \n",
       "1  [{\"credit_id\": \"52fe4232c3a36847f800b579\", \"de...  \n",
       "2  [{\"credit_id\": \"54805967c3a36829b5002c41\", \"de...  "
      ]
     },
     "execution_count": 4,
     "metadata": {},
     "output_type": "execute_result"
    }
   ],
   "source": [
    "credits.head(3)"
   ]
  },
  {
   "cell_type": "code",
   "execution_count": 5,
   "id": "9db13863",
   "metadata": {},
   "outputs": [
    {
     "data": {
      "text/plain": [
       "Index(['budget', 'genres', 'homepage', 'id', 'keywords', 'original_language',\n",
       "       'original_title', 'overview', 'popularity', 'production_companies',\n",
       "       'production_countries', 'release_date', 'revenue', 'runtime',\n",
       "       'spoken_languages', 'status', 'tagline', 'title', 'vote_average',\n",
       "       'vote_count'],\n",
       "      dtype='object')"
      ]
     },
     "execution_count": 5,
     "metadata": {},
     "output_type": "execute_result"
    }
   ],
   "source": [
    "movies.columns"
   ]
  },
  {
   "cell_type": "code",
   "execution_count": 6,
   "id": "aa2de4da",
   "metadata": {},
   "outputs": [
    {
     "data": {
      "text/plain": [
       "array(['[{\"cast_id\": 242, \"character\": \"Jake Sully\", \"credit_id\": \"5602a8a7c3a3685532001c9a\", \"gender\": 2, \"id\": 65731, \"name\": \"Sam Worthington\", \"order\": 0}, {\"cast_id\": 3, \"character\": \"Neytiri\", \"credit_id\": \"52fe48009251416c750ac9cb\", \"gender\": 1, \"id\": 8691, \"name\": \"Zoe Saldana\", \"order\": 1}, {\"cast_id\": 25, \"character\": \"Dr. Grace Augustine\", \"credit_id\": \"52fe48009251416c750aca39\", \"gender\": 1, \"id\": 10205, \"name\": \"Sigourney Weaver\", \"order\": 2}, {\"cast_id\": 4, \"character\": \"Col. Quaritch\", \"credit_id\": \"52fe48009251416c750ac9cf\", \"gender\": 2, \"id\": 32747, \"name\": \"Stephen Lang\", \"order\": 3}, {\"cast_id\": 5, \"character\": \"Trudy Chacon\", \"credit_id\": \"52fe48009251416c750ac9d3\", \"gender\": 1, \"id\": 17647, \"name\": \"Michelle Rodriguez\", \"order\": 4}, {\"cast_id\": 8, \"character\": \"Selfridge\", \"credit_id\": \"52fe48009251416c750ac9e1\", \"gender\": 2, \"id\": 1771, \"name\": \"Giovanni Ribisi\", \"order\": 5}, {\"cast_id\": 7, \"character\": \"Norm Spellman\", \"credit_id\": \"52fe48009251416c750ac9dd\", \"gender\": 2, \"id\": 59231, \"name\": \"Joel David Moore\", \"order\": 6}, {\"cast_id\": 9, \"character\": \"Moat\", \"credit_id\": \"52fe48009251416c750ac9e5\", \"gender\": 1, \"id\": 30485, \"name\": \"CCH Pounder\", \"order\": 7}, {\"cast_id\": 11, \"character\": \"Eytukan\", \"credit_id\": \"52fe48009251416c750ac9ed\", \"gender\": 2, \"id\": 15853, \"name\": \"Wes Studi\", \"order\": 8}, {\"cast_id\": 10, \"character\": \"Tsu\\'Tey\", \"credit_id\": \"52fe48009251416c750ac9e9\", \"gender\": 2, \"id\": 10964, \"name\": \"Laz Alonso\", \"order\": 9}, {\"cast_id\": 12, \"character\": \"Dr. Max Patel\", \"credit_id\": \"52fe48009251416c750ac9f1\", \"gender\": 2, \"id\": 95697, \"name\": \"Dileep Rao\", \"order\": 10}, {\"cast_id\": 13, \"character\": \"Lyle Wainfleet\", \"credit_id\": \"52fe48009251416c750ac9f5\", \"gender\": 2, \"id\": 98215, \"name\": \"Matt Gerald\", \"order\": 11}, {\"cast_id\": 32, \"character\": \"Private Fike\", \"credit_id\": \"52fe48009251416c750aca5b\", \"gender\": 2, \"id\": 154153, \"name\": \"Sean Anthony Moran\", \"order\": 12}, {\"cast_id\": 33, \"character\": \"Cryo Vault Med Tech\", \"credit_id\": \"52fe48009251416c750aca5f\", \"gender\": 2, \"id\": 397312, \"name\": \"Jason Whyte\", \"order\": 13}, {\"cast_id\": 34, \"character\": \"Venture Star Crew Chief\", \"credit_id\": \"52fe48009251416c750aca63\", \"gender\": 2, \"id\": 42317, \"name\": \"Scott Lawrence\", \"order\": 14}, {\"cast_id\": 35, \"character\": \"Lock Up Trooper\", \"credit_id\": \"52fe48009251416c750aca67\", \"gender\": 2, \"id\": 986734, \"name\": \"Kelly Kilgour\", \"order\": 15}, {\"cast_id\": 36, \"character\": \"Shuttle Pilot\", \"credit_id\": \"52fe48009251416c750aca6b\", \"gender\": 0, \"id\": 1207227, \"name\": \"James Patrick Pitt\", \"order\": 16}, {\"cast_id\": 37, \"character\": \"Shuttle Co-Pilot\", \"credit_id\": \"52fe48009251416c750aca6f\", \"gender\": 0, \"id\": 1180936, \"name\": \"Sean Patrick Murphy\", \"order\": 17}, {\"cast_id\": 38, \"character\": \"Shuttle Crew Chief\", \"credit_id\": \"52fe48009251416c750aca73\", \"gender\": 2, \"id\": 1019578, \"name\": \"Peter Dillon\", \"order\": 18}, {\"cast_id\": 39, \"character\": \"Tractor Operator / Troupe\", \"credit_id\": \"52fe48009251416c750aca77\", \"gender\": 0, \"id\": 91443, \"name\": \"Kevin Dorman\", \"order\": 19}, {\"cast_id\": 40, \"character\": \"Dragon Gunship Pilot\", \"credit_id\": \"52fe48009251416c750aca7b\", \"gender\": 2, \"id\": 173391, \"name\": \"Kelson Henderson\", \"order\": 20}, {\"cast_id\": 41, \"character\": \"Dragon Gunship Gunner\", \"credit_id\": \"52fe48009251416c750aca7f\", \"gender\": 0, \"id\": 1207236, \"name\": \"David Van Horn\", \"order\": 21}, {\"cast_id\": 42, \"character\": \"Dragon Gunship Navigator\", \"credit_id\": \"52fe48009251416c750aca83\", \"gender\": 0, \"id\": 215913, \"name\": \"Jacob Tomuri\", \"order\": 22}, {\"cast_id\": 43, \"character\": \"Suit #1\", \"credit_id\": \"52fe48009251416c750aca87\", \"gender\": 0, \"id\": 143206, \"name\": \"Michael Blain-Rozgay\", \"order\": 23}, {\"cast_id\": 44, \"character\": \"Suit #2\", \"credit_id\": \"52fe48009251416c750aca8b\", \"gender\": 2, \"id\": 169676, \"name\": \"Jon Curry\", \"order\": 24}, {\"cast_id\": 46, \"character\": \"Ambient Room Tech\", \"credit_id\": \"52fe48009251416c750aca8f\", \"gender\": 0, \"id\": 1048610, \"name\": \"Luke Hawker\", \"order\": 25}, {\"cast_id\": 47, \"character\": \"Ambient Room Tech / Troupe\", \"credit_id\": \"52fe48009251416c750aca93\", \"gender\": 0, \"id\": 42288, \"name\": \"Woody Schultz\", \"order\": 26}, {\"cast_id\": 48, \"character\": \"Horse Clan Leader\", \"credit_id\": \"52fe48009251416c750aca97\", \"gender\": 2, \"id\": 68278, \"name\": \"Peter Mensah\", \"order\": 27}, {\"cast_id\": 49, \"character\": \"Link Room Tech\", \"credit_id\": \"52fe48009251416c750aca9b\", \"gender\": 0, \"id\": 1207247, \"name\": \"Sonia Yee\", \"order\": 28}, {\"cast_id\": 50, \"character\": \"Basketball Avatar / Troupe\", \"credit_id\": \"52fe48009251416c750aca9f\", \"gender\": 1, \"id\": 1207248, \"name\": \"Jahnel Curfman\", \"order\": 29}, {\"cast_id\": 51, \"character\": \"Basketball Avatar\", \"credit_id\": \"52fe48009251416c750acaa3\", \"gender\": 0, \"id\": 89714, \"name\": \"Ilram Choi\", \"order\": 30}, {\"cast_id\": 52, \"character\": \"Na\\'vi Child\", \"credit_id\": \"52fe48009251416c750acaa7\", \"gender\": 0, \"id\": 1207249, \"name\": \"Kyla Warren\", \"order\": 31}, {\"cast_id\": 53, \"character\": \"Troupe\", \"credit_id\": \"52fe48009251416c750acaab\", \"gender\": 0, \"id\": 1207250, \"name\": \"Lisa Roumain\", \"order\": 32}, {\"cast_id\": 54, \"character\": \"Troupe\", \"credit_id\": \"52fe48009251416c750acaaf\", \"gender\": 1, \"id\": 83105, \"name\": \"Debra Wilson\", \"order\": 33}, {\"cast_id\": 57, \"character\": \"Troupe\", \"credit_id\": \"52fe48009251416c750acabb\", \"gender\": 0, \"id\": 1207253, \"name\": \"Chris Mala\", \"order\": 34}, {\"cast_id\": 55, \"character\": \"Troupe\", \"credit_id\": \"52fe48009251416c750acab3\", \"gender\": 0, \"id\": 1207251, \"name\": \"Taylor Kibby\", \"order\": 35}, {\"cast_id\": 56, \"character\": \"Troupe\", \"credit_id\": \"52fe48009251416c750acab7\", \"gender\": 0, \"id\": 1207252, \"name\": \"Jodie Landau\", \"order\": 36}, {\"cast_id\": 58, \"character\": \"Troupe\", \"credit_id\": \"52fe48009251416c750acabf\", \"gender\": 0, \"id\": 1207254, \"name\": \"Julie Lamm\", \"order\": 37}, {\"cast_id\": 59, \"character\": \"Troupe\", \"credit_id\": \"52fe48009251416c750acac3\", \"gender\": 0, \"id\": 1207257, \"name\": \"Cullen B. Madden\", \"order\": 38}, {\"cast_id\": 60, \"character\": \"Troupe\", \"credit_id\": \"52fe48009251416c750acac7\", \"gender\": 0, \"id\": 1207259, \"name\": \"Joseph Brady Madden\", \"order\": 39}, {\"cast_id\": 61, \"character\": \"Troupe\", \"credit_id\": \"52fe48009251416c750acacb\", \"gender\": 0, \"id\": 1207262, \"name\": \"Frankie Torres\", \"order\": 40}, {\"cast_id\": 62, \"character\": \"Troupe\", \"credit_id\": \"52fe48009251416c750acacf\", \"gender\": 1, \"id\": 1158600, \"name\": \"Austin Wilson\", \"order\": 41}, {\"cast_id\": 63, \"character\": \"Troupe\", \"credit_id\": \"52fe48019251416c750acad3\", \"gender\": 1, \"id\": 983705, \"name\": \"Sara Wilson\", \"order\": 42}, {\"cast_id\": 64, \"character\": \"Troupe\", \"credit_id\": \"52fe48019251416c750acad7\", \"gender\": 0, \"id\": 1207263, \"name\": \"Tamica Washington-Miller\", \"order\": 43}, {\"cast_id\": 65, \"character\": \"Op Center Staff\", \"credit_id\": \"52fe48019251416c750acadb\", \"gender\": 1, \"id\": 1145098, \"name\": \"Lucy Briant\", \"order\": 44}, {\"cast_id\": 66, \"character\": \"Op Center Staff\", \"credit_id\": \"52fe48019251416c750acadf\", \"gender\": 2, \"id\": 33305, \"name\": \"Nathan Meister\", \"order\": 45}, {\"cast_id\": 67, \"character\": \"Op Center Staff\", \"credit_id\": \"52fe48019251416c750acae3\", \"gender\": 0, \"id\": 1207264, \"name\": \"Gerry Blair\", \"order\": 46}, {\"cast_id\": 68, \"character\": \"Op Center Staff\", \"credit_id\": \"52fe48019251416c750acae7\", \"gender\": 2, \"id\": 33311, \"name\": \"Matthew Chamberlain\", \"order\": 47}, {\"cast_id\": 69, \"character\": \"Op Center Staff\", \"credit_id\": \"52fe48019251416c750acaeb\", \"gender\": 0, \"id\": 1207265, \"name\": \"Paul Yates\", \"order\": 48}, {\"cast_id\": 70, \"character\": \"Op Center Duty Officer\", \"credit_id\": \"52fe48019251416c750acaef\", \"gender\": 0, \"id\": 1207266, \"name\": \"Wray Wilson\", \"order\": 49}, {\"cast_id\": 71, \"character\": \"Op Center Staff\", \"credit_id\": \"52fe48019251416c750acaf3\", \"gender\": 2, \"id\": 54492, \"name\": \"James Gaylyn\", \"order\": 50}, {\"cast_id\": 72, \"character\": \"Dancer\", \"credit_id\": \"52fe48019251416c750acaf7\", \"gender\": 0, \"id\": 1207267, \"name\": \"Melvin Leno Clark III\", \"order\": 51}, {\"cast_id\": 73, \"character\": \"Dancer\", \"credit_id\": \"52fe48019251416c750acafb\", \"gender\": 0, \"id\": 1207268, \"name\": \"Carvon Futrell\", \"order\": 52}, {\"cast_id\": 74, \"character\": \"Dancer\", \"credit_id\": \"52fe48019251416c750acaff\", \"gender\": 0, \"id\": 1207269, \"name\": \"Brandon Jelkes\", \"order\": 53}, {\"cast_id\": 75, \"character\": \"Dancer\", \"credit_id\": \"52fe48019251416c750acb03\", \"gender\": 0, \"id\": 1207270, \"name\": \"Micah Moch\", \"order\": 54}, {\"cast_id\": 76, \"character\": \"Dancer\", \"credit_id\": \"52fe48019251416c750acb07\", \"gender\": 0, \"id\": 1207271, \"name\": \"Hanniyah Muhammad\", \"order\": 55}, {\"cast_id\": 77, \"character\": \"Dancer\", \"credit_id\": \"52fe48019251416c750acb0b\", \"gender\": 0, \"id\": 1207272, \"name\": \"Christopher Nolen\", \"order\": 56}, {\"cast_id\": 78, \"character\": \"Dancer\", \"credit_id\": \"52fe48019251416c750acb0f\", \"gender\": 0, \"id\": 1207273, \"name\": \"Christa Oliver\", \"order\": 57}, {\"cast_id\": 79, \"character\": \"Dancer\", \"credit_id\": \"52fe48019251416c750acb13\", \"gender\": 0, \"id\": 1207274, \"name\": \"April Marie Thomas\", \"order\": 58}, {\"cast_id\": 80, \"character\": \"Dancer\", \"credit_id\": \"52fe48019251416c750acb17\", \"gender\": 0, \"id\": 1207275, \"name\": \"Bravita A. Threatt\", \"order\": 59}, {\"cast_id\": 81, \"character\": \"Mining Chief (uncredited)\", \"credit_id\": \"52fe48019251416c750acb1b\", \"gender\": 0, \"id\": 1207276, \"name\": \"Colin Bleasdale\", \"order\": 60}, {\"cast_id\": 82, \"character\": \"Veteran Miner (uncredited)\", \"credit_id\": \"52fe48019251416c750acb1f\", \"gender\": 0, \"id\": 107969, \"name\": \"Mike Bodnar\", \"order\": 61}, {\"cast_id\": 83, \"character\": \"Richard (uncredited)\", \"credit_id\": \"52fe48019251416c750acb23\", \"gender\": 0, \"id\": 1207278, \"name\": \"Matt Clayton\", \"order\": 62}, {\"cast_id\": 84, \"character\": \"Nav\\'i (uncredited)\", \"credit_id\": \"52fe48019251416c750acb27\", \"gender\": 1, \"id\": 147898, \"name\": \"Nicole Dionne\", \"order\": 63}, {\"cast_id\": 85, \"character\": \"Trooper (uncredited)\", \"credit_id\": \"52fe48019251416c750acb2b\", \"gender\": 0, \"id\": 1207280, \"name\": \"Jamie Harrison\", \"order\": 64}, {\"cast_id\": 86, \"character\": \"Trooper (uncredited)\", \"credit_id\": \"52fe48019251416c750acb2f\", \"gender\": 0, \"id\": 1207281, \"name\": \"Allan Henry\", \"order\": 65}, {\"cast_id\": 87, \"character\": \"Ground Technician (uncredited)\", \"credit_id\": \"52fe48019251416c750acb33\", \"gender\": 2, \"id\": 1207282, \"name\": \"Anthony Ingruber\", \"order\": 66}, {\"cast_id\": 88, \"character\": \"Flight Crew Mechanic (uncredited)\", \"credit_id\": \"52fe48019251416c750acb37\", \"gender\": 0, \"id\": 1207283, \"name\": \"Ashley Jeffery\", \"order\": 67}, {\"cast_id\": 14, \"character\": \"Samson Pilot\", \"credit_id\": \"52fe48009251416c750ac9f9\", \"gender\": 0, \"id\": 98216, \"name\": \"Dean Knowsley\", \"order\": 68}, {\"cast_id\": 89, \"character\": \"Trooper (uncredited)\", \"credit_id\": \"52fe48019251416c750acb3b\", \"gender\": 0, \"id\": 1201399, \"name\": \"Joseph Mika-Hunt\", \"order\": 69}, {\"cast_id\": 90, \"character\": \"Banshee (uncredited)\", \"credit_id\": \"52fe48019251416c750acb3f\", \"gender\": 0, \"id\": 236696, \"name\": \"Terry Notary\", \"order\": 70}, {\"cast_id\": 91, \"character\": \"Soldier (uncredited)\", \"credit_id\": \"52fe48019251416c750acb43\", \"gender\": 0, \"id\": 1207287, \"name\": \"Kai Pantano\", \"order\": 71}, {\"cast_id\": 92, \"character\": \"Blast Technician (uncredited)\", \"credit_id\": \"52fe48019251416c750acb47\", \"gender\": 0, \"id\": 1207288, \"name\": \"Logan Pithyou\", \"order\": 72}, {\"cast_id\": 93, \"character\": \"Vindum Raah (uncredited)\", \"credit_id\": \"52fe48019251416c750acb4b\", \"gender\": 0, \"id\": 1207289, \"name\": \"Stuart Pollock\", \"order\": 73}, {\"cast_id\": 94, \"character\": \"Hero (uncredited)\", \"credit_id\": \"52fe48019251416c750acb4f\", \"gender\": 0, \"id\": 584868, \"name\": \"Raja\", \"order\": 74}, {\"cast_id\": 95, \"character\": \"Ops Centreworker (uncredited)\", \"credit_id\": \"52fe48019251416c750acb53\", \"gender\": 0, \"id\": 1207290, \"name\": \"Gareth Ruck\", \"order\": 75}, {\"cast_id\": 96, \"character\": \"Engineer (uncredited)\", \"credit_id\": \"52fe48019251416c750acb57\", \"gender\": 0, \"id\": 1062463, \"name\": \"Rhian Sheehan\", \"order\": 76}, {\"cast_id\": 97, \"character\": \"Col. Quaritch\\'s Mech Suit (uncredited)\", \"credit_id\": \"52fe48019251416c750acb5b\", \"gender\": 0, \"id\": 60656, \"name\": \"T. J. Storm\", \"order\": 77}, {\"cast_id\": 98, \"character\": \"Female Marine (uncredited)\", \"credit_id\": \"52fe48019251416c750acb5f\", \"gender\": 0, \"id\": 1207291, \"name\": \"Jodie Taylor\", \"order\": 78}, {\"cast_id\": 99, \"character\": \"Ikran Clan Leader (uncredited)\", \"credit_id\": \"52fe48019251416c750acb63\", \"gender\": 1, \"id\": 1186027, \"name\": \"Alicia Vela-Bailey\", \"order\": 79}, {\"cast_id\": 100, \"character\": \"Geologist (uncredited)\", \"credit_id\": \"52fe48019251416c750acb67\", \"gender\": 0, \"id\": 1207292, \"name\": \"Richard Whiteside\", \"order\": 80}, {\"cast_id\": 101, \"character\": \"Na\\'vi (uncredited)\", \"credit_id\": \"52fe48019251416c750acb6b\", \"gender\": 0, \"id\": 103259, \"name\": \"Nikie Zambo\", \"order\": 81}, {\"cast_id\": 102, \"character\": \"Ambient Room Tech / Troupe\", \"credit_id\": \"52fe48019251416c750acb6f\", \"gender\": 1, \"id\": 42286, \"name\": \"Julene Renee\", \"order\": 82}]'],\n",
       "      dtype=object)"
      ]
     },
     "execution_count": 6,
     "metadata": {},
     "output_type": "execute_result"
    }
   ],
   "source": [
    "credits.head(1)['cast'].values"
   ]
  },
  {
   "cell_type": "markdown",
   "id": "ee46c129",
   "metadata": {},
   "source": [
    "# Merging / Joining the 2 data frames"
   ]
  },
  {
   "cell_type": "code",
   "execution_count": 7,
   "id": "6f450571",
   "metadata": {},
   "outputs": [
    {
     "data": {
      "text/plain": [
       "(4803, 20)"
      ]
     },
     "execution_count": 7,
     "metadata": {},
     "output_type": "execute_result"
    }
   ],
   "source": [
    "movies.shape"
   ]
  },
  {
   "cell_type": "code",
   "execution_count": 8,
   "id": "9d843ea2",
   "metadata": {},
   "outputs": [
    {
     "data": {
      "text/plain": [
       "(4803, 4)"
      ]
     },
     "execution_count": 8,
     "metadata": {},
     "output_type": "execute_result"
    }
   ],
   "source": [
    "credits.shape"
   ]
  },
  {
   "cell_type": "code",
   "execution_count": 9,
   "id": "0fe79530",
   "metadata": {},
   "outputs": [],
   "source": [
    "# Here we joined the 2 dataframes \n",
    "movie_df=pd.merge(left=movies,right=credits,left_on='id',right_on=\"movie_id\",how=\"inner\")"
   ]
  },
  {
   "cell_type": "code",
   "execution_count": 10,
   "id": "a58348d0",
   "metadata": {},
   "outputs": [
    {
     "data": {
      "text/plain": [
       "(4803, 24)"
      ]
     },
     "execution_count": 10,
     "metadata": {},
     "output_type": "execute_result"
    }
   ],
   "source": [
    "movie_df.shape"
   ]
  },
  {
   "cell_type": "code",
   "execution_count": 11,
   "id": "fdb2b519",
   "metadata": {},
   "outputs": [
    {
     "data": {
      "text/plain": [
       "Index(['budget', 'genres', 'homepage', 'id', 'keywords', 'original_language',\n",
       "       'original_title', 'overview', 'popularity', 'production_companies',\n",
       "       'production_countries', 'release_date', 'revenue', 'runtime',\n",
       "       'spoken_languages', 'status', 'tagline', 'title_x', 'vote_average',\n",
       "       'vote_count', 'movie_id', 'title_y', 'cast', 'crew'],\n",
       "      dtype='object')"
      ]
     },
     "execution_count": 11,
     "metadata": {},
     "output_type": "execute_result"
    }
   ],
   "source": [
    "movie_df.columns\n"
   ]
  },
  {
   "cell_type": "code",
   "execution_count": 12,
   "id": "d2c18536",
   "metadata": {},
   "outputs": [
    {
     "data": {
      "text/html": [
       "<div>\n",
       "<style scoped>\n",
       "    .dataframe tbody tr th:only-of-type {\n",
       "        vertical-align: middle;\n",
       "    }\n",
       "\n",
       "    .dataframe tbody tr th {\n",
       "        vertical-align: top;\n",
       "    }\n",
       "\n",
       "    .dataframe thead th {\n",
       "        text-align: right;\n",
       "    }\n",
       "</style>\n",
       "<table border=\"1\" class=\"dataframe\">\n",
       "  <thead>\n",
       "    <tr style=\"text-align: right;\">\n",
       "      <th></th>\n",
       "      <th>budget</th>\n",
       "      <th>genres</th>\n",
       "      <th>homepage</th>\n",
       "      <th>id</th>\n",
       "      <th>keywords</th>\n",
       "      <th>original_language</th>\n",
       "      <th>original_title</th>\n",
       "      <th>overview</th>\n",
       "      <th>popularity</th>\n",
       "      <th>production_companies</th>\n",
       "      <th>production_countries</th>\n",
       "      <th>release_date</th>\n",
       "      <th>revenue</th>\n",
       "      <th>runtime</th>\n",
       "      <th>spoken_languages</th>\n",
       "      <th>status</th>\n",
       "      <th>tagline</th>\n",
       "      <th>title_x</th>\n",
       "      <th>vote_average</th>\n",
       "      <th>vote_count</th>\n",
       "      <th>movie_id</th>\n",
       "      <th>title_y</th>\n",
       "      <th>cast</th>\n",
       "      <th>crew</th>\n",
       "    </tr>\n",
       "  </thead>\n",
       "  <tbody>\n",
       "    <tr>\n",
       "      <th>0</th>\n",
       "      <td>237000000</td>\n",
       "      <td>[{\"id\": 28, \"name\": \"Action\"}, {\"id\": 12, \"nam...</td>\n",
       "      <td>http://www.avatarmovie.com/</td>\n",
       "      <td>19995</td>\n",
       "      <td>[{\"id\": 1463, \"name\": \"culture clash\"}, {\"id\":...</td>\n",
       "      <td>en</td>\n",
       "      <td>Avatar</td>\n",
       "      <td>In the 22nd century, a paraplegic Marine is di...</td>\n",
       "      <td>150.437577</td>\n",
       "      <td>[{\"name\": \"Ingenious Film Partners\", \"id\": 289...</td>\n",
       "      <td>[{\"iso_3166_1\": \"US\", \"name\": \"United States o...</td>\n",
       "      <td>2009-12-10</td>\n",
       "      <td>2787965087</td>\n",
       "      <td>162.0</td>\n",
       "      <td>[{\"iso_639_1\": \"en\", \"name\": \"English\"}, {\"iso...</td>\n",
       "      <td>Released</td>\n",
       "      <td>Enter the World of Pandora.</td>\n",
       "      <td>Avatar</td>\n",
       "      <td>7.2</td>\n",
       "      <td>11800</td>\n",
       "      <td>19995</td>\n",
       "      <td>Avatar</td>\n",
       "      <td>[{\"cast_id\": 242, \"character\": \"Jake Sully\", \"...</td>\n",
       "      <td>[{\"credit_id\": \"52fe48009251416c750aca23\", \"de...</td>\n",
       "    </tr>\n",
       "    <tr>\n",
       "      <th>1</th>\n",
       "      <td>300000000</td>\n",
       "      <td>[{\"id\": 12, \"name\": \"Adventure\"}, {\"id\": 14, \"...</td>\n",
       "      <td>http://disney.go.com/disneypictures/pirates/</td>\n",
       "      <td>285</td>\n",
       "      <td>[{\"id\": 270, \"name\": \"ocean\"}, {\"id\": 726, \"na...</td>\n",
       "      <td>en</td>\n",
       "      <td>Pirates of the Caribbean: At World's End</td>\n",
       "      <td>Captain Barbossa, long believed to be dead, ha...</td>\n",
       "      <td>139.082615</td>\n",
       "      <td>[{\"name\": \"Walt Disney Pictures\", \"id\": 2}, {\"...</td>\n",
       "      <td>[{\"iso_3166_1\": \"US\", \"name\": \"United States o...</td>\n",
       "      <td>2007-05-19</td>\n",
       "      <td>961000000</td>\n",
       "      <td>169.0</td>\n",
       "      <td>[{\"iso_639_1\": \"en\", \"name\": \"English\"}]</td>\n",
       "      <td>Released</td>\n",
       "      <td>At the end of the world, the adventure begins.</td>\n",
       "      <td>Pirates of the Caribbean: At World's End</td>\n",
       "      <td>6.9</td>\n",
       "      <td>4500</td>\n",
       "      <td>285</td>\n",
       "      <td>Pirates of the Caribbean: At World's End</td>\n",
       "      <td>[{\"cast_id\": 4, \"character\": \"Captain Jack Spa...</td>\n",
       "      <td>[{\"credit_id\": \"52fe4232c3a36847f800b579\", \"de...</td>\n",
       "    </tr>\n",
       "    <tr>\n",
       "      <th>2</th>\n",
       "      <td>245000000</td>\n",
       "      <td>[{\"id\": 28, \"name\": \"Action\"}, {\"id\": 12, \"nam...</td>\n",
       "      <td>http://www.sonypictures.com/movies/spectre/</td>\n",
       "      <td>206647</td>\n",
       "      <td>[{\"id\": 470, \"name\": \"spy\"}, {\"id\": 818, \"name...</td>\n",
       "      <td>en</td>\n",
       "      <td>Spectre</td>\n",
       "      <td>A cryptic message from Bond’s past sends him o...</td>\n",
       "      <td>107.376788</td>\n",
       "      <td>[{\"name\": \"Columbia Pictures\", \"id\": 5}, {\"nam...</td>\n",
       "      <td>[{\"iso_3166_1\": \"GB\", \"name\": \"United Kingdom\"...</td>\n",
       "      <td>2015-10-26</td>\n",
       "      <td>880674609</td>\n",
       "      <td>148.0</td>\n",
       "      <td>[{\"iso_639_1\": \"fr\", \"name\": \"Fran\\u00e7ais\"},...</td>\n",
       "      <td>Released</td>\n",
       "      <td>A Plan No One Escapes</td>\n",
       "      <td>Spectre</td>\n",
       "      <td>6.3</td>\n",
       "      <td>4466</td>\n",
       "      <td>206647</td>\n",
       "      <td>Spectre</td>\n",
       "      <td>[{\"cast_id\": 1, \"character\": \"James Bond\", \"cr...</td>\n",
       "      <td>[{\"credit_id\": \"54805967c3a36829b5002c41\", \"de...</td>\n",
       "    </tr>\n",
       "    <tr>\n",
       "      <th>3</th>\n",
       "      <td>250000000</td>\n",
       "      <td>[{\"id\": 28, \"name\": \"Action\"}, {\"id\": 80, \"nam...</td>\n",
       "      <td>http://www.thedarkknightrises.com/</td>\n",
       "      <td>49026</td>\n",
       "      <td>[{\"id\": 849, \"name\": \"dc comics\"}, {\"id\": 853,...</td>\n",
       "      <td>en</td>\n",
       "      <td>The Dark Knight Rises</td>\n",
       "      <td>Following the death of District Attorney Harve...</td>\n",
       "      <td>112.312950</td>\n",
       "      <td>[{\"name\": \"Legendary Pictures\", \"id\": 923}, {\"...</td>\n",
       "      <td>[{\"iso_3166_1\": \"US\", \"name\": \"United States o...</td>\n",
       "      <td>2012-07-16</td>\n",
       "      <td>1084939099</td>\n",
       "      <td>165.0</td>\n",
       "      <td>[{\"iso_639_1\": \"en\", \"name\": \"English\"}]</td>\n",
       "      <td>Released</td>\n",
       "      <td>The Legend Ends</td>\n",
       "      <td>The Dark Knight Rises</td>\n",
       "      <td>7.6</td>\n",
       "      <td>9106</td>\n",
       "      <td>49026</td>\n",
       "      <td>The Dark Knight Rises</td>\n",
       "      <td>[{\"cast_id\": 2, \"character\": \"Bruce Wayne / Ba...</td>\n",
       "      <td>[{\"credit_id\": \"52fe4781c3a36847f81398c3\", \"de...</td>\n",
       "    </tr>\n",
       "    <tr>\n",
       "      <th>4</th>\n",
       "      <td>260000000</td>\n",
       "      <td>[{\"id\": 28, \"name\": \"Action\"}, {\"id\": 12, \"nam...</td>\n",
       "      <td>http://movies.disney.com/john-carter</td>\n",
       "      <td>49529</td>\n",
       "      <td>[{\"id\": 818, \"name\": \"based on novel\"}, {\"id\":...</td>\n",
       "      <td>en</td>\n",
       "      <td>John Carter</td>\n",
       "      <td>John Carter is a war-weary, former military ca...</td>\n",
       "      <td>43.926995</td>\n",
       "      <td>[{\"name\": \"Walt Disney Pictures\", \"id\": 2}]</td>\n",
       "      <td>[{\"iso_3166_1\": \"US\", \"name\": \"United States o...</td>\n",
       "      <td>2012-03-07</td>\n",
       "      <td>284139100</td>\n",
       "      <td>132.0</td>\n",
       "      <td>[{\"iso_639_1\": \"en\", \"name\": \"English\"}]</td>\n",
       "      <td>Released</td>\n",
       "      <td>Lost in our world, found in another.</td>\n",
       "      <td>John Carter</td>\n",
       "      <td>6.1</td>\n",
       "      <td>2124</td>\n",
       "      <td>49529</td>\n",
       "      <td>John Carter</td>\n",
       "      <td>[{\"cast_id\": 5, \"character\": \"John Carter\", \"c...</td>\n",
       "      <td>[{\"credit_id\": \"52fe479ac3a36847f813eaa3\", \"de...</td>\n",
       "    </tr>\n",
       "  </tbody>\n",
       "</table>\n",
       "</div>"
      ],
      "text/plain": [
       "      budget                                             genres  \\\n",
       "0  237000000  [{\"id\": 28, \"name\": \"Action\"}, {\"id\": 12, \"nam...   \n",
       "1  300000000  [{\"id\": 12, \"name\": \"Adventure\"}, {\"id\": 14, \"...   \n",
       "2  245000000  [{\"id\": 28, \"name\": \"Action\"}, {\"id\": 12, \"nam...   \n",
       "3  250000000  [{\"id\": 28, \"name\": \"Action\"}, {\"id\": 80, \"nam...   \n",
       "4  260000000  [{\"id\": 28, \"name\": \"Action\"}, {\"id\": 12, \"nam...   \n",
       "\n",
       "                                       homepage      id  \\\n",
       "0                   http://www.avatarmovie.com/   19995   \n",
       "1  http://disney.go.com/disneypictures/pirates/     285   \n",
       "2   http://www.sonypictures.com/movies/spectre/  206647   \n",
       "3            http://www.thedarkknightrises.com/   49026   \n",
       "4          http://movies.disney.com/john-carter   49529   \n",
       "\n",
       "                                            keywords original_language  \\\n",
       "0  [{\"id\": 1463, \"name\": \"culture clash\"}, {\"id\":...                en   \n",
       "1  [{\"id\": 270, \"name\": \"ocean\"}, {\"id\": 726, \"na...                en   \n",
       "2  [{\"id\": 470, \"name\": \"spy\"}, {\"id\": 818, \"name...                en   \n",
       "3  [{\"id\": 849, \"name\": \"dc comics\"}, {\"id\": 853,...                en   \n",
       "4  [{\"id\": 818, \"name\": \"based on novel\"}, {\"id\":...                en   \n",
       "\n",
       "                             original_title  \\\n",
       "0                                    Avatar   \n",
       "1  Pirates of the Caribbean: At World's End   \n",
       "2                                   Spectre   \n",
       "3                     The Dark Knight Rises   \n",
       "4                               John Carter   \n",
       "\n",
       "                                            overview  popularity  \\\n",
       "0  In the 22nd century, a paraplegic Marine is di...  150.437577   \n",
       "1  Captain Barbossa, long believed to be dead, ha...  139.082615   \n",
       "2  A cryptic message from Bond’s past sends him o...  107.376788   \n",
       "3  Following the death of District Attorney Harve...  112.312950   \n",
       "4  John Carter is a war-weary, former military ca...   43.926995   \n",
       "\n",
       "                                production_companies  \\\n",
       "0  [{\"name\": \"Ingenious Film Partners\", \"id\": 289...   \n",
       "1  [{\"name\": \"Walt Disney Pictures\", \"id\": 2}, {\"...   \n",
       "2  [{\"name\": \"Columbia Pictures\", \"id\": 5}, {\"nam...   \n",
       "3  [{\"name\": \"Legendary Pictures\", \"id\": 923}, {\"...   \n",
       "4        [{\"name\": \"Walt Disney Pictures\", \"id\": 2}]   \n",
       "\n",
       "                                production_countries release_date     revenue  \\\n",
       "0  [{\"iso_3166_1\": \"US\", \"name\": \"United States o...   2009-12-10  2787965087   \n",
       "1  [{\"iso_3166_1\": \"US\", \"name\": \"United States o...   2007-05-19   961000000   \n",
       "2  [{\"iso_3166_1\": \"GB\", \"name\": \"United Kingdom\"...   2015-10-26   880674609   \n",
       "3  [{\"iso_3166_1\": \"US\", \"name\": \"United States o...   2012-07-16  1084939099   \n",
       "4  [{\"iso_3166_1\": \"US\", \"name\": \"United States o...   2012-03-07   284139100   \n",
       "\n",
       "   runtime                                   spoken_languages    status  \\\n",
       "0    162.0  [{\"iso_639_1\": \"en\", \"name\": \"English\"}, {\"iso...  Released   \n",
       "1    169.0           [{\"iso_639_1\": \"en\", \"name\": \"English\"}]  Released   \n",
       "2    148.0  [{\"iso_639_1\": \"fr\", \"name\": \"Fran\\u00e7ais\"},...  Released   \n",
       "3    165.0           [{\"iso_639_1\": \"en\", \"name\": \"English\"}]  Released   \n",
       "4    132.0           [{\"iso_639_1\": \"en\", \"name\": \"English\"}]  Released   \n",
       "\n",
       "                                          tagline  \\\n",
       "0                     Enter the World of Pandora.   \n",
       "1  At the end of the world, the adventure begins.   \n",
       "2                           A Plan No One Escapes   \n",
       "3                                 The Legend Ends   \n",
       "4            Lost in our world, found in another.   \n",
       "\n",
       "                                    title_x  vote_average  vote_count  \\\n",
       "0                                    Avatar           7.2       11800   \n",
       "1  Pirates of the Caribbean: At World's End           6.9        4500   \n",
       "2                                   Spectre           6.3        4466   \n",
       "3                     The Dark Knight Rises           7.6        9106   \n",
       "4                               John Carter           6.1        2124   \n",
       "\n",
       "   movie_id                                   title_y  \\\n",
       "0     19995                                    Avatar   \n",
       "1       285  Pirates of the Caribbean: At World's End   \n",
       "2    206647                                   Spectre   \n",
       "3     49026                     The Dark Knight Rises   \n",
       "4     49529                               John Carter   \n",
       "\n",
       "                                                cast  \\\n",
       "0  [{\"cast_id\": 242, \"character\": \"Jake Sully\", \"...   \n",
       "1  [{\"cast_id\": 4, \"character\": \"Captain Jack Spa...   \n",
       "2  [{\"cast_id\": 1, \"character\": \"James Bond\", \"cr...   \n",
       "3  [{\"cast_id\": 2, \"character\": \"Bruce Wayne / Ba...   \n",
       "4  [{\"cast_id\": 5, \"character\": \"John Carter\", \"c...   \n",
       "\n",
       "                                                crew  \n",
       "0  [{\"credit_id\": \"52fe48009251416c750aca23\", \"de...  \n",
       "1  [{\"credit_id\": \"52fe4232c3a36847f800b579\", \"de...  \n",
       "2  [{\"credit_id\": \"54805967c3a36829b5002c41\", \"de...  \n",
       "3  [{\"credit_id\": \"52fe4781c3a36847f81398c3\", \"de...  \n",
       "4  [{\"credit_id\": \"52fe479ac3a36847f813eaa3\", \"de...  "
      ]
     },
     "execution_count": 12,
     "metadata": {},
     "output_type": "execute_result"
    }
   ],
   "source": [
    "movie_df.head()"
   ]
  },
  {
   "cell_type": "code",
   "execution_count": 13,
   "id": "dedb5915",
   "metadata": {},
   "outputs": [],
   "source": [
    "# Since we merged and formed a new dataframe(movie_df),the title column were present  on both the  previous \n",
    "# data frames (\"movies\" and \"credits\") .So in the new data frame there are 2 title columns named as (title_x and title_y)4\n",
    "# and both the columns have same values so we can remove one column ie (title_x or title_y)"
   ]
  },
  {
   "cell_type": "code",
   "execution_count": 14,
   "id": "e359667b",
   "metadata": {},
   "outputs": [],
   "source": [
    "movie_df.drop(columns='title_y',inplace=True)"
   ]
  },
  {
   "cell_type": "code",
   "execution_count": 15,
   "id": "3fd85496",
   "metadata": {},
   "outputs": [],
   "source": [
    "movie_df.rename(columns={'title_x':\"title\"},inplace=True)"
   ]
  },
  {
   "cell_type": "markdown",
   "id": "6ff8619d",
   "metadata": {},
   "source": [
    "# Dropping the unnecessary columns "
   ]
  },
  {
   "cell_type": "code",
   "execution_count": 16,
   "id": "56fd7304",
   "metadata": {},
   "outputs": [
    {
     "data": {
      "text/html": [
       "<div>\n",
       "<style scoped>\n",
       "    .dataframe tbody tr th:only-of-type {\n",
       "        vertical-align: middle;\n",
       "    }\n",
       "\n",
       "    .dataframe tbody tr th {\n",
       "        vertical-align: top;\n",
       "    }\n",
       "\n",
       "    .dataframe thead th {\n",
       "        text-align: right;\n",
       "    }\n",
       "</style>\n",
       "<table border=\"1\" class=\"dataframe\">\n",
       "  <thead>\n",
       "    <tr style=\"text-align: right;\">\n",
       "      <th></th>\n",
       "      <th>budget</th>\n",
       "      <th>genres</th>\n",
       "      <th>homepage</th>\n",
       "      <th>id</th>\n",
       "      <th>keywords</th>\n",
       "      <th>original_language</th>\n",
       "      <th>original_title</th>\n",
       "      <th>overview</th>\n",
       "      <th>popularity</th>\n",
       "      <th>production_companies</th>\n",
       "      <th>production_countries</th>\n",
       "      <th>release_date</th>\n",
       "      <th>revenue</th>\n",
       "      <th>runtime</th>\n",
       "      <th>spoken_languages</th>\n",
       "      <th>status</th>\n",
       "      <th>tagline</th>\n",
       "      <th>title</th>\n",
       "      <th>vote_average</th>\n",
       "      <th>vote_count</th>\n",
       "      <th>movie_id</th>\n",
       "      <th>cast</th>\n",
       "      <th>crew</th>\n",
       "    </tr>\n",
       "  </thead>\n",
       "  <tbody>\n",
       "    <tr>\n",
       "      <th>0</th>\n",
       "      <td>237000000</td>\n",
       "      <td>[{\"id\": 28, \"name\": \"Action\"}, {\"id\": 12, \"nam...</td>\n",
       "      <td>http://www.avatarmovie.com/</td>\n",
       "      <td>19995</td>\n",
       "      <td>[{\"id\": 1463, \"name\": \"culture clash\"}, {\"id\":...</td>\n",
       "      <td>en</td>\n",
       "      <td>Avatar</td>\n",
       "      <td>In the 22nd century, a paraplegic Marine is di...</td>\n",
       "      <td>150.437577</td>\n",
       "      <td>[{\"name\": \"Ingenious Film Partners\", \"id\": 289...</td>\n",
       "      <td>[{\"iso_3166_1\": \"US\", \"name\": \"United States o...</td>\n",
       "      <td>2009-12-10</td>\n",
       "      <td>2787965087</td>\n",
       "      <td>162.0</td>\n",
       "      <td>[{\"iso_639_1\": \"en\", \"name\": \"English\"}, {\"iso...</td>\n",
       "      <td>Released</td>\n",
       "      <td>Enter the World of Pandora.</td>\n",
       "      <td>Avatar</td>\n",
       "      <td>7.2</td>\n",
       "      <td>11800</td>\n",
       "      <td>19995</td>\n",
       "      <td>[{\"cast_id\": 242, \"character\": \"Jake Sully\", \"...</td>\n",
       "      <td>[{\"credit_id\": \"52fe48009251416c750aca23\", \"de...</td>\n",
       "    </tr>\n",
       "    <tr>\n",
       "      <th>1</th>\n",
       "      <td>300000000</td>\n",
       "      <td>[{\"id\": 12, \"name\": \"Adventure\"}, {\"id\": 14, \"...</td>\n",
       "      <td>http://disney.go.com/disneypictures/pirates/</td>\n",
       "      <td>285</td>\n",
       "      <td>[{\"id\": 270, \"name\": \"ocean\"}, {\"id\": 726, \"na...</td>\n",
       "      <td>en</td>\n",
       "      <td>Pirates of the Caribbean: At World's End</td>\n",
       "      <td>Captain Barbossa, long believed to be dead, ha...</td>\n",
       "      <td>139.082615</td>\n",
       "      <td>[{\"name\": \"Walt Disney Pictures\", \"id\": 2}, {\"...</td>\n",
       "      <td>[{\"iso_3166_1\": \"US\", \"name\": \"United States o...</td>\n",
       "      <td>2007-05-19</td>\n",
       "      <td>961000000</td>\n",
       "      <td>169.0</td>\n",
       "      <td>[{\"iso_639_1\": \"en\", \"name\": \"English\"}]</td>\n",
       "      <td>Released</td>\n",
       "      <td>At the end of the world, the adventure begins.</td>\n",
       "      <td>Pirates of the Caribbean: At World's End</td>\n",
       "      <td>6.9</td>\n",
       "      <td>4500</td>\n",
       "      <td>285</td>\n",
       "      <td>[{\"cast_id\": 4, \"character\": \"Captain Jack Spa...</td>\n",
       "      <td>[{\"credit_id\": \"52fe4232c3a36847f800b579\", \"de...</td>\n",
       "    </tr>\n",
       "    <tr>\n",
       "      <th>2</th>\n",
       "      <td>245000000</td>\n",
       "      <td>[{\"id\": 28, \"name\": \"Action\"}, {\"id\": 12, \"nam...</td>\n",
       "      <td>http://www.sonypictures.com/movies/spectre/</td>\n",
       "      <td>206647</td>\n",
       "      <td>[{\"id\": 470, \"name\": \"spy\"}, {\"id\": 818, \"name...</td>\n",
       "      <td>en</td>\n",
       "      <td>Spectre</td>\n",
       "      <td>A cryptic message from Bond’s past sends him o...</td>\n",
       "      <td>107.376788</td>\n",
       "      <td>[{\"name\": \"Columbia Pictures\", \"id\": 5}, {\"nam...</td>\n",
       "      <td>[{\"iso_3166_1\": \"GB\", \"name\": \"United Kingdom\"...</td>\n",
       "      <td>2015-10-26</td>\n",
       "      <td>880674609</td>\n",
       "      <td>148.0</td>\n",
       "      <td>[{\"iso_639_1\": \"fr\", \"name\": \"Fran\\u00e7ais\"},...</td>\n",
       "      <td>Released</td>\n",
       "      <td>A Plan No One Escapes</td>\n",
       "      <td>Spectre</td>\n",
       "      <td>6.3</td>\n",
       "      <td>4466</td>\n",
       "      <td>206647</td>\n",
       "      <td>[{\"cast_id\": 1, \"character\": \"James Bond\", \"cr...</td>\n",
       "      <td>[{\"credit_id\": \"54805967c3a36829b5002c41\", \"de...</td>\n",
       "    </tr>\n",
       "  </tbody>\n",
       "</table>\n",
       "</div>"
      ],
      "text/plain": [
       "      budget                                             genres  \\\n",
       "0  237000000  [{\"id\": 28, \"name\": \"Action\"}, {\"id\": 12, \"nam...   \n",
       "1  300000000  [{\"id\": 12, \"name\": \"Adventure\"}, {\"id\": 14, \"...   \n",
       "2  245000000  [{\"id\": 28, \"name\": \"Action\"}, {\"id\": 12, \"nam...   \n",
       "\n",
       "                                       homepage      id  \\\n",
       "0                   http://www.avatarmovie.com/   19995   \n",
       "1  http://disney.go.com/disneypictures/pirates/     285   \n",
       "2   http://www.sonypictures.com/movies/spectre/  206647   \n",
       "\n",
       "                                            keywords original_language  \\\n",
       "0  [{\"id\": 1463, \"name\": \"culture clash\"}, {\"id\":...                en   \n",
       "1  [{\"id\": 270, \"name\": \"ocean\"}, {\"id\": 726, \"na...                en   \n",
       "2  [{\"id\": 470, \"name\": \"spy\"}, {\"id\": 818, \"name...                en   \n",
       "\n",
       "                             original_title  \\\n",
       "0                                    Avatar   \n",
       "1  Pirates of the Caribbean: At World's End   \n",
       "2                                   Spectre   \n",
       "\n",
       "                                            overview  popularity  \\\n",
       "0  In the 22nd century, a paraplegic Marine is di...  150.437577   \n",
       "1  Captain Barbossa, long believed to be dead, ha...  139.082615   \n",
       "2  A cryptic message from Bond’s past sends him o...  107.376788   \n",
       "\n",
       "                                production_companies  \\\n",
       "0  [{\"name\": \"Ingenious Film Partners\", \"id\": 289...   \n",
       "1  [{\"name\": \"Walt Disney Pictures\", \"id\": 2}, {\"...   \n",
       "2  [{\"name\": \"Columbia Pictures\", \"id\": 5}, {\"nam...   \n",
       "\n",
       "                                production_countries release_date     revenue  \\\n",
       "0  [{\"iso_3166_1\": \"US\", \"name\": \"United States o...   2009-12-10  2787965087   \n",
       "1  [{\"iso_3166_1\": \"US\", \"name\": \"United States o...   2007-05-19   961000000   \n",
       "2  [{\"iso_3166_1\": \"GB\", \"name\": \"United Kingdom\"...   2015-10-26   880674609   \n",
       "\n",
       "   runtime                                   spoken_languages    status  \\\n",
       "0    162.0  [{\"iso_639_1\": \"en\", \"name\": \"English\"}, {\"iso...  Released   \n",
       "1    169.0           [{\"iso_639_1\": \"en\", \"name\": \"English\"}]  Released   \n",
       "2    148.0  [{\"iso_639_1\": \"fr\", \"name\": \"Fran\\u00e7ais\"},...  Released   \n",
       "\n",
       "                                          tagline  \\\n",
       "0                     Enter the World of Pandora.   \n",
       "1  At the end of the world, the adventure begins.   \n",
       "2                           A Plan No One Escapes   \n",
       "\n",
       "                                      title  vote_average  vote_count  \\\n",
       "0                                    Avatar           7.2       11800   \n",
       "1  Pirates of the Caribbean: At World's End           6.9        4500   \n",
       "2                                   Spectre           6.3        4466   \n",
       "\n",
       "   movie_id                                               cast  \\\n",
       "0     19995  [{\"cast_id\": 242, \"character\": \"Jake Sully\", \"...   \n",
       "1       285  [{\"cast_id\": 4, \"character\": \"Captain Jack Spa...   \n",
       "2    206647  [{\"cast_id\": 1, \"character\": \"James Bond\", \"cr...   \n",
       "\n",
       "                                                crew  \n",
       "0  [{\"credit_id\": \"52fe48009251416c750aca23\", \"de...  \n",
       "1  [{\"credit_id\": \"52fe4232c3a36847f800b579\", \"de...  \n",
       "2  [{\"credit_id\": \"54805967c3a36829b5002c41\", \"de...  "
      ]
     },
     "execution_count": 16,
     "metadata": {},
     "output_type": "execute_result"
    }
   ],
   "source": [
    "movie_df.head(3)"
   ]
  },
  {
   "cell_type": "code",
   "execution_count": 17,
   "id": "d2ff27bd",
   "metadata": {},
   "outputs": [],
   "source": [
    "# The list of unnecesaary columns to remove are:\n",
    "# budget,homepage,original_language,original_title,popularity,production_companies,production_countries,release_date,\n",
    "# revenue,runtime,spoken_languages,status,tagline,vote_average,vote_count,movie_id"
   ]
  },
  {
   "cell_type": "code",
   "execution_count": 18,
   "id": "cbc8265a",
   "metadata": {},
   "outputs": [],
   "source": [
    "# The list of important columns are:\n",
    "# genres,id,keywords,title,overview,cast,crew"
   ]
  },
  {
   "cell_type": "code",
   "execution_count": 19,
   "id": "b2577fa5",
   "metadata": {},
   "outputs": [],
   "source": [
    "movie_df.drop(columns=[\"budget\",\"homepage\",\"original_language\",\"original_title\",\"popularity\",\"production_companies\",\n",
    "                       \"production_countries\",\"release_date\",\"revenue\",\"runtime\",\"spoken_languages\",\"status\",\"tagline\",\n",
    "                      \"vote_average\",\"vote_count\",\"movie_id\"],inplace=True)"
   ]
  },
  {
   "cell_type": "code",
   "execution_count": 20,
   "id": "9771a974",
   "metadata": {},
   "outputs": [
    {
     "data": {
      "text/plain": [
       "(4803, 7)"
      ]
     },
     "execution_count": 20,
     "metadata": {},
     "output_type": "execute_result"
    }
   ],
   "source": [
    "movie_df.shape"
   ]
  },
  {
   "cell_type": "code",
   "execution_count": 21,
   "id": "815e2b99",
   "metadata": {},
   "outputs": [
    {
     "data": {
      "text/html": [
       "<div>\n",
       "<style scoped>\n",
       "    .dataframe tbody tr th:only-of-type {\n",
       "        vertical-align: middle;\n",
       "    }\n",
       "\n",
       "    .dataframe tbody tr th {\n",
       "        vertical-align: top;\n",
       "    }\n",
       "\n",
       "    .dataframe thead th {\n",
       "        text-align: right;\n",
       "    }\n",
       "</style>\n",
       "<table border=\"1\" class=\"dataframe\">\n",
       "  <thead>\n",
       "    <tr style=\"text-align: right;\">\n",
       "      <th></th>\n",
       "      <th>genres</th>\n",
       "      <th>id</th>\n",
       "      <th>keywords</th>\n",
       "      <th>overview</th>\n",
       "      <th>title</th>\n",
       "      <th>cast</th>\n",
       "      <th>crew</th>\n",
       "    </tr>\n",
       "  </thead>\n",
       "  <tbody>\n",
       "    <tr>\n",
       "      <th>0</th>\n",
       "      <td>[{\"id\": 28, \"name\": \"Action\"}, {\"id\": 12, \"nam...</td>\n",
       "      <td>19995</td>\n",
       "      <td>[{\"id\": 1463, \"name\": \"culture clash\"}, {\"id\":...</td>\n",
       "      <td>In the 22nd century, a paraplegic Marine is di...</td>\n",
       "      <td>Avatar</td>\n",
       "      <td>[{\"cast_id\": 242, \"character\": \"Jake Sully\", \"...</td>\n",
       "      <td>[{\"credit_id\": \"52fe48009251416c750aca23\", \"de...</td>\n",
       "    </tr>\n",
       "  </tbody>\n",
       "</table>\n",
       "</div>"
      ],
      "text/plain": [
       "                                              genres     id  \\\n",
       "0  [{\"id\": 28, \"name\": \"Action\"}, {\"id\": 12, \"nam...  19995   \n",
       "\n",
       "                                            keywords  \\\n",
       "0  [{\"id\": 1463, \"name\": \"culture clash\"}, {\"id\":...   \n",
       "\n",
       "                                            overview   title  \\\n",
       "0  In the 22nd century, a paraplegic Marine is di...  Avatar   \n",
       "\n",
       "                                                cast  \\\n",
       "0  [{\"cast_id\": 242, \"character\": \"Jake Sully\", \"...   \n",
       "\n",
       "                                                crew  \n",
       "0  [{\"credit_id\": \"52fe48009251416c750aca23\", \"de...  "
      ]
     },
     "execution_count": 21,
     "metadata": {},
     "output_type": "execute_result"
    }
   ],
   "source": [
    "movie_df.head(1)"
   ]
  },
  {
   "cell_type": "markdown",
   "id": "caf590ae",
   "metadata": {},
   "source": [
    "# Handling missing data"
   ]
  },
  {
   "cell_type": "code",
   "execution_count": 22,
   "id": "825c3269",
   "metadata": {},
   "outputs": [
    {
     "data": {
      "text/plain": [
       "genres      0\n",
       "id          0\n",
       "keywords    0\n",
       "overview    3\n",
       "title       0\n",
       "cast        0\n",
       "crew        0\n",
       "dtype: int64"
      ]
     },
     "execution_count": 22,
     "metadata": {},
     "output_type": "execute_result"
    }
   ],
   "source": [
    "movie_df.isnull().sum()"
   ]
  },
  {
   "cell_type": "code",
   "execution_count": 23,
   "id": "1566a71e",
   "metadata": {},
   "outputs": [],
   "source": [
    "# Dropping the entire rows that has null values for overview(i.e 3 records)\n",
    "movie_df.dropna(subset=\"overview\",inplace=True)"
   ]
  },
  {
   "cell_type": "code",
   "execution_count": 24,
   "id": "2fa2f065",
   "metadata": {},
   "outputs": [
    {
     "data": {
      "text/plain": [
       "genres      0\n",
       "id          0\n",
       "keywords    0\n",
       "overview    0\n",
       "title       0\n",
       "cast        0\n",
       "crew        0\n",
       "dtype: int64"
      ]
     },
     "execution_count": 24,
     "metadata": {},
     "output_type": "execute_result"
    }
   ],
   "source": [
    "movie_df.isnull().sum()"
   ]
  },
  {
   "cell_type": "code",
   "execution_count": 25,
   "id": "175957b2",
   "metadata": {},
   "outputs": [
    {
     "data": {
      "text/plain": [
       "(4800, 7)"
      ]
     },
     "execution_count": 25,
     "metadata": {},
     "output_type": "execute_result"
    }
   ],
   "source": [
    "movie_df.shape"
   ]
  },
  {
   "cell_type": "markdown",
   "id": "1aba4cb6",
   "metadata": {},
   "source": [
    "# Checking for duplicate values"
   ]
  },
  {
   "cell_type": "code",
   "execution_count": 26,
   "id": "551c436d",
   "metadata": {},
   "outputs": [
    {
     "data": {
      "text/plain": [
       "0"
      ]
     },
     "execution_count": 26,
     "metadata": {},
     "output_type": "execute_result"
    }
   ],
   "source": [
    "movie_df.duplicated().sum()"
   ]
  },
  {
   "cell_type": "markdown",
   "id": "cddcfa1c",
   "metadata": {},
   "source": [
    "# Preprocessing genres column"
   ]
  },
  {
   "cell_type": "code",
   "execution_count": 27,
   "id": "c8d94fcc",
   "metadata": {},
   "outputs": [
    {
     "name": "stdout",
     "output_type": "stream",
     "text": [
      "['[{\"id\": 28, \"name\": \"Action\"}, {\"id\": 12, \"name\": \"Adventure\"}, {\"id\": 14, \"name\": \"Fantasy\"}, {\"id\": 878, \"name\": \"Science Fiction\"}]']\n"
     ]
    }
   ],
   "source": [
    "print(movie_df['genres'].values[:1])"
   ]
  },
  {
   "cell_type": "code",
   "execution_count": 28,
   "id": "c0a4747d",
   "metadata": {},
   "outputs": [],
   "source": [
    "# since the genres column is in the format : [{\"id\": 28, \"name\": \"Action\"}, {\"id\": 12, \"name\": \"Adventure\"}, \n",
    "#                                            {\"id\": 14, \"name\": \"Fantasy\"}, {\"id\": 878, \"name\": \"Science Fiction\"}]\n",
    "# But we want to convert it into the format of:\n",
    "#[\"Action\",\"Adventure\",\"Fantasy\",\"Science Fiction\"]\n",
    "# So our next step will be to extract it"
   ]
  },
  {
   "cell_type": "code",
   "execution_count": 29,
   "id": "244aec11",
   "metadata": {},
   "outputs": [
    {
     "data": {
      "text/html": [
       "<div>\n",
       "<style scoped>\n",
       "    .dataframe tbody tr th:only-of-type {\n",
       "        vertical-align: middle;\n",
       "    }\n",
       "\n",
       "    .dataframe tbody tr th {\n",
       "        vertical-align: top;\n",
       "    }\n",
       "\n",
       "    .dataframe thead th {\n",
       "        text-align: right;\n",
       "    }\n",
       "</style>\n",
       "<table border=\"1\" class=\"dataframe\">\n",
       "  <thead>\n",
       "    <tr style=\"text-align: right;\">\n",
       "      <th></th>\n",
       "      <th>genres</th>\n",
       "      <th>id</th>\n",
       "      <th>keywords</th>\n",
       "      <th>overview</th>\n",
       "      <th>title</th>\n",
       "      <th>cast</th>\n",
       "      <th>crew</th>\n",
       "    </tr>\n",
       "  </thead>\n",
       "  <tbody>\n",
       "    <tr>\n",
       "      <th>0</th>\n",
       "      <td>[{\"id\": 28, \"name\": \"Action\"}, {\"id\": 12, \"nam...</td>\n",
       "      <td>19995</td>\n",
       "      <td>[{\"id\": 1463, \"name\": \"culture clash\"}, {\"id\":...</td>\n",
       "      <td>In the 22nd century, a paraplegic Marine is di...</td>\n",
       "      <td>Avatar</td>\n",
       "      <td>[{\"cast_id\": 242, \"character\": \"Jake Sully\", \"...</td>\n",
       "      <td>[{\"credit_id\": \"52fe48009251416c750aca23\", \"de...</td>\n",
       "    </tr>\n",
       "    <tr>\n",
       "      <th>1</th>\n",
       "      <td>[{\"id\": 12, \"name\": \"Adventure\"}, {\"id\": 14, \"...</td>\n",
       "      <td>285</td>\n",
       "      <td>[{\"id\": 270, \"name\": \"ocean\"}, {\"id\": 726, \"na...</td>\n",
       "      <td>Captain Barbossa, long believed to be dead, ha...</td>\n",
       "      <td>Pirates of the Caribbean: At World's End</td>\n",
       "      <td>[{\"cast_id\": 4, \"character\": \"Captain Jack Spa...</td>\n",
       "      <td>[{\"credit_id\": \"52fe4232c3a36847f800b579\", \"de...</td>\n",
       "    </tr>\n",
       "    <tr>\n",
       "      <th>2</th>\n",
       "      <td>[{\"id\": 28, \"name\": \"Action\"}, {\"id\": 12, \"nam...</td>\n",
       "      <td>206647</td>\n",
       "      <td>[{\"id\": 470, \"name\": \"spy\"}, {\"id\": 818, \"name...</td>\n",
       "      <td>A cryptic message from Bond’s past sends him o...</td>\n",
       "      <td>Spectre</td>\n",
       "      <td>[{\"cast_id\": 1, \"character\": \"James Bond\", \"cr...</td>\n",
       "      <td>[{\"credit_id\": \"54805967c3a36829b5002c41\", \"de...</td>\n",
       "    </tr>\n",
       "    <tr>\n",
       "      <th>3</th>\n",
       "      <td>[{\"id\": 28, \"name\": \"Action\"}, {\"id\": 80, \"nam...</td>\n",
       "      <td>49026</td>\n",
       "      <td>[{\"id\": 849, \"name\": \"dc comics\"}, {\"id\": 853,...</td>\n",
       "      <td>Following the death of District Attorney Harve...</td>\n",
       "      <td>The Dark Knight Rises</td>\n",
       "      <td>[{\"cast_id\": 2, \"character\": \"Bruce Wayne / Ba...</td>\n",
       "      <td>[{\"credit_id\": \"52fe4781c3a36847f81398c3\", \"de...</td>\n",
       "    </tr>\n",
       "    <tr>\n",
       "      <th>4</th>\n",
       "      <td>[{\"id\": 28, \"name\": \"Action\"}, {\"id\": 12, \"nam...</td>\n",
       "      <td>49529</td>\n",
       "      <td>[{\"id\": 818, \"name\": \"based on novel\"}, {\"id\":...</td>\n",
       "      <td>John Carter is a war-weary, former military ca...</td>\n",
       "      <td>John Carter</td>\n",
       "      <td>[{\"cast_id\": 5, \"character\": \"John Carter\", \"c...</td>\n",
       "      <td>[{\"credit_id\": \"52fe479ac3a36847f813eaa3\", \"de...</td>\n",
       "    </tr>\n",
       "  </tbody>\n",
       "</table>\n",
       "</div>"
      ],
      "text/plain": [
       "                                              genres      id  \\\n",
       "0  [{\"id\": 28, \"name\": \"Action\"}, {\"id\": 12, \"nam...   19995   \n",
       "1  [{\"id\": 12, \"name\": \"Adventure\"}, {\"id\": 14, \"...     285   \n",
       "2  [{\"id\": 28, \"name\": \"Action\"}, {\"id\": 12, \"nam...  206647   \n",
       "3  [{\"id\": 28, \"name\": \"Action\"}, {\"id\": 80, \"nam...   49026   \n",
       "4  [{\"id\": 28, \"name\": \"Action\"}, {\"id\": 12, \"nam...   49529   \n",
       "\n",
       "                                            keywords  \\\n",
       "0  [{\"id\": 1463, \"name\": \"culture clash\"}, {\"id\":...   \n",
       "1  [{\"id\": 270, \"name\": \"ocean\"}, {\"id\": 726, \"na...   \n",
       "2  [{\"id\": 470, \"name\": \"spy\"}, {\"id\": 818, \"name...   \n",
       "3  [{\"id\": 849, \"name\": \"dc comics\"}, {\"id\": 853,...   \n",
       "4  [{\"id\": 818, \"name\": \"based on novel\"}, {\"id\":...   \n",
       "\n",
       "                                            overview  \\\n",
       "0  In the 22nd century, a paraplegic Marine is di...   \n",
       "1  Captain Barbossa, long believed to be dead, ha...   \n",
       "2  A cryptic message from Bond’s past sends him o...   \n",
       "3  Following the death of District Attorney Harve...   \n",
       "4  John Carter is a war-weary, former military ca...   \n",
       "\n",
       "                                      title  \\\n",
       "0                                    Avatar   \n",
       "1  Pirates of the Caribbean: At World's End   \n",
       "2                                   Spectre   \n",
       "3                     The Dark Knight Rises   \n",
       "4                               John Carter   \n",
       "\n",
       "                                                cast  \\\n",
       "0  [{\"cast_id\": 242, \"character\": \"Jake Sully\", \"...   \n",
       "1  [{\"cast_id\": 4, \"character\": \"Captain Jack Spa...   \n",
       "2  [{\"cast_id\": 1, \"character\": \"James Bond\", \"cr...   \n",
       "3  [{\"cast_id\": 2, \"character\": \"Bruce Wayne / Ba...   \n",
       "4  [{\"cast_id\": 5, \"character\": \"John Carter\", \"c...   \n",
       "\n",
       "                                                crew  \n",
       "0  [{\"credit_id\": \"52fe48009251416c750aca23\", \"de...  \n",
       "1  [{\"credit_id\": \"52fe4232c3a36847f800b579\", \"de...  \n",
       "2  [{\"credit_id\": \"54805967c3a36829b5002c41\", \"de...  \n",
       "3  [{\"credit_id\": \"52fe4781c3a36847f81398c3\", \"de...  \n",
       "4  [{\"credit_id\": \"52fe479ac3a36847f813eaa3\", \"de...  "
      ]
     },
     "execution_count": 29,
     "metadata": {},
     "output_type": "execute_result"
    }
   ],
   "source": [
    "movie_df.head()"
   ]
  },
  {
   "cell_type": "code",
   "execution_count": 30,
   "id": "4b268959",
   "metadata": {},
   "outputs": [],
   "source": [
    "# Here the genres column (i.e obj when genres is passed to function) is a string data type ..but we want to iterative through it to\n",
    "# extarct the name in genres ..so in order to convert the string to list we use ast.literal_eval \n",
    "import ast\n",
    "def convert (obj):\n",
    "    l=[]\n",
    "    for i in ast.literal_eval(obj):\n",
    "        l.append(i['name'])\n",
    "        \n",
    "    return l\n",
    "        "
   ]
  },
  {
   "cell_type": "code",
   "execution_count": 31,
   "id": "e01cff7b",
   "metadata": {},
   "outputs": [],
   "source": [
    "movie_df['genres']=movie_df['genres'].apply(convert)"
   ]
  },
  {
   "cell_type": "code",
   "execution_count": 32,
   "id": "35ae2f8f",
   "metadata": {},
   "outputs": [
    {
     "data": {
      "text/html": [
       "<div>\n",
       "<style scoped>\n",
       "    .dataframe tbody tr th:only-of-type {\n",
       "        vertical-align: middle;\n",
       "    }\n",
       "\n",
       "    .dataframe tbody tr th {\n",
       "        vertical-align: top;\n",
       "    }\n",
       "\n",
       "    .dataframe thead th {\n",
       "        text-align: right;\n",
       "    }\n",
       "</style>\n",
       "<table border=\"1\" class=\"dataframe\">\n",
       "  <thead>\n",
       "    <tr style=\"text-align: right;\">\n",
       "      <th></th>\n",
       "      <th>genres</th>\n",
       "      <th>id</th>\n",
       "      <th>keywords</th>\n",
       "      <th>overview</th>\n",
       "      <th>title</th>\n",
       "      <th>cast</th>\n",
       "      <th>crew</th>\n",
       "    </tr>\n",
       "  </thead>\n",
       "  <tbody>\n",
       "    <tr>\n",
       "      <th>0</th>\n",
       "      <td>[Action, Adventure, Fantasy, Science Fiction]</td>\n",
       "      <td>19995</td>\n",
       "      <td>[{\"id\": 1463, \"name\": \"culture clash\"}, {\"id\":...</td>\n",
       "      <td>In the 22nd century, a paraplegic Marine is di...</td>\n",
       "      <td>Avatar</td>\n",
       "      <td>[{\"cast_id\": 242, \"character\": \"Jake Sully\", \"...</td>\n",
       "      <td>[{\"credit_id\": \"52fe48009251416c750aca23\", \"de...</td>\n",
       "    </tr>\n",
       "    <tr>\n",
       "      <th>1</th>\n",
       "      <td>[Adventure, Fantasy, Action]</td>\n",
       "      <td>285</td>\n",
       "      <td>[{\"id\": 270, \"name\": \"ocean\"}, {\"id\": 726, \"na...</td>\n",
       "      <td>Captain Barbossa, long believed to be dead, ha...</td>\n",
       "      <td>Pirates of the Caribbean: At World's End</td>\n",
       "      <td>[{\"cast_id\": 4, \"character\": \"Captain Jack Spa...</td>\n",
       "      <td>[{\"credit_id\": \"52fe4232c3a36847f800b579\", \"de...</td>\n",
       "    </tr>\n",
       "    <tr>\n",
       "      <th>2</th>\n",
       "      <td>[Action, Adventure, Crime]</td>\n",
       "      <td>206647</td>\n",
       "      <td>[{\"id\": 470, \"name\": \"spy\"}, {\"id\": 818, \"name...</td>\n",
       "      <td>A cryptic message from Bond’s past sends him o...</td>\n",
       "      <td>Spectre</td>\n",
       "      <td>[{\"cast_id\": 1, \"character\": \"James Bond\", \"cr...</td>\n",
       "      <td>[{\"credit_id\": \"54805967c3a36829b5002c41\", \"de...</td>\n",
       "    </tr>\n",
       "    <tr>\n",
       "      <th>3</th>\n",
       "      <td>[Action, Crime, Drama, Thriller]</td>\n",
       "      <td>49026</td>\n",
       "      <td>[{\"id\": 849, \"name\": \"dc comics\"}, {\"id\": 853,...</td>\n",
       "      <td>Following the death of District Attorney Harve...</td>\n",
       "      <td>The Dark Knight Rises</td>\n",
       "      <td>[{\"cast_id\": 2, \"character\": \"Bruce Wayne / Ba...</td>\n",
       "      <td>[{\"credit_id\": \"52fe4781c3a36847f81398c3\", \"de...</td>\n",
       "    </tr>\n",
       "    <tr>\n",
       "      <th>4</th>\n",
       "      <td>[Action, Adventure, Science Fiction]</td>\n",
       "      <td>49529</td>\n",
       "      <td>[{\"id\": 818, \"name\": \"based on novel\"}, {\"id\":...</td>\n",
       "      <td>John Carter is a war-weary, former military ca...</td>\n",
       "      <td>John Carter</td>\n",
       "      <td>[{\"cast_id\": 5, \"character\": \"John Carter\", \"c...</td>\n",
       "      <td>[{\"credit_id\": \"52fe479ac3a36847f813eaa3\", \"de...</td>\n",
       "    </tr>\n",
       "  </tbody>\n",
       "</table>\n",
       "</div>"
      ],
      "text/plain": [
       "                                          genres      id  \\\n",
       "0  [Action, Adventure, Fantasy, Science Fiction]   19995   \n",
       "1                   [Adventure, Fantasy, Action]     285   \n",
       "2                     [Action, Adventure, Crime]  206647   \n",
       "3               [Action, Crime, Drama, Thriller]   49026   \n",
       "4           [Action, Adventure, Science Fiction]   49529   \n",
       "\n",
       "                                            keywords  \\\n",
       "0  [{\"id\": 1463, \"name\": \"culture clash\"}, {\"id\":...   \n",
       "1  [{\"id\": 270, \"name\": \"ocean\"}, {\"id\": 726, \"na...   \n",
       "2  [{\"id\": 470, \"name\": \"spy\"}, {\"id\": 818, \"name...   \n",
       "3  [{\"id\": 849, \"name\": \"dc comics\"}, {\"id\": 853,...   \n",
       "4  [{\"id\": 818, \"name\": \"based on novel\"}, {\"id\":...   \n",
       "\n",
       "                                            overview  \\\n",
       "0  In the 22nd century, a paraplegic Marine is di...   \n",
       "1  Captain Barbossa, long believed to be dead, ha...   \n",
       "2  A cryptic message from Bond’s past sends him o...   \n",
       "3  Following the death of District Attorney Harve...   \n",
       "4  John Carter is a war-weary, former military ca...   \n",
       "\n",
       "                                      title  \\\n",
       "0                                    Avatar   \n",
       "1  Pirates of the Caribbean: At World's End   \n",
       "2                                   Spectre   \n",
       "3                     The Dark Knight Rises   \n",
       "4                               John Carter   \n",
       "\n",
       "                                                cast  \\\n",
       "0  [{\"cast_id\": 242, \"character\": \"Jake Sully\", \"...   \n",
       "1  [{\"cast_id\": 4, \"character\": \"Captain Jack Spa...   \n",
       "2  [{\"cast_id\": 1, \"character\": \"James Bond\", \"cr...   \n",
       "3  [{\"cast_id\": 2, \"character\": \"Bruce Wayne / Ba...   \n",
       "4  [{\"cast_id\": 5, \"character\": \"John Carter\", \"c...   \n",
       "\n",
       "                                                crew  \n",
       "0  [{\"credit_id\": \"52fe48009251416c750aca23\", \"de...  \n",
       "1  [{\"credit_id\": \"52fe4232c3a36847f800b579\", \"de...  \n",
       "2  [{\"credit_id\": \"54805967c3a36829b5002c41\", \"de...  \n",
       "3  [{\"credit_id\": \"52fe4781c3a36847f81398c3\", \"de...  \n",
       "4  [{\"credit_id\": \"52fe479ac3a36847f813eaa3\", \"de...  "
      ]
     },
     "execution_count": 32,
     "metadata": {},
     "output_type": "execute_result"
    }
   ],
   "source": [
    "movie_df.head()"
   ]
  },
  {
   "cell_type": "code",
   "execution_count": 33,
   "id": "2bda2b6b",
   "metadata": {},
   "outputs": [],
   "source": [
    "movie_df['keywords']=movie_df['keywords'].apply(convert)"
   ]
  },
  {
   "cell_type": "code",
   "execution_count": 34,
   "id": "a35c25c7",
   "metadata": {},
   "outputs": [
    {
     "data": {
      "text/html": [
       "<div>\n",
       "<style scoped>\n",
       "    .dataframe tbody tr th:only-of-type {\n",
       "        vertical-align: middle;\n",
       "    }\n",
       "\n",
       "    .dataframe tbody tr th {\n",
       "        vertical-align: top;\n",
       "    }\n",
       "\n",
       "    .dataframe thead th {\n",
       "        text-align: right;\n",
       "    }\n",
       "</style>\n",
       "<table border=\"1\" class=\"dataframe\">\n",
       "  <thead>\n",
       "    <tr style=\"text-align: right;\">\n",
       "      <th></th>\n",
       "      <th>genres</th>\n",
       "      <th>id</th>\n",
       "      <th>keywords</th>\n",
       "      <th>overview</th>\n",
       "      <th>title</th>\n",
       "      <th>cast</th>\n",
       "      <th>crew</th>\n",
       "    </tr>\n",
       "  </thead>\n",
       "  <tbody>\n",
       "    <tr>\n",
       "      <th>0</th>\n",
       "      <td>[Action, Adventure, Fantasy, Science Fiction]</td>\n",
       "      <td>19995</td>\n",
       "      <td>[culture clash, future, space war, space colon...</td>\n",
       "      <td>In the 22nd century, a paraplegic Marine is di...</td>\n",
       "      <td>Avatar</td>\n",
       "      <td>[{\"cast_id\": 242, \"character\": \"Jake Sully\", \"...</td>\n",
       "      <td>[{\"credit_id\": \"52fe48009251416c750aca23\", \"de...</td>\n",
       "    </tr>\n",
       "    <tr>\n",
       "      <th>1</th>\n",
       "      <td>[Adventure, Fantasy, Action]</td>\n",
       "      <td>285</td>\n",
       "      <td>[ocean, drug abuse, exotic island, east india ...</td>\n",
       "      <td>Captain Barbossa, long believed to be dead, ha...</td>\n",
       "      <td>Pirates of the Caribbean: At World's End</td>\n",
       "      <td>[{\"cast_id\": 4, \"character\": \"Captain Jack Spa...</td>\n",
       "      <td>[{\"credit_id\": \"52fe4232c3a36847f800b579\", \"de...</td>\n",
       "    </tr>\n",
       "    <tr>\n",
       "      <th>2</th>\n",
       "      <td>[Action, Adventure, Crime]</td>\n",
       "      <td>206647</td>\n",
       "      <td>[spy, based on novel, secret agent, sequel, mi...</td>\n",
       "      <td>A cryptic message from Bond’s past sends him o...</td>\n",
       "      <td>Spectre</td>\n",
       "      <td>[{\"cast_id\": 1, \"character\": \"James Bond\", \"cr...</td>\n",
       "      <td>[{\"credit_id\": \"54805967c3a36829b5002c41\", \"de...</td>\n",
       "    </tr>\n",
       "    <tr>\n",
       "      <th>3</th>\n",
       "      <td>[Action, Crime, Drama, Thriller]</td>\n",
       "      <td>49026</td>\n",
       "      <td>[dc comics, crime fighter, terrorist, secret i...</td>\n",
       "      <td>Following the death of District Attorney Harve...</td>\n",
       "      <td>The Dark Knight Rises</td>\n",
       "      <td>[{\"cast_id\": 2, \"character\": \"Bruce Wayne / Ba...</td>\n",
       "      <td>[{\"credit_id\": \"52fe4781c3a36847f81398c3\", \"de...</td>\n",
       "    </tr>\n",
       "    <tr>\n",
       "      <th>4</th>\n",
       "      <td>[Action, Adventure, Science Fiction]</td>\n",
       "      <td>49529</td>\n",
       "      <td>[based on novel, mars, medallion, space travel...</td>\n",
       "      <td>John Carter is a war-weary, former military ca...</td>\n",
       "      <td>John Carter</td>\n",
       "      <td>[{\"cast_id\": 5, \"character\": \"John Carter\", \"c...</td>\n",
       "      <td>[{\"credit_id\": \"52fe479ac3a36847f813eaa3\", \"de...</td>\n",
       "    </tr>\n",
       "  </tbody>\n",
       "</table>\n",
       "</div>"
      ],
      "text/plain": [
       "                                          genres      id  \\\n",
       "0  [Action, Adventure, Fantasy, Science Fiction]   19995   \n",
       "1                   [Adventure, Fantasy, Action]     285   \n",
       "2                     [Action, Adventure, Crime]  206647   \n",
       "3               [Action, Crime, Drama, Thriller]   49026   \n",
       "4           [Action, Adventure, Science Fiction]   49529   \n",
       "\n",
       "                                            keywords  \\\n",
       "0  [culture clash, future, space war, space colon...   \n",
       "1  [ocean, drug abuse, exotic island, east india ...   \n",
       "2  [spy, based on novel, secret agent, sequel, mi...   \n",
       "3  [dc comics, crime fighter, terrorist, secret i...   \n",
       "4  [based on novel, mars, medallion, space travel...   \n",
       "\n",
       "                                            overview  \\\n",
       "0  In the 22nd century, a paraplegic Marine is di...   \n",
       "1  Captain Barbossa, long believed to be dead, ha...   \n",
       "2  A cryptic message from Bond’s past sends him o...   \n",
       "3  Following the death of District Attorney Harve...   \n",
       "4  John Carter is a war-weary, former military ca...   \n",
       "\n",
       "                                      title  \\\n",
       "0                                    Avatar   \n",
       "1  Pirates of the Caribbean: At World's End   \n",
       "2                                   Spectre   \n",
       "3                     The Dark Knight Rises   \n",
       "4                               John Carter   \n",
       "\n",
       "                                                cast  \\\n",
       "0  [{\"cast_id\": 242, \"character\": \"Jake Sully\", \"...   \n",
       "1  [{\"cast_id\": 4, \"character\": \"Captain Jack Spa...   \n",
       "2  [{\"cast_id\": 1, \"character\": \"James Bond\", \"cr...   \n",
       "3  [{\"cast_id\": 2, \"character\": \"Bruce Wayne / Ba...   \n",
       "4  [{\"cast_id\": 5, \"character\": \"John Carter\", \"c...   \n",
       "\n",
       "                                                crew  \n",
       "0  [{\"credit_id\": \"52fe48009251416c750aca23\", \"de...  \n",
       "1  [{\"credit_id\": \"52fe4232c3a36847f800b579\", \"de...  \n",
       "2  [{\"credit_id\": \"54805967c3a36829b5002c41\", \"de...  \n",
       "3  [{\"credit_id\": \"52fe4781c3a36847f81398c3\", \"de...  \n",
       "4  [{\"credit_id\": \"52fe479ac3a36847f813eaa3\", \"de...  "
      ]
     },
     "execution_count": 34,
     "metadata": {},
     "output_type": "execute_result"
    }
   ],
   "source": [
    "movie_df.head()"
   ]
  },
  {
   "cell_type": "code",
   "execution_count": 35,
   "id": "fecffdba",
   "metadata": {},
   "outputs": [],
   "source": [
    "def convert_cast(obj):\n",
    "    li=[]\n",
    "    j=0\n",
    "    for i in ast.literal_eval(obj):\n",
    "        if j<=3:\n",
    "            li.append(i['name'])\n",
    "            j=j+1\n",
    "        else:\n",
    "            break\n",
    "    return li"
   ]
  },
  {
   "cell_type": "code",
   "execution_count": 36,
   "id": "65a733f1",
   "metadata": {},
   "outputs": [],
   "source": [
    "movie_df['cast']=movie_df['cast'].apply(convert_cast)"
   ]
  },
  {
   "cell_type": "code",
   "execution_count": 37,
   "id": "d4ac1555",
   "metadata": {},
   "outputs": [
    {
     "data": {
      "text/plain": [
       "['Sam Worthington', 'Zoe Saldana', 'Sigourney Weaver', 'Stephen Lang']"
      ]
     },
     "execution_count": 37,
     "metadata": {},
     "output_type": "execute_result"
    }
   ],
   "source": [
    "movie_df['cast'][0]"
   ]
  },
  {
   "cell_type": "code",
   "execution_count": 38,
   "id": "a7767c40",
   "metadata": {},
   "outputs": [
    {
     "data": {
      "text/html": [
       "<div>\n",
       "<style scoped>\n",
       "    .dataframe tbody tr th:only-of-type {\n",
       "        vertical-align: middle;\n",
       "    }\n",
       "\n",
       "    .dataframe tbody tr th {\n",
       "        vertical-align: top;\n",
       "    }\n",
       "\n",
       "    .dataframe thead th {\n",
       "        text-align: right;\n",
       "    }\n",
       "</style>\n",
       "<table border=\"1\" class=\"dataframe\">\n",
       "  <thead>\n",
       "    <tr style=\"text-align: right;\">\n",
       "      <th></th>\n",
       "      <th>genres</th>\n",
       "      <th>id</th>\n",
       "      <th>keywords</th>\n",
       "      <th>overview</th>\n",
       "      <th>title</th>\n",
       "      <th>cast</th>\n",
       "      <th>crew</th>\n",
       "    </tr>\n",
       "  </thead>\n",
       "  <tbody>\n",
       "    <tr>\n",
       "      <th>0</th>\n",
       "      <td>[Action, Adventure, Fantasy, Science Fiction]</td>\n",
       "      <td>19995</td>\n",
       "      <td>[culture clash, future, space war, space colon...</td>\n",
       "      <td>In the 22nd century, a paraplegic Marine is di...</td>\n",
       "      <td>Avatar</td>\n",
       "      <td>[Sam Worthington, Zoe Saldana, Sigourney Weave...</td>\n",
       "      <td>[{\"credit_id\": \"52fe48009251416c750aca23\", \"de...</td>\n",
       "    </tr>\n",
       "  </tbody>\n",
       "</table>\n",
       "</div>"
      ],
      "text/plain": [
       "                                          genres     id  \\\n",
       "0  [Action, Adventure, Fantasy, Science Fiction]  19995   \n",
       "\n",
       "                                            keywords  \\\n",
       "0  [culture clash, future, space war, space colon...   \n",
       "\n",
       "                                            overview   title  \\\n",
       "0  In the 22nd century, a paraplegic Marine is di...  Avatar   \n",
       "\n",
       "                                                cast  \\\n",
       "0  [Sam Worthington, Zoe Saldana, Sigourney Weave...   \n",
       "\n",
       "                                                crew  \n",
       "0  [{\"credit_id\": \"52fe48009251416c750aca23\", \"de...  "
      ]
     },
     "execution_count": 38,
     "metadata": {},
     "output_type": "execute_result"
    }
   ],
   "source": [
    "movie_df.head(1)"
   ]
  },
  {
   "cell_type": "code",
   "execution_count": 39,
   "id": "07aa8e0e",
   "metadata": {},
   "outputs": [],
   "source": [
    "def extract_director(obj):\n",
    "    ld=[]\n",
    "    for i in ast.literal_eval(obj):\n",
    "        if(i['job']==\"Director\" or i['department']==\"Directing\"):\n",
    "            ld.append(i['name'])\n",
    "        else:\n",
    "            continue\n",
    "        \n",
    "        return ld"
   ]
  },
  {
   "cell_type": "code",
   "execution_count": 40,
   "id": "9dae4c0b",
   "metadata": {},
   "outputs": [],
   "source": [
    "movie_df['crew']=movie_df['crew'].apply(extract_director)"
   ]
  },
  {
   "cell_type": "code",
   "execution_count": 41,
   "id": "ae5c99bb",
   "metadata": {},
   "outputs": [
    {
     "data": {
      "text/html": [
       "<div>\n",
       "<style scoped>\n",
       "    .dataframe tbody tr th:only-of-type {\n",
       "        vertical-align: middle;\n",
       "    }\n",
       "\n",
       "    .dataframe tbody tr th {\n",
       "        vertical-align: top;\n",
       "    }\n",
       "\n",
       "    .dataframe thead th {\n",
       "        text-align: right;\n",
       "    }\n",
       "</style>\n",
       "<table border=\"1\" class=\"dataframe\">\n",
       "  <thead>\n",
       "    <tr style=\"text-align: right;\">\n",
       "      <th></th>\n",
       "      <th>genres</th>\n",
       "      <th>id</th>\n",
       "      <th>keywords</th>\n",
       "      <th>overview</th>\n",
       "      <th>title</th>\n",
       "      <th>cast</th>\n",
       "      <th>crew</th>\n",
       "    </tr>\n",
       "  </thead>\n",
       "  <tbody>\n",
       "    <tr>\n",
       "      <th>0</th>\n",
       "      <td>[Action, Adventure, Fantasy, Science Fiction]</td>\n",
       "      <td>19995</td>\n",
       "      <td>[culture clash, future, space war, space colon...</td>\n",
       "      <td>In the 22nd century, a paraplegic Marine is di...</td>\n",
       "      <td>Avatar</td>\n",
       "      <td>[Sam Worthington, Zoe Saldana, Sigourney Weave...</td>\n",
       "      <td>[James Cameron]</td>\n",
       "    </tr>\n",
       "    <tr>\n",
       "      <th>1</th>\n",
       "      <td>[Adventure, Fantasy, Action]</td>\n",
       "      <td>285</td>\n",
       "      <td>[ocean, drug abuse, exotic island, east india ...</td>\n",
       "      <td>Captain Barbossa, long believed to be dead, ha...</td>\n",
       "      <td>Pirates of the Caribbean: At World's End</td>\n",
       "      <td>[Johnny Depp, Orlando Bloom, Keira Knightley, ...</td>\n",
       "      <td>[Gore Verbinski]</td>\n",
       "    </tr>\n",
       "    <tr>\n",
       "      <th>2</th>\n",
       "      <td>[Action, Adventure, Crime]</td>\n",
       "      <td>206647</td>\n",
       "      <td>[spy, based on novel, secret agent, sequel, mi...</td>\n",
       "      <td>A cryptic message from Bond’s past sends him o...</td>\n",
       "      <td>Spectre</td>\n",
       "      <td>[Daniel Craig, Christoph Waltz, Léa Seydoux, R...</td>\n",
       "      <td>[Sam Mendes]</td>\n",
       "    </tr>\n",
       "    <tr>\n",
       "      <th>3</th>\n",
       "      <td>[Action, Crime, Drama, Thriller]</td>\n",
       "      <td>49026</td>\n",
       "      <td>[dc comics, crime fighter, terrorist, secret i...</td>\n",
       "      <td>Following the death of District Attorney Harve...</td>\n",
       "      <td>The Dark Knight Rises</td>\n",
       "      <td>[Christian Bale, Michael Caine, Gary Oldman, A...</td>\n",
       "      <td>[Christopher Nolan]</td>\n",
       "    </tr>\n",
       "  </tbody>\n",
       "</table>\n",
       "</div>"
      ],
      "text/plain": [
       "                                          genres      id  \\\n",
       "0  [Action, Adventure, Fantasy, Science Fiction]   19995   \n",
       "1                   [Adventure, Fantasy, Action]     285   \n",
       "2                     [Action, Adventure, Crime]  206647   \n",
       "3               [Action, Crime, Drama, Thriller]   49026   \n",
       "\n",
       "                                            keywords  \\\n",
       "0  [culture clash, future, space war, space colon...   \n",
       "1  [ocean, drug abuse, exotic island, east india ...   \n",
       "2  [spy, based on novel, secret agent, sequel, mi...   \n",
       "3  [dc comics, crime fighter, terrorist, secret i...   \n",
       "\n",
       "                                            overview  \\\n",
       "0  In the 22nd century, a paraplegic Marine is di...   \n",
       "1  Captain Barbossa, long believed to be dead, ha...   \n",
       "2  A cryptic message from Bond’s past sends him o...   \n",
       "3  Following the death of District Attorney Harve...   \n",
       "\n",
       "                                      title  \\\n",
       "0                                    Avatar   \n",
       "1  Pirates of the Caribbean: At World's End   \n",
       "2                                   Spectre   \n",
       "3                     The Dark Knight Rises   \n",
       "\n",
       "                                                cast                 crew  \n",
       "0  [Sam Worthington, Zoe Saldana, Sigourney Weave...      [James Cameron]  \n",
       "1  [Johnny Depp, Orlando Bloom, Keira Knightley, ...     [Gore Verbinski]  \n",
       "2  [Daniel Craig, Christoph Waltz, Léa Seydoux, R...         [Sam Mendes]  \n",
       "3  [Christian Bale, Michael Caine, Gary Oldman, A...  [Christopher Nolan]  "
      ]
     },
     "execution_count": 41,
     "metadata": {},
     "output_type": "execute_result"
    }
   ],
   "source": [
    "movie_df.head(4)"
   ]
  },
  {
   "cell_type": "code",
   "execution_count": 42,
   "id": "1b1fbea3",
   "metadata": {},
   "outputs": [
    {
     "data": {
      "text/plain": [
       "'In the 22nd century, a paraplegic Marine is dispatched to the moon Pandora on a unique mission, but becomes torn between following orders and protecting an alien civilization.'"
      ]
     },
     "execution_count": 42,
     "metadata": {},
     "output_type": "execute_result"
    }
   ],
   "source": [
    "movie_df['overview'][0]"
   ]
  },
  {
   "cell_type": "code",
   "execution_count": 43,
   "id": "6cc99b44",
   "metadata": {},
   "outputs": [],
   "source": [
    "def convert_overview (obj):\n",
    "    return obj.split()"
   ]
  },
  {
   "cell_type": "code",
   "execution_count": 44,
   "id": "a25d230f",
   "metadata": {},
   "outputs": [],
   "source": [
    "movie_df['overview']=movie_df['overview'].apply(convert_overview)"
   ]
  },
  {
   "cell_type": "code",
   "execution_count": 45,
   "id": "6404318f",
   "metadata": {},
   "outputs": [
    {
     "data": {
      "text/html": [
       "<div>\n",
       "<style scoped>\n",
       "    .dataframe tbody tr th:only-of-type {\n",
       "        vertical-align: middle;\n",
       "    }\n",
       "\n",
       "    .dataframe tbody tr th {\n",
       "        vertical-align: top;\n",
       "    }\n",
       "\n",
       "    .dataframe thead th {\n",
       "        text-align: right;\n",
       "    }\n",
       "</style>\n",
       "<table border=\"1\" class=\"dataframe\">\n",
       "  <thead>\n",
       "    <tr style=\"text-align: right;\">\n",
       "      <th></th>\n",
       "      <th>genres</th>\n",
       "      <th>id</th>\n",
       "      <th>keywords</th>\n",
       "      <th>overview</th>\n",
       "      <th>title</th>\n",
       "      <th>cast</th>\n",
       "      <th>crew</th>\n",
       "    </tr>\n",
       "  </thead>\n",
       "  <tbody>\n",
       "    <tr>\n",
       "      <th>0</th>\n",
       "      <td>[Action, Adventure, Fantasy, Science Fiction]</td>\n",
       "      <td>19995</td>\n",
       "      <td>[culture clash, future, space war, space colon...</td>\n",
       "      <td>[In, the, 22nd, century,, a, paraplegic, Marin...</td>\n",
       "      <td>Avatar</td>\n",
       "      <td>[Sam Worthington, Zoe Saldana, Sigourney Weave...</td>\n",
       "      <td>[James Cameron]</td>\n",
       "    </tr>\n",
       "    <tr>\n",
       "      <th>1</th>\n",
       "      <td>[Adventure, Fantasy, Action]</td>\n",
       "      <td>285</td>\n",
       "      <td>[ocean, drug abuse, exotic island, east india ...</td>\n",
       "      <td>[Captain, Barbossa,, long, believed, to, be, d...</td>\n",
       "      <td>Pirates of the Caribbean: At World's End</td>\n",
       "      <td>[Johnny Depp, Orlando Bloom, Keira Knightley, ...</td>\n",
       "      <td>[Gore Verbinski]</td>\n",
       "    </tr>\n",
       "    <tr>\n",
       "      <th>2</th>\n",
       "      <td>[Action, Adventure, Crime]</td>\n",
       "      <td>206647</td>\n",
       "      <td>[spy, based on novel, secret agent, sequel, mi...</td>\n",
       "      <td>[A, cryptic, message, from, Bond’s, past, send...</td>\n",
       "      <td>Spectre</td>\n",
       "      <td>[Daniel Craig, Christoph Waltz, Léa Seydoux, R...</td>\n",
       "      <td>[Sam Mendes]</td>\n",
       "    </tr>\n",
       "    <tr>\n",
       "      <th>3</th>\n",
       "      <td>[Action, Crime, Drama, Thriller]</td>\n",
       "      <td>49026</td>\n",
       "      <td>[dc comics, crime fighter, terrorist, secret i...</td>\n",
       "      <td>[Following, the, death, of, District, Attorney...</td>\n",
       "      <td>The Dark Knight Rises</td>\n",
       "      <td>[Christian Bale, Michael Caine, Gary Oldman, A...</td>\n",
       "      <td>[Christopher Nolan]</td>\n",
       "    </tr>\n",
       "    <tr>\n",
       "      <th>4</th>\n",
       "      <td>[Action, Adventure, Science Fiction]</td>\n",
       "      <td>49529</td>\n",
       "      <td>[based on novel, mars, medallion, space travel...</td>\n",
       "      <td>[John, Carter, is, a, war-weary,, former, mili...</td>\n",
       "      <td>John Carter</td>\n",
       "      <td>[Taylor Kitsch, Lynn Collins, Samantha Morton,...</td>\n",
       "      <td>[Andrew Stanton]</td>\n",
       "    </tr>\n",
       "  </tbody>\n",
       "</table>\n",
       "</div>"
      ],
      "text/plain": [
       "                                          genres      id  \\\n",
       "0  [Action, Adventure, Fantasy, Science Fiction]   19995   \n",
       "1                   [Adventure, Fantasy, Action]     285   \n",
       "2                     [Action, Adventure, Crime]  206647   \n",
       "3               [Action, Crime, Drama, Thriller]   49026   \n",
       "4           [Action, Adventure, Science Fiction]   49529   \n",
       "\n",
       "                                            keywords  \\\n",
       "0  [culture clash, future, space war, space colon...   \n",
       "1  [ocean, drug abuse, exotic island, east india ...   \n",
       "2  [spy, based on novel, secret agent, sequel, mi...   \n",
       "3  [dc comics, crime fighter, terrorist, secret i...   \n",
       "4  [based on novel, mars, medallion, space travel...   \n",
       "\n",
       "                                            overview  \\\n",
       "0  [In, the, 22nd, century,, a, paraplegic, Marin...   \n",
       "1  [Captain, Barbossa,, long, believed, to, be, d...   \n",
       "2  [A, cryptic, message, from, Bond’s, past, send...   \n",
       "3  [Following, the, death, of, District, Attorney...   \n",
       "4  [John, Carter, is, a, war-weary,, former, mili...   \n",
       "\n",
       "                                      title  \\\n",
       "0                                    Avatar   \n",
       "1  Pirates of the Caribbean: At World's End   \n",
       "2                                   Spectre   \n",
       "3                     The Dark Knight Rises   \n",
       "4                               John Carter   \n",
       "\n",
       "                                                cast                 crew  \n",
       "0  [Sam Worthington, Zoe Saldana, Sigourney Weave...      [James Cameron]  \n",
       "1  [Johnny Depp, Orlando Bloom, Keira Knightley, ...     [Gore Verbinski]  \n",
       "2  [Daniel Craig, Christoph Waltz, Léa Seydoux, R...         [Sam Mendes]  \n",
       "3  [Christian Bale, Michael Caine, Gary Oldman, A...  [Christopher Nolan]  \n",
       "4  [Taylor Kitsch, Lynn Collins, Samantha Morton,...     [Andrew Stanton]  "
      ]
     },
     "execution_count": 45,
     "metadata": {},
     "output_type": "execute_result"
    }
   ],
   "source": [
    "movie_df.head()"
   ]
  },
  {
   "cell_type": "code",
   "execution_count": 46,
   "id": "3c58dd01",
   "metadata": {},
   "outputs": [],
   "source": [
    "#in order to remove white space in each cast,keyowrds,genres,overview columns\n",
    "# for eg: (in cast column for 1st row)\n",
    "# Sam Worthington -> SamWorthington\n",
    "# for eg: (in genres column for 1st row)\n",
    "#Science Fiction -> ScienceFiction\n",
    "def space(obj):\n",
    "    l=[]\n",
    "    for i in obj:\n",
    "        l.append(i.replace(\" \",\"\"))\n",
    "    return l\n",
    "    "
   ]
  },
  {
   "cell_type": "code",
   "execution_count": 47,
   "id": "ff887514",
   "metadata": {},
   "outputs": [],
   "source": [
    "movie_df['cast']=movie_df['cast'].apply(space)\n",
    "movie_df['keywords']=movie_df['keywords'].apply(space)\n",
    "movie_df['genres']=movie_df['genres'].apply(space)\n",
    "movie_df['overview']=movie_df['overview'].apply(space)"
   ]
  },
  {
   "cell_type": "code",
   "execution_count": 48,
   "id": "0bdf69e8",
   "metadata": {},
   "outputs": [
    {
     "data": {
      "text/plain": [
       "30"
      ]
     },
     "execution_count": 48,
     "metadata": {},
     "output_type": "execute_result"
    }
   ],
   "source": [
    "# Since the crew column has some null values ie. 30 null values ..we didnot used the \"space\" method and instead we created a \n",
    "# new method as \"space1\" and checked for a special condition i.e if obj is null return []\n",
    "movie_df['crew'].isnull().sum()"
   ]
  },
  {
   "cell_type": "code",
   "execution_count": 49,
   "id": "6741b761",
   "metadata": {},
   "outputs": [],
   "source": [
    "def space1(obj):\n",
    "    if obj is None:\n",
    "        return []\n",
    "    l=[]\n",
    "    for i in obj:\n",
    "        l.append(i.replace(\" \",\"\"))\n",
    "    return l"
   ]
  },
  {
   "cell_type": "code",
   "execution_count": 50,
   "id": "3009642b",
   "metadata": {},
   "outputs": [],
   "source": [
    "movie_df['crew']=movie_df['crew'].apply(space1)"
   ]
  },
  {
   "cell_type": "code",
   "execution_count": 51,
   "id": "2493683d",
   "metadata": {},
   "outputs": [
    {
     "data": {
      "text/html": [
       "<div>\n",
       "<style scoped>\n",
       "    .dataframe tbody tr th:only-of-type {\n",
       "        vertical-align: middle;\n",
       "    }\n",
       "\n",
       "    .dataframe tbody tr th {\n",
       "        vertical-align: top;\n",
       "    }\n",
       "\n",
       "    .dataframe thead th {\n",
       "        text-align: right;\n",
       "    }\n",
       "</style>\n",
       "<table border=\"1\" class=\"dataframe\">\n",
       "  <thead>\n",
       "    <tr style=\"text-align: right;\">\n",
       "      <th></th>\n",
       "      <th>genres</th>\n",
       "      <th>id</th>\n",
       "      <th>keywords</th>\n",
       "      <th>overview</th>\n",
       "      <th>title</th>\n",
       "      <th>cast</th>\n",
       "      <th>crew</th>\n",
       "    </tr>\n",
       "  </thead>\n",
       "  <tbody>\n",
       "    <tr>\n",
       "      <th>0</th>\n",
       "      <td>[Action, Adventure, Fantasy, ScienceFiction]</td>\n",
       "      <td>19995</td>\n",
       "      <td>[cultureclash, future, spacewar, spacecolony, ...</td>\n",
       "      <td>[In, the, 22nd, century,, a, paraplegic, Marin...</td>\n",
       "      <td>Avatar</td>\n",
       "      <td>[SamWorthington, ZoeSaldana, SigourneyWeaver, ...</td>\n",
       "      <td>[JamesCameron]</td>\n",
       "    </tr>\n",
       "    <tr>\n",
       "      <th>1</th>\n",
       "      <td>[Adventure, Fantasy, Action]</td>\n",
       "      <td>285</td>\n",
       "      <td>[ocean, drugabuse, exoticisland, eastindiatrad...</td>\n",
       "      <td>[Captain, Barbossa,, long, believed, to, be, d...</td>\n",
       "      <td>Pirates of the Caribbean: At World's End</td>\n",
       "      <td>[JohnnyDepp, OrlandoBloom, KeiraKnightley, Ste...</td>\n",
       "      <td>[GoreVerbinski]</td>\n",
       "    </tr>\n",
       "    <tr>\n",
       "      <th>2</th>\n",
       "      <td>[Action, Adventure, Crime]</td>\n",
       "      <td>206647</td>\n",
       "      <td>[spy, basedonnovel, secretagent, sequel, mi6, ...</td>\n",
       "      <td>[A, cryptic, message, from, Bond’s, past, send...</td>\n",
       "      <td>Spectre</td>\n",
       "      <td>[DanielCraig, ChristophWaltz, LéaSeydoux, Ralp...</td>\n",
       "      <td>[SamMendes]</td>\n",
       "    </tr>\n",
       "    <tr>\n",
       "      <th>3</th>\n",
       "      <td>[Action, Crime, Drama, Thriller]</td>\n",
       "      <td>49026</td>\n",
       "      <td>[dccomics, crimefighter, terrorist, secretiden...</td>\n",
       "      <td>[Following, the, death, of, District, Attorney...</td>\n",
       "      <td>The Dark Knight Rises</td>\n",
       "      <td>[ChristianBale, MichaelCaine, GaryOldman, Anne...</td>\n",
       "      <td>[ChristopherNolan]</td>\n",
       "    </tr>\n",
       "    <tr>\n",
       "      <th>4</th>\n",
       "      <td>[Action, Adventure, ScienceFiction]</td>\n",
       "      <td>49529</td>\n",
       "      <td>[basedonnovel, mars, medallion, spacetravel, p...</td>\n",
       "      <td>[John, Carter, is, a, war-weary,, former, mili...</td>\n",
       "      <td>John Carter</td>\n",
       "      <td>[TaylorKitsch, LynnCollins, SamanthaMorton, Wi...</td>\n",
       "      <td>[AndrewStanton]</td>\n",
       "    </tr>\n",
       "  </tbody>\n",
       "</table>\n",
       "</div>"
      ],
      "text/plain": [
       "                                         genres      id  \\\n",
       "0  [Action, Adventure, Fantasy, ScienceFiction]   19995   \n",
       "1                  [Adventure, Fantasy, Action]     285   \n",
       "2                    [Action, Adventure, Crime]  206647   \n",
       "3              [Action, Crime, Drama, Thriller]   49026   \n",
       "4           [Action, Adventure, ScienceFiction]   49529   \n",
       "\n",
       "                                            keywords  \\\n",
       "0  [cultureclash, future, spacewar, spacecolony, ...   \n",
       "1  [ocean, drugabuse, exoticisland, eastindiatrad...   \n",
       "2  [spy, basedonnovel, secretagent, sequel, mi6, ...   \n",
       "3  [dccomics, crimefighter, terrorist, secretiden...   \n",
       "4  [basedonnovel, mars, medallion, spacetravel, p...   \n",
       "\n",
       "                                            overview  \\\n",
       "0  [In, the, 22nd, century,, a, paraplegic, Marin...   \n",
       "1  [Captain, Barbossa,, long, believed, to, be, d...   \n",
       "2  [A, cryptic, message, from, Bond’s, past, send...   \n",
       "3  [Following, the, death, of, District, Attorney...   \n",
       "4  [John, Carter, is, a, war-weary,, former, mili...   \n",
       "\n",
       "                                      title  \\\n",
       "0                                    Avatar   \n",
       "1  Pirates of the Caribbean: At World's End   \n",
       "2                                   Spectre   \n",
       "3                     The Dark Knight Rises   \n",
       "4                               John Carter   \n",
       "\n",
       "                                                cast                crew  \n",
       "0  [SamWorthington, ZoeSaldana, SigourneyWeaver, ...      [JamesCameron]  \n",
       "1  [JohnnyDepp, OrlandoBloom, KeiraKnightley, Ste...     [GoreVerbinski]  \n",
       "2  [DanielCraig, ChristophWaltz, LéaSeydoux, Ralp...         [SamMendes]  \n",
       "3  [ChristianBale, MichaelCaine, GaryOldman, Anne...  [ChristopherNolan]  \n",
       "4  [TaylorKitsch, LynnCollins, SamanthaMorton, Wi...     [AndrewStanton]  "
      ]
     },
     "execution_count": 51,
     "metadata": {},
     "output_type": "execute_result"
    }
   ],
   "source": [
    "movie_df.head()"
   ]
  },
  {
   "cell_type": "code",
   "execution_count": 52,
   "id": "c3267356",
   "metadata": {},
   "outputs": [],
   "source": [
    "movie_df1=movie_df.copy()"
   ]
  },
  {
   "cell_type": "code",
   "execution_count": 53,
   "id": "f527437a",
   "metadata": {},
   "outputs": [],
   "source": [
    "# Creating the \"tags\" by combing the overview,genres,keywords,cast,crew columns\n",
    "movie_df1[\"tags\"]=movie_df['overview']+movie_df['genres']+movie_df['keywords']+movie_df[\"cast\"]+movie_df['crew']"
   ]
  },
  {
   "cell_type": "code",
   "execution_count": 54,
   "id": "57042df3",
   "metadata": {},
   "outputs": [
    {
     "data": {
      "text/html": [
       "<div>\n",
       "<style scoped>\n",
       "    .dataframe tbody tr th:only-of-type {\n",
       "        vertical-align: middle;\n",
       "    }\n",
       "\n",
       "    .dataframe tbody tr th {\n",
       "        vertical-align: top;\n",
       "    }\n",
       "\n",
       "    .dataframe thead th {\n",
       "        text-align: right;\n",
       "    }\n",
       "</style>\n",
       "<table border=\"1\" class=\"dataframe\">\n",
       "  <thead>\n",
       "    <tr style=\"text-align: right;\">\n",
       "      <th></th>\n",
       "      <th>genres</th>\n",
       "      <th>id</th>\n",
       "      <th>keywords</th>\n",
       "      <th>overview</th>\n",
       "      <th>title</th>\n",
       "      <th>cast</th>\n",
       "      <th>crew</th>\n",
       "      <th>tags</th>\n",
       "    </tr>\n",
       "  </thead>\n",
       "  <tbody>\n",
       "    <tr>\n",
       "      <th>0</th>\n",
       "      <td>[Action, Adventure, Fantasy, ScienceFiction]</td>\n",
       "      <td>19995</td>\n",
       "      <td>[cultureclash, future, spacewar, spacecolony, ...</td>\n",
       "      <td>[In, the, 22nd, century,, a, paraplegic, Marin...</td>\n",
       "      <td>Avatar</td>\n",
       "      <td>[SamWorthington, ZoeSaldana, SigourneyWeaver, ...</td>\n",
       "      <td>[JamesCameron]</td>\n",
       "      <td>[In, the, 22nd, century,, a, paraplegic, Marin...</td>\n",
       "    </tr>\n",
       "    <tr>\n",
       "      <th>1</th>\n",
       "      <td>[Adventure, Fantasy, Action]</td>\n",
       "      <td>285</td>\n",
       "      <td>[ocean, drugabuse, exoticisland, eastindiatrad...</td>\n",
       "      <td>[Captain, Barbossa,, long, believed, to, be, d...</td>\n",
       "      <td>Pirates of the Caribbean: At World's End</td>\n",
       "      <td>[JohnnyDepp, OrlandoBloom, KeiraKnightley, Ste...</td>\n",
       "      <td>[GoreVerbinski]</td>\n",
       "      <td>[Captain, Barbossa,, long, believed, to, be, d...</td>\n",
       "    </tr>\n",
       "    <tr>\n",
       "      <th>2</th>\n",
       "      <td>[Action, Adventure, Crime]</td>\n",
       "      <td>206647</td>\n",
       "      <td>[spy, basedonnovel, secretagent, sequel, mi6, ...</td>\n",
       "      <td>[A, cryptic, message, from, Bond’s, past, send...</td>\n",
       "      <td>Spectre</td>\n",
       "      <td>[DanielCraig, ChristophWaltz, LéaSeydoux, Ralp...</td>\n",
       "      <td>[SamMendes]</td>\n",
       "      <td>[A, cryptic, message, from, Bond’s, past, send...</td>\n",
       "    </tr>\n",
       "    <tr>\n",
       "      <th>3</th>\n",
       "      <td>[Action, Crime, Drama, Thriller]</td>\n",
       "      <td>49026</td>\n",
       "      <td>[dccomics, crimefighter, terrorist, secretiden...</td>\n",
       "      <td>[Following, the, death, of, District, Attorney...</td>\n",
       "      <td>The Dark Knight Rises</td>\n",
       "      <td>[ChristianBale, MichaelCaine, GaryOldman, Anne...</td>\n",
       "      <td>[ChristopherNolan]</td>\n",
       "      <td>[Following, the, death, of, District, Attorney...</td>\n",
       "    </tr>\n",
       "    <tr>\n",
       "      <th>4</th>\n",
       "      <td>[Action, Adventure, ScienceFiction]</td>\n",
       "      <td>49529</td>\n",
       "      <td>[basedonnovel, mars, medallion, spacetravel, p...</td>\n",
       "      <td>[John, Carter, is, a, war-weary,, former, mili...</td>\n",
       "      <td>John Carter</td>\n",
       "      <td>[TaylorKitsch, LynnCollins, SamanthaMorton, Wi...</td>\n",
       "      <td>[AndrewStanton]</td>\n",
       "      <td>[John, Carter, is, a, war-weary,, former, mili...</td>\n",
       "    </tr>\n",
       "  </tbody>\n",
       "</table>\n",
       "</div>"
      ],
      "text/plain": [
       "                                         genres      id  \\\n",
       "0  [Action, Adventure, Fantasy, ScienceFiction]   19995   \n",
       "1                  [Adventure, Fantasy, Action]     285   \n",
       "2                    [Action, Adventure, Crime]  206647   \n",
       "3              [Action, Crime, Drama, Thriller]   49026   \n",
       "4           [Action, Adventure, ScienceFiction]   49529   \n",
       "\n",
       "                                            keywords  \\\n",
       "0  [cultureclash, future, spacewar, spacecolony, ...   \n",
       "1  [ocean, drugabuse, exoticisland, eastindiatrad...   \n",
       "2  [spy, basedonnovel, secretagent, sequel, mi6, ...   \n",
       "3  [dccomics, crimefighter, terrorist, secretiden...   \n",
       "4  [basedonnovel, mars, medallion, spacetravel, p...   \n",
       "\n",
       "                                            overview  \\\n",
       "0  [In, the, 22nd, century,, a, paraplegic, Marin...   \n",
       "1  [Captain, Barbossa,, long, believed, to, be, d...   \n",
       "2  [A, cryptic, message, from, Bond’s, past, send...   \n",
       "3  [Following, the, death, of, District, Attorney...   \n",
       "4  [John, Carter, is, a, war-weary,, former, mili...   \n",
       "\n",
       "                                      title  \\\n",
       "0                                    Avatar   \n",
       "1  Pirates of the Caribbean: At World's End   \n",
       "2                                   Spectre   \n",
       "3                     The Dark Knight Rises   \n",
       "4                               John Carter   \n",
       "\n",
       "                                                cast                crew  \\\n",
       "0  [SamWorthington, ZoeSaldana, SigourneyWeaver, ...      [JamesCameron]   \n",
       "1  [JohnnyDepp, OrlandoBloom, KeiraKnightley, Ste...     [GoreVerbinski]   \n",
       "2  [DanielCraig, ChristophWaltz, LéaSeydoux, Ralp...         [SamMendes]   \n",
       "3  [ChristianBale, MichaelCaine, GaryOldman, Anne...  [ChristopherNolan]   \n",
       "4  [TaylorKitsch, LynnCollins, SamanthaMorton, Wi...     [AndrewStanton]   \n",
       "\n",
       "                                                tags  \n",
       "0  [In, the, 22nd, century,, a, paraplegic, Marin...  \n",
       "1  [Captain, Barbossa,, long, believed, to, be, d...  \n",
       "2  [A, cryptic, message, from, Bond’s, past, send...  \n",
       "3  [Following, the, death, of, District, Attorney...  \n",
       "4  [John, Carter, is, a, war-weary,, former, mili...  "
      ]
     },
     "execution_count": 54,
     "metadata": {},
     "output_type": "execute_result"
    }
   ],
   "source": [
    "movie_df1.head()"
   ]
  },
  {
   "cell_type": "code",
   "execution_count": 55,
   "id": "22c70569",
   "metadata": {},
   "outputs": [],
   "source": [
    "# Removing the unnecessary columns from movie_df1 ie(\"genres\",\"keywords\",\"overview\",\"cast\",\"crew\") since we have created \n",
    "#  tags by concatenating/merging these columns\n",
    "movie_df1.drop(columns=[\"genres\",\"keywords\",\"overview\",\"cast\",\"crew\"],inplace=True)"
   ]
  },
  {
   "cell_type": "code",
   "execution_count": 56,
   "id": "fea5e073",
   "metadata": {},
   "outputs": [],
   "source": [
    "# to convert the \"tags\" column(i.e list) to string data type\n",
    "def listtostring(obj):\n",
    "        return (\" \".join(obj))"
   ]
  },
  {
   "cell_type": "code",
   "execution_count": 57,
   "id": "e21ed01c",
   "metadata": {},
   "outputs": [],
   "source": [
    "movie_df1[\"tags\"]=movie_df1[\"tags\"].apply(listtostring)"
   ]
  },
  {
   "cell_type": "code",
   "execution_count": 58,
   "id": "52845aae",
   "metadata": {},
   "outputs": [
    {
     "data": {
      "text/plain": [
       "'In the 22nd century, a paraplegic Marine is dispatched to the moon Pandora on a unique mission, but becomes torn between following orders and protecting an alien civilization. Action Adventure Fantasy ScienceFiction cultureclash future spacewar spacecolony society spacetravel futuristic romance space alien tribe alienplanet cgi marine soldier battle loveaffair antiwar powerrelations mindandsoul 3d SamWorthington ZoeSaldana SigourneyWeaver StephenLang JamesCameron'"
      ]
     },
     "execution_count": 58,
     "metadata": {},
     "output_type": "execute_result"
    }
   ],
   "source": [
    "movie_df1['tags'][0]"
   ]
  },
  {
   "cell_type": "code",
   "execution_count": 59,
   "id": "8a2c3e36",
   "metadata": {},
   "outputs": [
    {
     "data": {
      "text/html": [
       "<div>\n",
       "<style scoped>\n",
       "    .dataframe tbody tr th:only-of-type {\n",
       "        vertical-align: middle;\n",
       "    }\n",
       "\n",
       "    .dataframe tbody tr th {\n",
       "        vertical-align: top;\n",
       "    }\n",
       "\n",
       "    .dataframe thead th {\n",
       "        text-align: right;\n",
       "    }\n",
       "</style>\n",
       "<table border=\"1\" class=\"dataframe\">\n",
       "  <thead>\n",
       "    <tr style=\"text-align: right;\">\n",
       "      <th></th>\n",
       "      <th>id</th>\n",
       "      <th>title</th>\n",
       "      <th>tags</th>\n",
       "    </tr>\n",
       "  </thead>\n",
       "  <tbody>\n",
       "    <tr>\n",
       "      <th>0</th>\n",
       "      <td>19995</td>\n",
       "      <td>Avatar</td>\n",
       "      <td>In the 22nd century, a paraplegic Marine is di...</td>\n",
       "    </tr>\n",
       "    <tr>\n",
       "      <th>1</th>\n",
       "      <td>285</td>\n",
       "      <td>Pirates of the Caribbean: At World's End</td>\n",
       "      <td>Captain Barbossa, long believed to be dead, ha...</td>\n",
       "    </tr>\n",
       "    <tr>\n",
       "      <th>2</th>\n",
       "      <td>206647</td>\n",
       "      <td>Spectre</td>\n",
       "      <td>A cryptic message from Bond’s past sends him o...</td>\n",
       "    </tr>\n",
       "    <tr>\n",
       "      <th>3</th>\n",
       "      <td>49026</td>\n",
       "      <td>The Dark Knight Rises</td>\n",
       "      <td>Following the death of District Attorney Harve...</td>\n",
       "    </tr>\n",
       "    <tr>\n",
       "      <th>4</th>\n",
       "      <td>49529</td>\n",
       "      <td>John Carter</td>\n",
       "      <td>John Carter is a war-weary, former military ca...</td>\n",
       "    </tr>\n",
       "  </tbody>\n",
       "</table>\n",
       "</div>"
      ],
      "text/plain": [
       "       id                                     title  \\\n",
       "0   19995                                    Avatar   \n",
       "1     285  Pirates of the Caribbean: At World's End   \n",
       "2  206647                                   Spectre   \n",
       "3   49026                     The Dark Knight Rises   \n",
       "4   49529                               John Carter   \n",
       "\n",
       "                                                tags  \n",
       "0  In the 22nd century, a paraplegic Marine is di...  \n",
       "1  Captain Barbossa, long believed to be dead, ha...  \n",
       "2  A cryptic message from Bond’s past sends him o...  \n",
       "3  Following the death of District Attorney Harve...  \n",
       "4  John Carter is a war-weary, former military ca...  "
      ]
     },
     "execution_count": 59,
     "metadata": {},
     "output_type": "execute_result"
    }
   ],
   "source": [
    "movie_df1.head()"
   ]
  },
  {
   "cell_type": "code",
   "execution_count": 60,
   "id": "75e849e8",
   "metadata": {},
   "outputs": [],
   "source": [
    "def tagstolower(obj):\n",
    "    return(obj.lower())"
   ]
  },
  {
   "cell_type": "code",
   "execution_count": 61,
   "id": "3f55a263",
   "metadata": {},
   "outputs": [],
   "source": [
    "movie_df1['tags']=movie_df1['tags'].apply(tagstolower)"
   ]
  },
  {
   "cell_type": "code",
   "execution_count": 62,
   "id": "aa05623c",
   "metadata": {},
   "outputs": [
    {
     "data": {
      "text/html": [
       "<div>\n",
       "<style scoped>\n",
       "    .dataframe tbody tr th:only-of-type {\n",
       "        vertical-align: middle;\n",
       "    }\n",
       "\n",
       "    .dataframe tbody tr th {\n",
       "        vertical-align: top;\n",
       "    }\n",
       "\n",
       "    .dataframe thead th {\n",
       "        text-align: right;\n",
       "    }\n",
       "</style>\n",
       "<table border=\"1\" class=\"dataframe\">\n",
       "  <thead>\n",
       "    <tr style=\"text-align: right;\">\n",
       "      <th></th>\n",
       "      <th>id</th>\n",
       "      <th>title</th>\n",
       "      <th>tags</th>\n",
       "    </tr>\n",
       "  </thead>\n",
       "  <tbody>\n",
       "    <tr>\n",
       "      <th>0</th>\n",
       "      <td>19995</td>\n",
       "      <td>Avatar</td>\n",
       "      <td>in the 22nd century, a paraplegic marine is di...</td>\n",
       "    </tr>\n",
       "    <tr>\n",
       "      <th>1</th>\n",
       "      <td>285</td>\n",
       "      <td>Pirates of the Caribbean: At World's End</td>\n",
       "      <td>captain barbossa, long believed to be dead, ha...</td>\n",
       "    </tr>\n",
       "    <tr>\n",
       "      <th>2</th>\n",
       "      <td>206647</td>\n",
       "      <td>Spectre</td>\n",
       "      <td>a cryptic message from bond’s past sends him o...</td>\n",
       "    </tr>\n",
       "    <tr>\n",
       "      <th>3</th>\n",
       "      <td>49026</td>\n",
       "      <td>The Dark Knight Rises</td>\n",
       "      <td>following the death of district attorney harve...</td>\n",
       "    </tr>\n",
       "    <tr>\n",
       "      <th>4</th>\n",
       "      <td>49529</td>\n",
       "      <td>John Carter</td>\n",
       "      <td>john carter is a war-weary, former military ca...</td>\n",
       "    </tr>\n",
       "  </tbody>\n",
       "</table>\n",
       "</div>"
      ],
      "text/plain": [
       "       id                                     title  \\\n",
       "0   19995                                    Avatar   \n",
       "1     285  Pirates of the Caribbean: At World's End   \n",
       "2  206647                                   Spectre   \n",
       "3   49026                     The Dark Knight Rises   \n",
       "4   49529                               John Carter   \n",
       "\n",
       "                                                tags  \n",
       "0  in the 22nd century, a paraplegic marine is di...  \n",
       "1  captain barbossa, long believed to be dead, ha...  \n",
       "2  a cryptic message from bond’s past sends him o...  \n",
       "3  following the death of district attorney harve...  \n",
       "4  john carter is a war-weary, former military ca...  "
      ]
     },
     "execution_count": 62,
     "metadata": {},
     "output_type": "execute_result"
    }
   ],
   "source": [
    "movie_df1.head()"
   ]
  },
  {
   "cell_type": "code",
   "execution_count": 63,
   "id": "e18f18cb",
   "metadata": {},
   "outputs": [
    {
     "data": {
      "text/plain": [
       "'in the 22nd century, a paraplegic marine is dispatched to the moon pandora on a unique mission, but becomes torn between following orders and protecting an alien civilization. action adventure fantasy sciencefiction cultureclash future spacewar spacecolony society spacetravel futuristic romance space alien tribe alienplanet cgi marine soldier battle loveaffair antiwar powerrelations mindandsoul 3d samworthington zoesaldana sigourneyweaver stephenlang jamescameron'"
      ]
     },
     "execution_count": 63,
     "metadata": {},
     "output_type": "execute_result"
    }
   ],
   "source": [
    "movie_df1['tags'][0]"
   ]
  },
  {
   "cell_type": "markdown",
   "id": "0bcfd7cb",
   "metadata": {},
   "source": [
    "# Text vectorization\n",
    "\n",
    "### i.e converting a text into vector\n",
    "### There are various techniques to perform text-vectorization such as bag of words(bow),TF-IDF, Word2Vector etc\n",
    "### but we are using bag of words (bow) technique"
   ]
  },
  {
   "cell_type": "code",
   "execution_count": 64,
   "id": "1e743949",
   "metadata": {},
   "outputs": [],
   "source": [
    "# we are importing nltk to perform steaming\n",
    "# we are performing steaming now\n",
    "# for eg: (if in the list of 5000 words there are words like:)\n",
    "# [\"loved\",\"loving\",\"love\"]\n",
    "# then asnwer will be:\n",
    "# [\"love\",\"love\",\"love\"]\n",
    "import nltk"
   ]
  },
  {
   "cell_type": "code",
   "execution_count": 65,
   "id": "9a60bd6f",
   "metadata": {},
   "outputs": [],
   "source": [
    "from nltk.stem.porter import PorterStemmer\n",
    "ps=PorterStemmer()"
   ]
  },
  {
   "cell_type": "code",
   "execution_count": 66,
   "id": "4694c107",
   "metadata": {},
   "outputs": [],
   "source": [
    "# Since we have to perform steaming to entire \"tags\" column so we create a function:\n",
    "# Since the tags column is currently a string and steming is done to each word seperately ..so we cannot iterative through \n",
    "# a string ..so first we convert the string to list (inorder to stem each word)(\"split()\" method is used)\n",
    "def stem(text):\n",
    "    l=[]\n",
    "    for i in text.split():\n",
    "        l.append(ps.stem(i))\n",
    "        \n",
    "    return (\" \".join(l))\n"
   ]
  },
  {
   "cell_type": "code",
   "execution_count": 67,
   "id": "ab47752c",
   "metadata": {},
   "outputs": [],
   "source": [
    "movie_df1['tags']=movie_df1['tags'].apply(stem)"
   ]
  },
  {
   "cell_type": "code",
   "execution_count": 68,
   "id": "f47e669d",
   "metadata": {},
   "outputs": [
    {
     "data": {
      "text/plain": [
       "(4800, 3)"
      ]
     },
     "execution_count": 68,
     "metadata": {},
     "output_type": "execute_result"
    }
   ],
   "source": [
    "movie_df1.shape"
   ]
  },
  {
   "cell_type": "code",
   "execution_count": 69,
   "id": "12533e90",
   "metadata": {},
   "outputs": [],
   "source": [
    "from sklearn.feature_extraction.text import TfidfVectorizer\n",
    "cv=TfidfVectorizer(max_features=5000,stop_words='english')"
   ]
  },
  {
   "cell_type": "code",
   "execution_count": 70,
   "id": "7499d7b3",
   "metadata": {},
   "outputs": [],
   "source": [
    "# In summary, even though we are pass the entire 'tags' column at once(to identify the top 5000 words from tags of all movies),\n",
    "# the CountVectorizer processes each tag individually to construct the matrix of token counts.\n",
    "vectors=cv.fit_transform(movie_df1['tags']).toarray()"
   ]
  },
  {
   "cell_type": "code",
   "execution_count": 71,
   "id": "ceebd30c",
   "metadata": {},
   "outputs": [
    {
     "data": {
      "text/plain": [
       "array([[0., 0., 0., ..., 0., 0., 0.],\n",
       "       [0., 0., 0., ..., 0., 0., 0.],\n",
       "       [0., 0., 0., ..., 0., 0., 0.],\n",
       "       ...,\n",
       "       [0., 0., 0., ..., 0., 0., 0.],\n",
       "       [0., 0., 0., ..., 0., 0., 0.],\n",
       "       [0., 0., 0., ..., 0., 0., 0.]])"
      ]
     },
     "execution_count": 71,
     "metadata": {},
     "output_type": "execute_result"
    }
   ],
   "source": [
    "vectors"
   ]
  },
  {
   "cell_type": "code",
   "execution_count": 73,
   "id": "fab38877",
   "metadata": {},
   "outputs": [
    {
     "name": "stdout",
     "output_type": "stream",
     "text": [
      "{'century': 718, 'marin': 2827, 'dispatch': 1282, 'moon': 3033, 'pandora': 3296, 'uniqu': 4695, 'mission': 3004, 'becom': 425, 'torn': 4571, 'follow': 1730, 'order': 3252, 'protect': 3530, 'alien': 162, 'action': 80, 'adventur': 108, 'fantasi': 1630, 'sciencefict': 3933, 'cultureclash': 1073, 'futur': 1810, 'societi': 4160, 'spacetravel': 4206, 'futurist': 1812, 'romanc': 3808, 'space': 4200, 'tribe': 4622, 'soldier': 4167, 'battl': 409, '3d': 47, 'zoesaldana': 4993, 'sigourneyweav': 4085, 'jamescameron': 2339, 'captain': 657, 'long': 2721, 'believ': 437, 'dead': 1142, 'ha': 1971, 'come': 900, 'life': 2674, 'head': 2031, 'edg': 1407, 'earth': 1395, 'turner': 4644, 'elizabeth': 1435, 'noth': 3186, 'quit': 3566, 'ocean': 3212, 'drugabus': 1355, 'exoticisland': 1572, 'loveofone': 2752, 'slif': 4139, 'traitor': 4601, 'shipwreck': 4059, 'ship': 4058, 'allianc': 170, 'afterlif': 121, 'fighter': 1681, 'pirat': 3395, 'aftercreditssting': 120, 'johnnydepp': 2456, 'orlandobloom': 3259, 'keiraknightley': 2530, 'stellanskarsgård': 4269, 'goreverbinski': 1900, 'messag': 2926, 'bond': 526, 'past': 3324, 'send': 3994, 'trail': 4598, 'uncov': 4672, 'sinist': 4108, 'organization': 3256, 'polit': 3431, 'forc': 1738, 'secret': 3966, 'servic': 4013, 'alive': 167, 'deceit': 1158, 'reveal': 3725, 'terribl': 4476, 'truth': 4638, 'crime': 1044, 'spi': 4222, 'basedonnovel': 398, 'secretag': 3967, 'sequel': 4002, 'britishsecretservic': 579, 'danielcraig': 1100, 'christophwaltz': 814, 'ralphfienn': 3592, 'sammend': 3888, 'death': 1149, 'district': 1285, 'attorney': 337, 'harvey': 2017, 'batman': 408, 'assum': 325, 'respons': 3709, 'late': 2616, 'reput': 3694, 'subsequ': 4344, 'hunt': 2170, 'gotham': 1905, 'citi': 828, 'polic': 3424, 'year': 4970, 'later': 2617, 'encount': 1473, 'mysteri': 3091, 'kyle': 2593, 'villain': 4785, 'new': 3141, 'terrorist': 4481, 'leader': 2632, 'overwhelm': 3278, 'dark': 1110, 'knight': 2575, 'resurfac': 3716, 'brand': 550, 'enemy': 1481, 'drama': 1335, 'thriller': 4517, 'dccomic': 1140, 'crimefight': 1045, 'secretident': 3969, 'burglar': 618, 'gothamc': 1906, 'vigilant': 4781, 'cover': 1018, 'superhero': 4370, 'terror': 4480, 'destruct': 1218, 'imax': 2209, 'flood': 1719, 'christianbal': 798, 'michaelcain': 2941, 'garyoldman': 1841, 'annehathaway': 239, 'christophernolan': 811, 'john': 2442, 'carter': 681, 'war': 4836, 'militari': 2979, 'inexplic': 2242, 'transport': 4606, 'exot': 1571, 'planet': 3403, 'reluctantli': 3674, 'embroil': 1451, 'epic': 1506, 'conflict': 945, 'world': 4943, 'brink': 576, 'hi': 2067, 'human': 2160, 'realiz': 3620, 'surviv': 4397, 'peopl': 3354, 'rest': 3710, 'hands': 1984, 'mar': 2818, 'medallion': 2899, 'princess': 3499, 'steampunk': 4266, 'martian': 2850, 'escap': 1518, 'superhumanstrength': 4372, '19thcenturi': 35, 'samanthamorton': 3886, 'willemdafo': 4899, 'seemingli': 3984, 'spider': 4223, 'man': 2802, 'goe': 1890, 'includ': 2226, 'shape': 4042, 'shift': 4057, 'superpow': 4377, 'alter': 177, 'ego': 1419, 'peter': 3366, 'parker': 3311, 'deal': 1146, 'nemesi': 3131, 'eddi': 1404, 'caught': 702, 'love': 2748, 'triangle': 4621, 'dualident': 1366, 'amnesia': 199, 'forgiv': 1749, 'wretch': 4958, 'deathofafriend': 1150, 'sand': 3897, 'hostil': 2142, 'marvelcom': 2857, 'reveng': 3728, 'tobeymaguir': 4547, 'kirstendunst': 2569, 'jamesfranco': 2342, 'thomashadenchurch': 4509, 'samraimi': 3890, 'kingdom': 2566, 'bandit': 377, 'rider': 3750, 'hide': 2070, 'tower': 4583, 'taken': 4428, 'hostag': 2140, 'beauti': 419, 'bound': 537, 'teen': 4454, '70': 52, 'feet': 1659, 'golden': 1892, 'hair': 1974, 'look': 2724, 'ticket': 4527, 'lock': 2712, 'away': 356, 'years': 4972, 'strike': 4319, 'handsom': 1985, 'thief': 4501, 'unlik': 4702, 'duo': 1373, 'set': 4016, 'pack': 3285, 'complet': 927, 'super': 4368, 'cop': 986, 'gang': 1829, 'pub': 3541, 'anim': 228, 'famili': 1618, 'magic': 2786, 'hors': 2134, 'fairytal': 1607, 'music': 3081, 'duringcreditssting': 1375, 'mandymoor': 2805, 'ronperlman': 3818, 'toni': 4563, 'stark': 4258, 'tri': 4618, 'program': 3517, 'thing': 4503, 'awri': 358, 'hero': 2062, 'ultim': 4663, 'test': 4484, 'fate': 1643, 'hang': 1987, 'aveng': 350, 'stop': 4297, 'plans': 3405, 'soon': 4182, 'unexpect': 4685, 'way': 4857, 'global': 1885, 'adventure': 109, 'basedoncomicbook': 396, 'vision': 4803, 'marvelcinematicunivers': 2856, 'robertdowneyjr': 3780, 'chrishemsworth': 791, 'markruffalo': 2832, 'chrisevan': 790, 'harri': 2008, 'begin': 433, 'discov': 1271, 'old': 3225, 'book': 529, 'mark': 2830, 'properti': 3524, 'half': 1976, 'blood': 507, 'prince': 3498, 'learn': 2634, 'lord': 2727, 'witch': 4921, 'broom': 589, 'teenagecrush': 4456, 'werewolf': 4873, 'danielradcliff': 1102, 'rupertgrint': 3850, 'emmawatson': 1463, 'fear': 1651, 'god': 1889, 'lik': 2682, 'left': 2638, 'city': 830, 'modern': 3019, 'day': 1136, 'wrestl': 4956, 'sort': 4188, 'realli': 3621, 'superman': 4373, 'threat': 4514, 'quickli': 3563, 'mankind': 2811, 'greater': 1926, 'danger': 1098, 'known': 2579, 'benaffleck': 443, 'amyadam': 205, 'zacksnyd': 4986, 'return': 3722, 'allow': 171, 'walk': 4825, 'free': 1782, 'wa': 4819, 'abandon': 57, 'plot': 3415, 'million': 2982, 'kill': 2557, 'chang': 730, 'face': 1599, 'forever': 1746, 'rid': 3747, 'steel': 4267, 'savingtheworld': 3914, 'kevinspacey': 2545, 'katebosworth': 2517, 'jamesmarsden': 2347, 'bryansing': 602, 'continu': 973, 'jame': 2336, 'casino': 687, 'betray': 462, 'woman': 4925, '007': 1, 'fight': 1680, 'urg': 4725, 'make': 2794, 'latest': 2618, 'pursu': 3553, 'determin': 1222, 'interrog': 2285, 'mr': 3067, 'white': 4885, 'organ': 3255, 'blackmail': 497, 'far': 1633, 'complex': 928, 'anyon': 261, 'imagined': 2208, 'undercov': 4674, 'judidench': 2489, 'marcforst': 2819, 'jack': 2322, 'work': 4938, 'debt': 1153, 'jones': 2470, 'attempt': 333, 'avoid': 352, 'etern': 1528, 'fortunetel': 1756, 'monster': 3028, 'daughter': 1117, 'texa': 4486, 'ranger': 3596, 'chase': 752, 'outlaw': 3272, 'led': 2636, 'ambush': 190, 'survivor': 4400, 'american': 192, 'indian': 2235, 'nurs': 3199, 'health': 2034, 'don': 1313, 'mask': 2862, 'ride': 3749, 'silver': 4089, 'team': 4448, 'bring': 575, 'justice': 2506, 'western': 4879, 'partner': 3317, 'lawyer': 2627, 'train': 4599, 'helenabonhamcart': 2054, 'young': 4976, 'boy': 543, 'extraordinari': 1590, 'power': 3459, 'thi': 4500, 'journey': 2484, 'came': 638, 'sent': 3999, 'emerg': 1452, 'save': 3913, 'symbol': 4421, 'hope': 2126, 'superhuman': 4371, 'alieninvas': 163, 'reboot': 3630, 'michaelshannon': 2952, 'kevincostn': 2539, 'incred': 2230, 'lion': 2692, 'luci': 2762, 'susan': 4401, 'narnia': 3101, 'aid': 134, 'princ': 3497, 'threaten': 4515, 'evil': 1551, 'king': 2565, 'help': 2059, 'color': 895, 'cast': 688, 'characters': 741, 'clan': 838, 'embark': 1449, 'quest': 3560, 'ensur': 1496, 'right': 3755, 'heir': 2049, 'fictionalplac': 1676, 'brothersisterrelationship': 594, 'matteroflifeanddeath': 2880, 'faith': 1608, 'uncl': 4668, 'fantasyworld': 1632, 'enemi': 1479, 'safeti': 3873, 'nick': 3159, 'director': 1261, 'intern': 2282, 'need': 3123, 'pull': 3545, 'disaster': 1269, 'span': 4208, 'globe': 1886, 'dare': 1109, 'recruit': 3643, 'effort': 1417, 'begins': 434, 'newyork': 3154, 'shield': 4056, 'cross': 1055, 'path': 3326, 'sure': 4386, 'ruthless': 3861, 'artist': 307, 'use': 4728, 'fabl': 1597, 'youth': 4982, 'aboard': 62, 'queen': 3557, 'anne': 238, 'revenge': 3729, 'formid': 1751, 'doesn': 1304, 'know': 2577, 'sea': 3951, 'mutini': 3089, 'sword': 4416, 'sail': 3877, 'duke': 1371, 'mermaid': 2924, 'penélopecruz': 3353, 'agent': 128, 'smith': 4147, 'tommi': 4559, 'lee': 2637, 'time': 4534, 'seen': 3985, '15': 8, 'men': 2916, 'black': 495, 'stake': 4247, 'travel': 4610, 'univers': 4697, 'told': 4553, 'themselv': 4497, 'josh': 2477, 'agency': 126, 'humankind': 2163, 'comedi': 903, 'timetravel': 4537, 'willsmith': 4907, 'tommyleejon': 4560, 'joshbrolin': 2478, 'immedi': 2210, 'event': 1541, 'desol': 1209, 'dwarv': 1380, 'defend': 1169, 'mountain': 3057, 'treasur': 4612, 'claim': 834, 'ruin': 3841, 'elv': 1447, 'meanwhil': 2897, 'armi': 291, 'orc': 3250, 'march': 2820, 'fuel': 1801, 'rise': 3762, 'middle': 2964, 'fall': 1611, 'corrupt': 995, 'hobbit': 2099, 'dragon': 1334, 'swordandsorceri': 4417, 'ianmckellen': 2181, 'peterjackson': 3368, 'outcast': 3270, 'high': 2071, 'parent': 3305, 'leav': 2635, 'rais': 3589, 'ben': 442, 'aunt': 343, 'like': 2683, 'teenagers': 4459, 'figur': 1682, 'got': 1904, 'person': 3361, 'today': 4548, 'belong': 440, 'father': 1644, 'understand': 4680, 'parents': 3306, 'disappear': 1266, 'lead': 2631, 'lab': 2595, 'dr': 1331, 'collis': 891, 'cours': 1012, 'choic': 782, 'destini': 1214, 'lossoffath': 2735, 'emmaston': 1461, 'denisleari': 1185, 'robin': 3786, 'happen': 1993, 'die': 1245, 'robert': 3777, 'promis': 3521, 'identity': 2189, 'widow': 4889, 'draw': 1337, 'town': 4584, 'sheriff': 4053, 'middleag': 2965, 'mediev': 2903, 'russellcrow': 3856, 'cateblanchett': 694, 'maxvonsydow': 2887, 'williamhurt': 4904, 'ridleyscott': 3752, 'success': 4350, 'mountains': 3058, 'gain': 1821, 'ring': 3758, 'gold': 1891, 'wizard': 4923, 'shock': 4061, 'orphan': 3261, 'trade': 4590, 'carefre': 667, 'exist': 1567, 'roam': 3771, 'hall': 1977, 'jordan': 2473, 'colleg': 888, 'otherworldli': 3267, 'north': 3182, 'unawar': 4667, 'destiny': 1215, 'england': 1486, 'experi': 1576, 'basedonyoungadultnovel': 405, 'nicolekidman': 3163, 'samelliott': 3887, 'chrisweitz': 815, 'york': 4974, 'ambiti': 188, 'movi': 3062, 'produc': 3510, 'hire': 2089, 'crew': 1042, 'skull': 4125, 'island': 2313, 'kong': 2580, 'giant': 1873, 'ape': 266, 'smitten': 4148, 'screenplay': 3946, 'filmmak': 1687, 'filmproduc': 1688, 'dinosaur': 1257, 'naomiwatt': 3099, 'jackblack': 2324, 'adrienbrodi': 102, 'rose': 3827, 'tell': 4468, 'stori': 4300, 'lizzi': 2704, 'lewi': 2662, 'bobbi': 517, 'april': 276, 'titan': 4545, 'board': 513, 'depart': 1193, 'upper': 4718, 'class': 841, 'passeng': 3322, 'mother': 3048, 'ruth': 3860, 'fiancé': 1674, 'drifter': 1346, 'best': 457, 'friend': 1790, 'win': 4909, 'game': 1826, 'explain': 1581, 'voyag': 4817, '20': 36, 'panic': 3297, 'disast': 1268, 'classdiffer': 842, 'starcrossedlov': 4255, '1910': 16, 'katewinslet': 2520, 'leonardodicaprio': 2651, 'age': 124, 'collect': 886, 'govern': 1908, 'pass': 3321, 'act': 79, 'design': 1206, 'polar': 3423, 'caus': 703, 'faction': 1602, 'iron': 2311, 'america': 191, 'civilwar': 833, 'scarlettjohansson': 3923, 'beam': 414, 'radio': 3581, 'signal': 4084, 'form': 1750, 'sever': 4024, 'craft': 1026, 'water': 4855, 'hawaii': 2027, 'lieuten': 2671, 'alex': 153, 'weapon': 4862, 'offic': 3218, 'assign': 321, 'paul': 3336, 'engag': 1484, 'unimagin': 4693, 'strength': 4315, 'live': 2700, 'potenti': 3454, 'brother': 591, 'admir': 97, 'shane': 4039, 'expect': 1573, 'navi': 3113, 'hongkong': 2120, 'soccer': 4158, 'scientist': 3935, 'peterberg': 3367, 'park': 3310, 'featur': 1654, 'fulli': 1804, 'theme': 4496, 'origin': 3258, 'dna': 1297, 'suspens': 4404, 'amusementpark': 203, 'animalattack': 229, 'animalhorror': 230, 'chrispratt': 794, 'vincentd': 4787, 'onofrio': 3239, 'grave': 1924, 'wrong': 4963, 'attack': 331, 'reloc': 3672, 'author': 347, 'posit': 3448, 'challeng': 724, 'intellig': 2277, 'secur': 3979, 'insid': 2261, 'alli': 169, 'trust': 4637, 'shadow': 4033, 'onli': 3237, 'field': 1677, 'eve': 1540, 'lethal': 2658, 'hidden': 2068, 'motiv': 3053, 'sociopath': 4162, 'killer': 2559, 'javierbardem': 2373, 'major': 2792, 'ident': 2188, 'crisis': 1051, 'burn': 620, 'decid': 1160, 'suffer': 4356, 'wake': 4824, 'doc': 1298, 'feel': 1658, 'mari': 2823, 'jane': 2358, 'girl': 1878, 'sinc': 4100, 'childhood': 768, 'doctor': 1299, 'supervillain': 4379, 'alfredmolina': 157, 'apart': 263, 'start': 4259, 'odyssey': 3216, 'rebuild': 3631, 'malibu': 2800, 'gwynethpaltrow': 1968, 'doncheadl': 1316, 'guypearc': 1965, 'alice': 161, 'individu': 2238, '19': 15, 'english': 1487, 'party': 3320, 'crowd': 1057, 'consid': 959, 'marriag': 2838, 'hole': 2102, 'garden': 1835, 'spot': 4235, 'unusu': 4714, 'rabbit': 3567, 'arriv': 300, 'strang': 4307, 'surreal': 4394, 'place': 3399, 'nightmar': 3169, 'child': 765, 'talk': 4431, 'animals': 231, 'alic': 160, 'reason': 3624, 'conquer': 955, 'horrif': 2131, 'restor': 3713, 'throne': 4518, 'timburton': 4533, 'cure': 1076, 'treat': 4614, 'line': 2689, 'drawn': 1338, 'band': 376, 'mutant': 3087, 'beast': 417, 'hughjackman': 2158, 'halleberri': 1978, 'patrickstewart': 3332, 'brettratn': 564, 'relationship': 3663, 'mike': 2972, 'dure': 1374, 'friends': 1792, 'bestfriend': 458, 'scari': 3922, 'billycryst': 483, 'johngoodman': 2446, 'stevebuscemi': 4279, 'helenmirren': 2056, 'sam': 3884, 'normal': 3180, 'mind': 2984, 'target': 4437, 'drag': 1333, 'egypt': 1420, 'sun': 4366, 'chao': 735, 'artifact': 304, 'transform': 4603, 'tank': 4434, 'robot': 3790, 'shialabeouf': 4055, 'meganfox': 2907, 'michaelbay': 2939, 'pick': 3385, 'vanish': 4745, 'group': 1944, 'businessman': 624, 'push': 3555, 'boundari': 538, 'technolog': 4451, 'control': 976, 'ancient': 209, 'menac': 2917, 'giantrobot': 1874, 'markwahlberg': 2834, 'stanleytucci': 4253, 'oscar': 3264, 'small': 4143, 'tim': 4531, 'circu': 825, 'kansa': 2510, 'land': 2603, 'oz': 3283, 'inhabit': 2250, 'great': 1925, 'clutch': 869, 'illus': 2203, 'lost': 2741, 'milakuni': 2975, 'rachelweisz': 3575, 'michellewilliam': 2958, 'bad': 368, 'guy': 1964, 'spend': 4220, 'loves': 2754, 'school': 3929, 'graduat': 1915, 'stay': 4264, 'clue': 867, 'obsess': 3203, 'jamiefoxx': 2355, 'tech': 4450, 'son': 4179, 'kevin': 2537, 'investig': 2298, 'dictat': 1242, 'real': 3616, 'artificialintellig': 306, 'dystopia': 1389, 'comput': 932, 'decept': 1159, 'duel': 1370, 'motorcycl': 3055, 'garretthedlund': 1838, 'jeffbridg': 2384, 'oliviawild': 3231, 'star': 4254, 'race': 3568, 'car': 660, 'lightn': 2681, 'pal': 3293, 'compet': 924, 'grand': 1916, 'road': 3768, 'championship': 727, 'rocki': 3796, 'intrigu': 2291, 'carrac': 677, 'anthropomorph': 256, 'owenwilson': 3279, 'emilymortim': 1457, 'centuries': 717, 'warrior': 4846, 'green': 1932, 'corp': 991, 'intergalact': 2281, 'wear': 4863, 'grant': 1921, 'destroy': 1216, 'balanc': 372, 'universe': 4698, 'lie': 2670, 'hand': 1982, 'ryanreynold': 3865, 'petersarsgaard': 3369, 'timrobbin': 4540, 'martincampbel': 2852, 'andy': 217, 'toy': 4586, 'haven': 2025, 'play': 3408, 'andi': 213, 'college': 889, 'accident': 70, 'nefari': 3124, 'care': 665, 'center': 713, 'togeth': 4551, 'home': 2108, 'toycomestolif': 4587, 'tomhank': 4557, 'timallen': 4532, 'joancusack': 2428, 'grown': 1948, 'post': 3451, 'apocalypt': 268, 'connor': 954, 'resist': 3701, 'increasingli': 2229, 'domin': 1311, 'marcu': 2822, 'wright': 4959, 'confus': 947, 'foe': 1726, 'propheci': 3525, 'sanfrancisco': 3900, 'cyborg': 1086, 'killerrobot': 2560, 'gasstat': 1843, 'losangel': 2728, 'antonyelchin': 260, 'shaw': 4049, 'seek': 3983, 'speed': 4217, 'vindiesel': 4789, 'paulwalk': 3343, 'dwaynejohnson': 1381, 'michellerodriguez': 2957, 'jameswan': 2350, 'unit': 4696, 'nation': 3107, 'lane': 2605, 'content': 971, 'plagu': 3400, 'infect': 2245, 'turn': 4642, 'popul': 3438, 'rampag': 3593, 'zombies': 4996, 'bare': 386, 'chaos': 736, 'persuad': 3362, 'disease': 1274, 'peril': 3358, 'trek': 4617, 'brave': 552, 'odd': 3213, 'answer': 249, 'befor': 430, 'civil': 831, 'horror': 2133, 'apocalyps': 267, 'zombi': 4994, 'zombieapocalyps': 4995, 'bradpitt': 547, 'speci': 4212, 'period': 3359, 'join': 2463, 'younger': 4979, 'future': 1811, '1970': 25, 'storm': 4302, 'jamesmcavoy': 2348, 'michaelfassbend': 2944, 'jenniferlawr': 2394, 'enterpris': 1499, 'unstopp': 4712, 'everyth': 1549, 'stand': 4251, 'state': 4260, 'score': 3936, 'kirk': 2568, 'manhunt': 2807, 'captur': 659, 'mass': 2863, 'destruction': 1219, 'friendship': 1793, 'sacrific': 3868, 'spacecraft': 4201, 'spaceopera': 4204, 'chrispin': 793, 'karlurban': 2513, 'unwittingli': 4716, 'open': 3241, 'fearsom': 1653, 'unleash': 4701, 'strive': 4324, 'reclaim': 3635, 'onc': 3236, 'people': 3355, 'thought': 4512, 'legend': 2642, 'chanc': 728, 'nicholashoult': 3158, 'ewanmcgregor': 1554, 'adapt': 93, 'scott': 3938, 'novel': 3189, 'lure': 2769, 'lavish': 2624, 'neighbor': 3126, 'jay': 2374, 'crack': 1025, 'rich': 3736, 'existence': 1568, 'obsession': 3204, 'tragedi': 4595, 'await': 353, 'infidel': 2246, 'careymulligan': 669, 'joeledgerton': 2437, 'rogu': 3802, 'capabl': 654, 'releas': 3666, 'gift': 1875, 'rule': 3842, 'basedonvideogam': 404, 'jakegyllenha': 2334, 'benkingsley': 451, 'legion': 2645, 'monstrou': 3030, 'creatures': 1039, 'began': 432, 'consum': 966, 'humanity': 2162, 'resourc': 3705, 'end': 1475, 'combat': 898, 'special': 4213, 'type': 4657, 'massiv': 2865, 'simultan': 4098, 'pilot': 3392, 'prove': 3532, 'nearli': 3121, 'relentless': 3667, 'verg': 4760, 'defeat': 1168, 'heroes': 2063, 'charli': 746, 'drive': 1348, 'legendari': 2643, 'mount': 3056, 'idriselba': 2191, 'step': 4270, 'adulthood': 106, 'remain': 3675, 'reluct': 3673, 'prime': 3496, 'film': 1685, 'usa': 4726, 'suggest': 4357, 'role': 3804, 'secrets': 3975, 'bodyguard': 522, 'sabotag': 3866, 'commando': 913, 'johnmalkovich': 2452, 'francesmcdormand': 1766, 'cold': 877, 'soviet': 4198, 'wield': 4890, 'search': 3958, 'crystal': 1065, 'supernatur': 4375, 'relat': 3662, 'mystic': 3093, 'indi': 2233, 'peru': 3363, 'colleagu': 885, 'professor': 3514, 'knowledg': 2578, 'riddl': 3748, 'whip': 4883, 'machinegun': 2775, 'treasurehunt': 4613, 'archaeologist': 280, 'archeolog': 281, 'harrisonford': 2011, 'raywinston': 3611, 'stevenspielberg': 4285, 'natur': 3110, 'jeffreywright': 2387, 'scottish': 3940, 'accomplish': 73, 'defi': 1171, 'sacr': 3867, 'custom': 1082, 'inadvert': 2223, 'turmoil': 4641, 'eccentr': 1401, 'wise': 4918, 'ill': 2197, 'fat': 1641, 'wish': 4919, 'serv': 4011, 'comic': 908, 'enorm': 1491, 'scotland': 3937, 'rebel': 3627, 'braveri': 553, 'bear': 415, 'womandirector': 4926, 'courag': 1011, 'billyconnolli': 481, 'emmathompson': 1462, 'explor': 1584, 'reach': 3612, 'feder': 1656, 'strand': 4306, 'hatr': 2022, 'simonpegg': 4093, 'wall': 4827, 'overrun': 3277, 'clean': 849, 'develop': 1225, 'think': 4505, 'final': 1690, 'romanticcomedi': 3811, 'assassin': 318, 'ambassador': 186, 'han': 1981, 'inspector': 2265, 'detect': 1220, 'pari': 3308, 'french': 1786, 'hold': 2101, 'meet': 2904, 'struggl': 4326, 'chines': 774, 'crimin': 1047, 'mastermind': 2868, 'jackiechan': 2326, 'worldwid': 4947, 'effect': 1416, 'radiat': 3579, 'unpreced': 4705, 'solar': 4164, 'core': 989, 'heat': 2040, 'warn': 4842, 'presid': 3480, 'thoma': 4508, 'wilson': 4908, 'unstabl': 4711, 'prepar': 3476, 'entir': 1502, 'writer': 4961, 'jackson': 2328, 'stumbl': 4334, 'build': 610, 'cataclysm': 691, 'family': 1620, 'erupt': 1517, 'earthquak': 1396, 'wreak': 4955, 'havoc': 2026, 'naturaldisast': 3111, 'endoftheworld': 1477, 'johncusack': 2445, 'amandapeet': 182, 'chiwetelejiofor': 777, 'thandienewton': 4490, 'rolandemmerich': 3803, 'miser': 2997, 'awaken': 354, 'christma': 803, 'spirit': 4228, 'opportun': 3245, 'wast': 4852, 'current': 1077, 'dire': 1259, 'doe': 1303, 'ways': 4858, 'grow': 1946, 'bitter': 493, 'redemption': 3646, 'holiday': 2104, 'money': 3024, 'ghost': 1872, 'lesson': 2656, 'jimcarrey': 2421, 'robertzemecki': 3785, 'genet': 1854, 'materi': 2872, 'preciou': 3467, 'key': 2546, 'strateg': 4309, 'interspeciesrom': 2286, 'channingtatum': 734, 'seanbean': 3954, 'london': 2716, 'jungl': 2501, 'activ': 82, 'africa': 117, 'samuell': 3894, 'sibl': 4076, 'lucy': 2765, 'peac': 3346, 'plung': 3416, 'winter': 4916, 'children': 770, 'spectacular': 4215, 'selfsacrific': 3989, 'level': 2660, 'plan': 3401, 'supernaturalpow': 4376, '1980': 30, 'lt': 2760, 'jim': 2419, 'gordon': 1898, 'streets': 4314, 'partnership': 3319, 'prey': 3491, 'reign': 3657, 'terrifi': 4478, 'citizen': 829, 'sadism': 3870, 'organizedcrim': 3257, 'heathledg': 2043, 'aaroneckhart': 55, 'carl': 672, 'spent': 4221, 'dream': 1340, 'experienc': 1577, 'twist': 4653, 'wilder': 4895, 'russell': 3855, 'agediffer': 125, 'balloon': 375, 'christopherplumm': 812, 'murphi': 3077, 'meteor': 2929, 'wed': 4866, '11': 4, 'jump': 2500, 'covert': 1019, 'confin': 944, 'ragtag': 3585, 'monsters': 3029, 'sethrogen': 4019, 'reesewitherspoon': 3648, 'paulrudd': 3341, 'held': 2052, 'captiv': 658, 'cave': 705, 'billionair': 475, 'engin': 1485, 'creat': 1033, 'suit': 4361, 'armor': 292, 'middleeast': 2966, 'armsdeal': 293, 'terrencehoward': 4474, 'jonfavreau': 2471, 'station': 4262, '1930': 18, 'paris': 3309, 'fix': 1706, 'clock': 860, 'gadget': 1819, 'connect': 950, 'mechan': 2898, 'unlock': 4703, 'adventures': 110, 'georg': 1859, 'surpris': 4393, 'memori': 2915, 'buri': 619, 'filmdirector': 1686, 'chloëgracemoretz': 779, 'martinscorses': 2854, 'southern': 4196, 'inventor': 2296, 'loveless': 2750, 'rekindl': 3660, 'gunfight': 1959, 'west': 4878, 'master': 2867, 'disguis': 1277, 'thwart': 4524, 'basedontvseri': 403, 'kevinklin': 2542, 'kennethbranagh': 2535, 'salmahayek': 3883, 'rick': 3745, 'connel': 952, 'china': 773, 'pit': 3397, 'emperor': 1465, '000': 0, 'dynasti': 1386, 'enlist': 1490, 'wife': 4892, 'cal': 634, 'abus': 64, 'brendanfras': 561, 'jetli': 2413, 'mariabello': 2825, 'robcohen': 3776, 'dc': 1139, 'suicid': 4358, 'squad': 4239, 'antihero': 258, 'government': 1909, 'undertak': 4681, 'risk': 3763, 'exchang': 1560, 'prison': 3501, 'secretmiss': 3973, 'joelkinnaman': 2438, 'violadavi': 4792, 'contact': 967, 'fathersonrelationship': 1646, 'marriedcoupl': 2843, 'support': 4382, 'rescu': 3697, 'noah': 3174, 'stevecarel': 4280, 'tomshadyac': 4561, 'cage': 632, 'drop': 1352, 'manag': 2803, 'alpha': 175, 'physic': 3381, 'thrown': 4520, 'tomcruis': 4556, 'emilyblunt': 1456, 'brendangleeson': 562, 'billpaxton': 478, 'dougliman': 1330, 'ice': 2182, 'escape': 1520, 'trio': 4625, 'covet': 1020, 'map': 2817, 'tattoo': 4440, 'doomsday': 1319, 'egyptian': 1421, 'desert': 1205, 'deep': 1165, 'elit': 1433, 'joe': 2434, 'gener': 1851, 'arm': 290, 'dealer': 1147, 'prevent': 3489, 'murder': 3073, 'explos': 1585, 'laser': 2612, 'dennisquaid': 1190, 'marlonwayan': 2836, 'riley': 3757, 'midwest': 2970, 'job': 2430, 'san': 3896, 'francisco': 1767, 'guid': 1955, 'emot': 1464, 'joy': 2485, 'anger': 224, 'advis': 113, 'everyday': 1547, 'adjust': 96, 'ensu': 1494, 'main': 2790, 'import': 2218, 'navig': 3114, 'hous': 2148, 'cartoon': 682, 'kid': 2550, 'billhad': 473, 'tiger': 4529, 'khan': 2548, 'flee': 1712, 'self': 3988, 'discoveri': 1272, 'panther': 3298, 'snake': 4153, 'wolf': 4924, 'eleph': 1427, 'remak': 3676, 'talkinganim': 4432, 'billmurray': 476, 'pressur': 3485, 'press': 3484, 'public': 3543, 'share': 4043, 'let': 2657, 'forg': 1747, 'confront': 946, 'enemies': 1480, 'marri': 2837, 'perform': 3357, 'violent': 4795, 'coup': 1008, 'snow': 4156, 'decad': 1155, 'obtain': 3206, 'heart': 2037, 'forest': 1743, 'immort': 2213, 'imprison': 2222, 'kristenstewart': 2585, 'charlizetheron': 749, 'disney': 1280, 'icon': 2184, 'classic': 843, 'sleep': 4136, 'beauty': 422, 'beautiful': 420, 'pure': 3551, 'idyl': 2192, 'invad': 2293, 'harmoni': 2005, 'stone': 4294, 'bent': 454, 'successor': 4352, 'result': 3714, 'curs': 1078, 'newborn': 3142, 'infant': 2244, 'true': 4635, 'happi': 1995, 'retel': 3718, 'angelinajoli': 223, 'ellefan': 1438, 'aliv': 166, 'aftermath': 122, 'wipe': 4917, 'caesar': 631, 'maintain': 2791, 'commun': 918, 'coloni': 894, 'wood': 4932, 'monkey': 3027, 'andyserki': 219, 'lover': 2753, 'sweep': 4409, 'tale': 4429, 'imposs': 2219, 'backdrop': 365, 'centr': 714, 'charact': 739, 'british': 578, '18th': 13, 'centuri': 716, 'india': 2234, 'deepli': 1167, 'present': 3479, 'joshhartnett': 2479, 'base': 394, 'japan': 2360, 'endur': 1478, 'born': 533, 'samurai': 3895, 'vengeanc': 4755, 'treacher': 4611, 'banish': 379, 'kind': 2564, 'honor': 2121, 'homeland': 2110, 'seri': 4004, 'trial': 4619, 'ordinari': 3253, 'basedontruestori': 402, 'keanureev': 2529, 'steve': 4278, 'aka': 142, 'washington': 4849, 'web': 4865, 'expos': 1586, 'conspiraci': 961, 'profession': 3513, 'silenc': 4086, 'everi': 1545, 'revealed': 3726, 'falcon': 1610, 'th': 4488, 'washingtond': 4850, 'robertredford': 3783, 'bore': 531, 'domest': 1310, 'shrek': 4072, 'pact': 3286, 'mak': 2793, 'ogr': 3222, 'version': 4762, 'met': 2927, 'mikemy': 2974, 'eddiemurphi': 1406, 'camerondiaz': 642, 'antoniobandera': 259, 'bright': 573, 'scientif': 3934, 'geniu': 1855, 'jade': 2331, 'fil': 1683, 'enigmat': 1488, 'somewher': 4178, 'georgeclooney': 1862, 'prodigi': 3509, 'brotherbrotherrelationship': 592, 'talent': 4430, 'hate': 2021, 'miller': 2981, 'ralph': 3591, 'foot': 1732, 'tall': 4433, 'pound': 3456, 'video': 4772, 'jr': 2486, 'want': 4835, 'good': 1895, 'just': 2504, 'enter': 1498, 'rush': 3853, 'track': 4589, 'von': 4813, 'affect': 115, 'bulli': 614, 'videogam': 4773, 'johnc': 2443, 'reilli': 3658, 'doubt': 1328, 'wonder': 4930, 'fade': 1604, 'santaclau': 3902, 'nerd': 3135, 'bell': 438, 'beard': 416, 'alway': 179, 'knew': 2573, 'recov': 3641, 'technology': 4452, 'immens': 2211, 'defens': 1170, 'advanc': 107, 'force': 1739, 'women': 4928, 'liamhemsworth': 2666, 'jeffgoldblum': 2386, 'billpullman': 479, 'vike': 4782, 'shi': 4054, 'iii': 2196, 'longer': 2722, 'instead': 2270, 'befriend': 431, 'fli': 1714, 'arena': 286, 'night': 3166, 'villag': 4783, 'ignor': 2194, 'flight': 1715, 'jaybaruchel': 2375, 'gerardbutl': 1866, '10': 2, 'clear': 850, 'anyth': 262, 'trace': 4588, 'finish': 1695, 'nemesis': 3132, 'adult': 103, 'manvsmachin': 2816, 'sunglass': 4367, 'firemen': 1697, 'psychiatrist': 3535, 'arnoldschwarzenegg': 296, 'clairedan': 836, 'light': 2680, 'spaceship': 4205, 'outerspac': 3271, 'chronicl': 816, 'newli': 3147, 'limit': 2685, 'vast': 4748, 'involv': 2302, 'singlepar': 4107, 'nasa': 3103, 'expedit': 1575, 'raceagainsttim': 3569, 'familyrelationship': 1622, 'astronaut': 327, 'fatherdaughterrelationship': 1645, 'singlefath': 4105, 'farmer': 1636, 'rel': 3661, 'matthewmcconaughey': 2885, 'jessicachastain': 2409, 'skill': 4124, 'commit': 916, 'corpor': 992, 'espionag': 1524, 'infiltr': 2247, 'offer': 3217, 'regain': 3652, 'task': 4438, 'anoth': 248, 'idea': 2185, 'lossoflov': 2737, 'kidnap': 2551, 'heist': 2051, 'redempt': 3645, 'josephgordon': 2476, 'levitt': 2661, 'ellenpag': 1440, 'tomhardi': 4558, 'hit': 2094, 'larger': 2609, 'tear': 4449, 'scrambl': 3943, 'rag': 3582, 'tag': 4425, 'volunt': 4811, 'cut': 1083, 'red': 3644, 'tape': 4436, 'weak': 4859, 'tie': 4528, 'foreign': 1742, 'greatest': 1927, 'catastroph': 692, 'evolv': 1553, 'veri': 4761, 'eyes': 1596, 'enjoy': 1489, 'quiet': 3564, 'swept': 4412, 'tunnel': 4639, 'invis': 2300, 'lo': 2708, 'angel': 220, 'street': 4312, 'racer': 3571, 'suspect': 4403, 'big': 468, 'rig': 3754, 'brian': 565, 'sister': 4111, 'choos': 784, 'lapd': 2607, 'streetgang': 4313, 'auto': 349, 'benjamin': 449, 'bizarr': 494, 'consequences': 957, 'diari': 1240, 'funer': 1807, 'hospit': 2137, 'tildaswinton': 4530, 'davidfinch': 1125, 'charl': 744, 'took': 4567, 'arch': 279, 'cia': 819, '1960': 23, 'kevinbacon': 2538, 'katniss': 2527, 'showdown': 4069, '13': 6, 'stage': 4245, 'mortal': 3043, 'moral': 3037, 'ani': 227, 'hunger': 2168, 'games': 1827, 'revolut': 3732, 'joshhutcherson': 2480, 'woodyharrelson': 4936, 'sorcer': 4184, 'manhattan': 2806, 'dave': 1119, 'averag': 351, 'crash': 1030, 'art': 302, 'scienc': 3932, 'darkness': 1113, 'castl': 689, 'apprentic': 274, 'nicolascag': 3162, 'cruis': 1062, 'wave': 4856, 'dramat': 1336, 'lives': 2701, 'newyear': 3153, 'sev': 4022, 'drown': 1353, 'ball': 373, 'singl': 4103, 'kurtrussel': 2592, 'richarddreyfuss': 3740, 'joshluca': 2481, 'mad': 2777, 'amp': 200, 'sad': 3869, 'trick': 4623, 'assault': 319, 'boardingschool': 514, 'teacher': 4447, 'cowardli': 1022, 'pregnanc': 3470, 'julieandrew': 2498, 'realm': 3622, 'portal': 3443, 'worlds': 4944, 'oppos': 3246, 'paulapatton': 3337, 'benfost': 447, 'unknown': 4700, 'fiction': 1675, 'cousin': 1017, 'swallow': 4407, 'paint': 3290, 'fantast': 1631, 'goodvsevil': 1896, 'lifelong': 2676, 'danni': 1103, 'walker': 4826, 'ace': 76, 'entangl': 1497, 'triangl': 4620, 'johnson': 2459, 'rivalri': 3766, 'turned': 4643, 'devast': 1224, 'pearl': 3348, 'harbor': 2001, 'histori': 2091, 'patriot': 3334, 'worldwarii': 4946, 'airplan': 139, 'katebeckinsal': 2516, 'cubagoodingjr': 1067, 'teenager': 4458, 'extraterrestri': 1591, 'heroic': 2064, 'retriev': 3721, 'empire': 1467, 'ventur': 4758, 'gone': 1894, 'greec': 1928, 'campaign': 645, 'homosexu': 2116, 'gayrelationship': 1849, 'ancientworld': 211, 'colinfarrel': 882, 'valkilm': 4734, 'jaredleto': 2362, 'oliverston': 3229, 'fifth': 1679, 'studi': 4332, 'stun': 4335, 'choice': 783, 'matter': 2879, 'student': 4330, 'dub': 1367, 'army': 294, 'cuttingthecord': 1084, 'childhero': 767, 'dyinganddeath': 1382, 'sorcerer': 4185, 'blackmag': 496, 'sorceri': 4186, 'occult': 3208, 'fourth': 1761, 'tournament': 4582, 'ron': 3815, 'teenag': 4455, 'employ': 1468, 'expert': 1580, 'repair': 3687, 'imag': 2205, 'damag': 1092, 'miss': 3000, 'successful': 4351, 'stick': 4289, 'sens': 3996, 'purpos': 3552, 'slip': 4140, 'alcohol': 151, 'forbiddenlov': 1737, 'jasonbateman': 2364, 'unabl': 4666, 'spread': 4237, 'viru': 4802, 'daili': 1089, 'desper': 1211, 'alon': 172, 'tour': 4580, 'chocol': 781, 'factori': 1603, 'londonengland': 2717, 'parentskidsrelationship': 3307, 'annasophiarobb': 237, 'rat': 3604, 'chef': 758, 'despit': 1212, 'problem': 3506, 'sewer': 4025, 'ideal': 2186, 'situat': 4117, 'beneath': 445, 'restaur': 3711, 'famou': 1624, 'august': 342, 'appar': 269, 'visitor': 4805, 'kitchen': 2572, 'fine': 1694, 'restaurant': 3712, 'passion': 3323, 'cook': 983, 'motion': 3052, 'hilari': 2082, 'excit': 1561, 'upsid': 4722, 'river': 3767, 'mous': 3059, 'confid': 943, 'roof': 3819, 'window': 4911, 'court': 1013, 'ianholm': 2180, 'driven': 1349, 'tragedy': 4596, 'bruce': 597, 'dedic': 1163, 'underworld': 4683, 'himalaya': 2086, 'martialart': 2849, 'ninja': 3173, 'escapad': 1519, 'liamneeson': 2667, 'katieholm': 2526, 'penguin': 3350, 'chimp': 772, 'yorker': 4975, 'hatch': 2020, 'crazi': 1032, 'plane': 3402, 'jealousi': 2379, 'danc': 1096, 'zoo': 4998, 'volcano': 4810, 'zebra': 4988, 'shark': 4044, 'benstil': 453, 'jadapinkettsmith': 2330, 'davidschwimm': 1130, 'chrisrock': 795, 'hapless': 1992, 'museum': 3080, 'larri': 2611, 'living': 2702, 'breath': 558, 'exhibit': 1565, 'transfer': 4602, 'institution': 2273, 'close': 862, 'lincoln': 2686, 'hankazaria': 1989, 'shawnlevi': 4050, 'logan': 2713, 'girlfriend': 1879, 'undergo': 4678, 'boxer': 542, 'lievschreib': 2672, 'dannyhuston': 1108, 'zion': 4991, 'invas': 2294, 'machin': 2773, 'neo': 3133, 'philosophi': 3376, 'kungfu': 2590, 'subway': 4348, 'computerviru': 933, 'supercomput': 4369, 'virtualr': 4801, 'cyberpunk': 1085, 'laurencefishburn': 2623, 'carrie': 679, 'annemoss': 240, 'hugoweav': 2159, 'anna': 234, 'fallen': 1612, 'accompani': 72, 'deliveri': 1175, 'kristenbel': 2584, 'month': 3032, 'depict': 1195, 'matrix': 2875, 'humans': 2164, 'brought': 595, 'resistance': 3702, 'abil': 60, 'code': 873, 'certain': 720, 'pre': 3465, 'nasti': 3104, 'piec': 3388, 'news': 3151, 'dig': 1253, 'worri': 4948, 'veng': 4754, 'reunit': 3724, 'foster': 1758, 'natalieportman': 3105, 'anthonyhopkin': 254, 'landscap': 2604, 'broken': 584, 'everyon': 1548, 'run': 3846, 'abl': 61, 'max': 2886, 'loss': 2731, 'achiev': 77, 'australia': 345, 'ontherun': 3240, 'georgemil': 1863, 'harvard': 2016, 'evid': 1550, 'underground': 4679, 'rome': 3812, 'vatican': 4749, 'christian': 797, 'prequel': 3477, 'catholic': 700, 'ronhoward': 3816, 'mighti': 2971, 'arrog': 301, 'darkest': 1112, 'newmexico': 3150, 'biggest': 470, 'hollywood': 2107, 'separ': 4001, 'belov': 441, 'owner': 3281, 'powers': 3461, 'kidsandfamili': 2555, 'johntravolta': 2460, 'pig': 3391, 'mole': 3020, 'household': 2150, 'shut': 4073, 'sentenc': 4000, 'pet': 3364, 'shop': 4065, 'samrockwel': 3891, 'fisherman': 1702, 'sole': 4169, 'rage': 3583, 'lack': 2598, 'lose': 2729, 'mytholog': 3096, 'zeu': 4989, 'vampir': 4738, 'estat': 1526, 'fishoutofwat': 1703, 'chain': 722, '18thcenturi': 14, 'michellepfeiff': 2956, 'ethan': 1529, 'highli': 2075, 'vienna': 4774, 'jeremyrenn': 2399, 'visit': 4804, 'estrang': 1527, 'moonlight': 3034, 'savag': 3912, 'flesh': 1713, 'ruralset': 3852, 'beniciodeltoro': 448, 'barri': 391, 'disillus': 1279, 'lone': 2718, 'career': 666, 'honey': 2117, 'trip': 4626, 'outsid': 3274, 'vanessa': 4743, 'florist': 1721, 'actual': 87, 'eat': 1400, 'sue': 4355, 'flower': 1722, 'renéezellweg': 3686, 'matthewbroderick': 2882, 'po': 3417, 'valley': 4735, 'alongsid': 173, 'fellow': 1660, 'kung': 2589, 'fu': 1800, 'furiou': 1809, 'crane': 1029, 'succeed': 4349, 'dustinhoffman': 1376, 'asid': 314, 'air': 138, 'arrest': 299, 'nightshyamalan': 3171, 'retir': 3719, 'duti': 1378, 'agents': 129, 'sadist': 3871, 'berlin': 455, 'whitehous': 4886, 'honeymoon': 2118, 'shanghai': 4040, 'letter': 2659, 'mail': 2789, 'celebr': 708, 'philipseymourhoffman': 3373, 'vingrham': 4791, 'billycrudup': 482, 'policeman': 3428, 'deni': 1183, 'littl': 2698, 'house': 2149, 'heavili': 2046, 'president': 3481, 'country': 1004, 'usapresid': 4727, 'secretservic': 3976, 'maggiegyllenha': 2785, 'suddenli': 4354, 'abduct': 58, 'mom': 3022, 'mischiev': 2996, 'whi': 4882, 'sbook': 3917, 'sethgreen': 4018, 'breckinmey': 559, 'sid': 4078, 'common': 917, 'spike': 4224, 'frog': 1795, 'jeanreno': 2381, 'orphanage': 3263, '12': 5, 'hook': 2124, 'rebelli': 3628, 'forev': 1745, 'pan': 3295, 'dog': 1305, 'genius': 1856, 'spring': 4238, 'stolen': 4293, 'moment': 3023, 'changed': 732, 'adopt': 100, 'childprodigi': 769, 'growingup': 1947, 'troubl': 4630, 'clash': 840, 'convinc': 982, 'helen': 2053, 'husband': 2175, 'troy': 4632, 'ask': 315, '50': 49, 'greek': 1931, 'adulteri': 105, 'fraud': 1777, 'swordfight': 4418, 'battlefield': 411, 'ericbana': 1512, 'briancox': 566, 'appl': 271, 'central': 715, 'attract': 338, 'attent': 335, 'gate': 1844, 'parti': 3314, 'julian': 2493, 'europ': 1533, 'korean': 2582, 'replac': 3689, 'differ': 1249, 'assist': 322, 'exploit': 1583, 'satellit': 3909, 'piercebrosnan': 3389, 'rosamundpik': 3825, 'paranorm': 3304, 'enthusiast': 1501, 'erin': 1514, 'nuclear': 3192, 'worker': 4940, 'femalefriendship': 1664, 'kristenwiig': 2586, 'asteroid': 326, 'collid': 890, 'dan': 1094, 'surfac': 4388, 'bomb': 525, 'renown': 3684, 'agre': 132, 'provid': 3533, 'hotshot': 2146, 'isn': 2314, 'spacemarin': 4202, 'brucewilli': 600, 'billybobthornton': 480, 'livtyl': 2703, 'kay': 2528, 'toughest': 4579, 'galaxi': 1822, 'illegalimmigr': 2200, 'newident': 3145, 'flyingsauc': 1723, 'descend': 1203, 'denmark': 1186, 'sin': 4099, 'royalti': 3836, 'adultanim': 104, 'robinwright': 3789, 'huge': 2155, 'closer': 863, 'instal': 2267, 'series': 4007, 'access': 68, 'russian': 3858, 'launch': 2620, 'states': 4261, 'implic': 2217, 'pitch': 3398, 'lay': 2629, 'guardian': 1952, 'belief': 436, 'imagin': 2206, 'alecbaldwin': 152, 'judelaw': 2487, 'dick': 1241, 'handl': 1983, 'pretti': 3488, 'rob': 3773, 'second': 3965, 'remind': 3679, 'hurt': 2174, 'innoc': 2258, 'coupl': 1009, 'hear': 2035, 'boss': 534, 'company': 923, 'robber': 3774, 'suburbia': 4347, 'humili': 2165, 'unemploy': 4684, 'téaleoni': 4660, 'richardjenkin': 3743, 'nathan': 3106, 'japanes': 2361, 'respect': 3707, 'warcrim': 4837, 'swordplay': 4419, 'mercenari': 2922, 'insurg': 2276, 'lossofhusband': 2736, 'slaughter': 4131, 'soldi': 4166, 'edwardzwick': 1415, 'mose': 3045, 'slave': 4132, 'deadli': 1143, 'bibl': 467, 'johnturturro': 2461, 'thrill': 4516, 'iowa': 2303, 'farm': 1635, 'bas': 393, 'reject': 3659, 'instinct': 2271, 'teleport': 4466, 'spacemiss': 4203, 'leonardnimoy': 2650, 'nerdi': 3136, 'amaz': 185, 'thanksgiv': 4492, 'chapter': 738, 'favorit': 1648, 'sport': 4233, 'pair': 3292, 'chart': 751, 'territori': 4479, 'hundr': 2167, 'wild': 4894, 'peace': 3347, 'wifehusbandrelationship': 4893, 'mothersonrelationship': 3051, 'jonahhil': 2465, 'mythic': 3095, 'myth': 3094, 'artifici': 305, 'initi': 2252, 'jessicabiel': 2408, 'samshepard': 3892, 'altern': 178, '1985': 31, 'glori': 1887, 'costum': 997, 'veteran': 4764, 'brutal': 601, 'massmurd': 2866, 'carlagugino': 673, 'martin': 2851, 'roger': 3800, 'squar': 4240, 'asian': 313, 'mobster': 3016, 'sing': 4101, 'leo': 2648, 'smart': 4145, 'rooki': 3821, 'aim': 137, 'revolv': 3734, 'melgibson': 2911, 'dannyglov': 1107, 'joepesci': 2440, 'renerusso': 3682, 'richarddonn': 3739, 'research': 3699, 'tragic': 4597, 'laboratori': 2597, 'california': 635, 'gun': 1958, 'mutat': 3088, 'psycholog': 3537, 'mirror': 2993, 'phone': 3377, 'cell': 710, 'repress': 3693, 'jenniferconnelli': 2391, 'angle': 225, 'frame': 1763, 'termin': 4472, 'presidenti': 3482, 'contend': 970, 'missil': 3001, 'surveil': 4396, 'depth': 1197, 'busi': 622, 'usual': 4729, 'underwat': 4682, 'buddy': 607, 'stevezahn': 4286, 'williamh': 4903, 'maci': 2776, 'ross': 3829, 'eye': 1595, 'mentor': 2920, 'donaldsutherland': 1315, 'ii': 2195, 'brooklyn': 588, 'intend': 2278, 'devic': 1226, 'nazi': 3116, 'nazigermani': 3117, 'perioddrama': 3360, 'greed': 1929, 'oil': 3224, 'heiress': 2050, 'notori': 3188, 'culmin': 1068, 'submarin': 4343, 'suppli': 4381, 'robertcarlyl': 3778, 'deniserichard': 1184, 'royal': 3835, 'pursuit': 3554, 'devot': 1230, 'surgeon': 4391, 'paulbettani': 3338, 'birth': 487, 'gather': 1845, 'fals': 1614, 'fangvamp': 1628, 'taylorlautn': 4445, 'wors': 4949, 'shaken': 4036, 'forces': 1740, 'elijahwood': 1430, 'robinwilliam': 3788, 'fugit': 1802, 'virginia': 4797, 'angri': 226, 'edwardnorton': 1414, 'timroth': 4541, 'bone': 527, 'nice': 3157, 'lucki': 2764, 'sophi': 4183, 'carri': 678, 'middl': 2963, 'cannib': 653, 'rebeccahal': 3626, 'hugh': 2156, 'glass': 1883, 'rape': 3599, 'frontier': 1797, 'nativeamerican': 3109, 'violenc': 4793, 'basedontrueev': 401, '500': 50, 'underdog': 4677, 'fast': 1639, 'paulgiamatti': 3339, 'michaelpeña': 2949, 'wind': 4910, 'dirt': 1262, 'welcom': 4871, 'wait': 4822, 'nevada': 3139, 'lasvega': 2615, 'billnighi': 477, 'privat': 3503, 'report': 3690, 'simon': 4092, 'oper': 3242, 'project': 3518, 'newspap': 3152, 'inform': 2249, 'stir': 4290, 'dodg': 1302, 'prosecut': 3527, 'falseident': 1615, 'revel': 3727, 'shootout': 4064, 'footchas': 1735, 'flashback': 1709, 'mattdamon': 2877, 'juliastil': 2496, 'davidstrathairn': 1132, 'scottglenn': 3939, 'chosen': 785, 'slacker': 4128, 'won': 4929, 'turtl': 4645, 'increas': 2228, 'inner': 2257, 'ant': 250, 'michaeldougla': 2943, 'safe': 3872, 'annual': 246, 'mean': 2896, 'victor': 4769, 'rebellion': 3629, 'competit': 925, 'televis': 4467, 'upris': 4720, 'femaleprotagonist': 1666, 'winner': 4914, 'lot': 2742, 'stevemartin': 4281, 'jenniferlopez': 2395, 'ray': 3608, 'divorc': 1293, 'perfect': 3356, 'ex': 1555, 'wif': 4891, 'rare': 3603, 'weekend': 4869, 'touch': 4577, 'posttraumaticstressdisord': 3452, 'newjersey': 3146, 'dakotafan': 1090, 'buddi': 606, 'miami': 2936, 'narcot': 3100, 'bullet': 613, 'laugh': 2619, 'explod': 1582, 'drug': 1354, 'cuba': 1066, 'firework': 1698, 'playboy': 3409, 'secretli': 3971, 'sexi': 4028, 'mexicanstandoff': 2933, 'gangster': 1831, 'carchas': 662, 'druglord': 1358, 'illegaldrug': 2199, 'actionhero': 81, 'martinlawr': 2853, 'gabrielleunion': 1817, 'tough': 4578, 'cat': 690, 'zachgalifianaki': 4985, 'officer': 3220, 'loyalti': 2759, 'accus': 75, 'elud': 1445, 'question': 3561, 'coldwar': 878, 'sovietunion': 4199, 'phillipnoyc': 3374, 'loganlerman': 2714, 'reporter': 3691, 'loyal': 2758, 'thrust': 4521, 'mystery': 3092, 'steal': 4265, 'priceless': 3493, 'bumbl': 615, 'thompson': 4511, 'ahead': 133, 'fortune': 1755, 'curse': 1079, 'jamiebel': 2354, 'harry': 2013, 'convict': 981, 'northern': 3183, 'aristocrat': 289, 'inherit': 2251, 'ranch': 3594, 'stock': 4291, 'cattl': 701, 'thousand': 4513, 'extend': 1587, 'readi': 3615, 'chance': 729, 'shower': 4070, 'comet': 906, 'prehistor': 3473, 'alfrewoodard': 158, 'metro': 2931, 'date': 1116, 'fish': 1701, 'mayor': 2891, 'rain': 3588, 'willferrel': 4900, 'potter': 3455, 'uncle': 4669, 'birthday': 488, 'newfound': 3144, 'blame': 500, 'christmasparti': 805, 'halloween': 1979, 'richardharri': 3742, 'chriscolumbu': 788, 'recent': 3633, 'undead': 4673, 'policeoper': 3430, '17th': 11, 'caribbean': 670, 'butt': 628, 'rival': 3765, 'port': 3442, 'governor': 1910, 'kidnapped': 2553, 'marriagepropos': 2841, 'jamaica': 2335, 'skeleton': 4121, 'geoffreyrush': 1858, 'fame': 1617, 'monk': 3026, 'secretsocieti': 3977, 'jewel': 2415, 'fit': 1705, 'law': 2625, 'bird': 486, 'audit': 341, 'jesseeisenberg': 2405, 'lesliemann': 2654, 'anti': 257, 'mut': 3086, 'col': 876, 'william': 4902, 'jean': 2380, 'scheme': 3926, 'opposit': 3247, 'mia': 2935, 'broke': 583, 'mani': 2808, 'border': 530, 'corner': 990, 'freedom': 1783, 'brazil': 554, 'fbi': 1649, 'escapefromprison': 1521, 'carcrash': 663, 'policechas': 3427, 'larg': 2608, 'equal': 1509, 'detective': 1221, 'guyritchi': 1966, 'seiz': 3986, 'hell': 2058, 'demon': 1180, 'accept': 67, 'construct': 965, 'chip': 775, 'brain': 548, 'virtual': 4800, 'invent': 2295, 'plant': 3406, 'falselyaccus': 1616, 'doublelif': 1327, 'telepathi': 4465, 'sharonston': 4046, 'ad': 88, 'arab': 278, 'iraq': 2307, 'johnmctiernan': 2453, 'aaron': 54, 'trigger': 4624, 'previou': 3490, 'jason': 2363, 'rooftop': 3820, 'freez': 1785, 'homicid': 2114, 'poison': 3421, 'dynam': 1385, 'donnel': 1317, 'umathurman': 4665, 'joelschumach': 2439, 'christmas': 804, 'creatur': 1037, 'lou': 2743, 'newlov': 3148, 'shepherd': 4052, 'trap': 4607, 'tornado': 4572, 'hurrican': 2173, 'evacu': 1536, 'climat': 856, 'spain': 4207, 'biolog': 485, 'crisi': 1050, 'helicopt': 2057, 'skyscrap': 4127, 'lov': 2746, 'johnwoo': 2462, 'weather': 4864, 'condit': 938, 'combin': 899, 'boat': 515, 'lif': 2673, 'minut': 2989, 'dianelan': 1238, 'screen': 3945, 'surfer': 4390, 'pose': 3447, 'resurrect': 3717, 'doublecross': 1326, 'jessicaalba': 2407, 'timstori': 4542, 'compani': 921, 'pacif': 3284, 'stunt': 4336, 'johnni': 2454, 'sell': 3990, 'soul': 4189, 'simpson': 4097, 'johnny': 2455, 'mephisto': 2921, 'religionandsupernatur': 3671, 'devil': 1227, 'flame': 1707, 'evamend': 1538, 'wesbentley': 4874, 'charg': 742, 'member': 2913, 'wit': 4920, 'killed': 2558, 'ladi': 2599, 'robberi': 3775, 'drewbarrymor': 1344, 'lucyliu': 2766, 'berniemac': 456, 'android': 216, 'creation': 1034, 'stuart': 4328, 'ador': 101, 'happili': 1996, 'east': 1399, 'store': 4299, 'george': 1860, 'michaelj': 2945, 'fox': 1762, 'wealthi': 4861, 'secretari': 3968, 'hard': 2002, 'enforc': 1483, 'immigr': 2212, 'luxuri': 2771, 'lifestyl': 2677, 'matt': 2876, 'damon': 1093, 'jodiefost': 2433, 'bounti': 539, 'hunters': 2172, 'wage': 4821, 'champion': 726, 'drone': 1351, 'forbidden': 1736, 'controversi': 977, 'detroit': 1223, 'critic': 1052, 'count': 1000, 'machine': 2774, 'michaelkeaton': 2946, 'brilliant': 574, 'driver': 1350, 'leagu': 2633, 'cost': 996, 'activities': 84, 'inspir': 2266, 'lossofbroth': 2732, 'emilehirsch': 1454, 'christinaricci': 802, 'susansarandon': 4402, 'bit': 491, 'lisa': 2693, 'lovetriangl': 2756, 'basebal': 395, 'athlet': 329, 'jacknicholson': 2327, 'brook': 587, 'glamor': 1882, 'sometim': 4176, 'amid': 197, 'airport': 141, 'garag': 1834, 'jamesmangold': 2346, 'stranger': 4308, 'morganfreeman': 3038, 'clone': 861, 'wars': 4847, 'nobl': 3175, 'jedi': 2382, 'galaxy': 1823, 'ash': 308, 'seduc': 3981, 'twin': 4651, 'haydenchristensen': 2028, 'renegad': 3681, 'break': 556, 'senat': 3993, 'movement': 3061, 'lasergun': 2613, 'sullivan': 4363, 'earn': 1394, 'scare': 3921, 'business': 623, 'scream': 3944, 'worldwari': 4945, 'famkejanssen': 1623, 'strong': 4325, 'lifetim': 2678, 'destroyed': 1217, 'stoneag': 4295, 'cavemen': 706, 'catherinekeen': 696, 'olymp': 3233, 'portray': 3446, 'process': 3508, 'olympicgam': 3234, 'roman': 3807, 'ho': 2098, 'becaus': 424, 'languag': 2606, 'sara': 3903, 'settl': 4020, 'shredder': 4071, 'grip': 1941, 'grim': 1940, 'fearless': 1652, 'cameraman': 640, 'unravel': 4707, 'diabol': 1231, 'van': 4741, 'newyorkc': 3155, 'willarnett': 4898, 'ryan': 3862, 'medic': 2901, 'shuttl': 4074, 'command': 912, 'routin': 3832, 'strikes': 4320, 'spiral': 4227, 'link': 2691, 'rescue': 3698, 'sandrabullock': 3899, 'edharri': 1409, 'sleepi': 4137, 'worst': 4952, 'nightmare': 3170, 'smalltown': 4144, 'motel': 3047, 'cabin': 630, 'henchmen': 2060, 'similar': 4090, 'lauralinney': 2622, 'telekinesi': 4464, 'milestel': 2978, 'katemara': 2519, 'securityguard': 3980, 'derang': 1199, 'media': 2900, 'incid': 2225, 'secretintelligenceservic': 3970, 'tvstation': 4649, 'things': 4504, 'simpl': 4095, 'gabriel': 1815, 'southernusa': 4197, 'lossofson': 2740, 'lossoffamili': 2734, 'gore': 1899, 'jasonisaac': 2366, 'thiev': 4502, 'amsterdam': 201, 'hot': 2143, 'catherinezeta': 698, 'jon': 2464, 'juliarobert': 2495, 'stevensoderbergh': 4284, 'bliss': 503, 'stuck': 4329, 'paid': 3288, 'mix': 3014, 'wick': 4888, 'comedy': 905, 'hitman': 2097, 'marriagecrisi': 2840, 'vincevaughn': 4788, 'adambrodi': 90, 'dystopicfutur': 1390, 'youngadult': 4977, 'howard': 2152, 'becam': 423, 'compuls': 931, 'ladykil': 2600, 'biographi': 484, 'congress': 948, 'tini': 4543, 'journalist': 2483, 'jasonsegel': 2370, 'seth': 4017, 'largest': 2610, 'fortun': 1754, 'angeles': 222, 'spoil': 4231, 'thu': 4522, 'tom': 4554, 'dies': 1248, 'someth': 4175, 'pow': 3458, 'criminal': 1048, 'christoph': 807, 'vandal': 4742, 'nightclub': 3167, 'knife': 2574, 'frank': 1769, 'graphic': 1922, 'visual': 4806, 'style': 4338, '300': 46, 'saga': 3875, 'fresh': 1788, 'basedongraphicnovel': 397, 'handtohandcombat': 1986, 'lenaheadey': 2646, 'blue': 512, 'smurf': 4152, 'village': 4784, 'fact': 1601, 'greedi': 1930, 'possess': 3449, 'heaven': 2044, 'kick': 2549, 'sky': 4126, 'match': 2870, 'guys': 1967, 'cow': 1021, 'custodi': 1081, 'near': 3119, 'charlie': 747, 'anthonymacki': 255, 'spell': 4218, 'patrick': 3331, 'grace': 1911, 'diamond': 1234, 'card': 664, 'intoler': 2290, 'abigailbreslin': 59, 'mcclane': 2894, 'hacker': 1973, 'internet': 2283, 'intent': 2280, 'fistfight': 1704, 'cellphon': 711, 'justinlong': 2507, 'timothyolyph': 4538, 'creator': 1036, 'doom': 1318, 'bet': 460, 'circl': 824, '80': 53, 'days': 1138, 'frankcoraci': 1770, 'pro': 3505, 'scene': 3924, 'clay': 847, 'bold': 523, 'african': 118, 'ali': 159, 'jonvoight': 2472, 'mariovanpeebl': 2828, 'salli': 3882, 'door': 1320, 'introduc': 2292, 'fun': 1805, 'boredom': 532, 'stepfath': 4271, 'kellypreston': 2533, 'suicide': 4359, 'chicago': 762, 'jamescromwel': 2340, 'bloodi': 508, 'holi': 2103, 'crusad': 1063, 'religi': 3669, 'jeremyiron': 2397, 'misadventur': 2994, 'orphanag': 3262, 'waitress': 4823, 'fulfil': 1803, 'kiss': 2570, 'voodoo': 4814, 'michael': 2937, 'presum': 3486, 'fierc': 1678, 'isol': 2315, 'jeffdaniel': 2385, 'resid': 3700, 'contain': 968, 'environment': 1505, 'locat': 2711, 'transplant': 4605, 'djimonhouns': 1296, 'porter': 3444, 'architect': 282, 'longtim': 2723, 'griffin': 1939, 'direct': 1260, 'anniversari': 244, 'warrenbeatti': 4845, 'dianekeaton': 1236, 'happy': 1998, 'countless': 1002, 'cops': 988, 'giovanniribisi': 1877, 'delroylindo': 1176, 'throw': 4519, 'empir': 1466, 'deviou': 1228, 'amus': 202, 'pay': 3345, 'laid': 2601, 'slaveri': 4133, 'philosoph': 3375, 'joaquinphoenix': 2429, 'connienielsen': 953, '21st': 41, 'predict': 3469, 'noir': 3177, 'attacks': 332, 'le': 2630, 'banker': 381, 'schedul': 3925, 'particip': 3315, 'stak': 4246, 'poker': 3422, 'establish': 1525, 'financi': 1693, 'market': 2831, 'attend': 334, 'alreadi': 176, 'itali': 2319, 'tortur': 4574, 'evad': 1537, 'gorilla': 1902, 'michaelclarkeduncan': 2942, 'sarah': 3904, 'shotgun': 4068, 'era': 1510, 'bank': 380, 'charm': 750, 'edgar': 1408, 'fledgl': 1711, 'elus': 1446, 'number': 3195, 'melvin': 2912, 'cinema': 823, 'luca': 2761, 'heroin': 2065, 'harlem': 2004, 'buy': 629, 'south': 4194, 'asia': 312, 'story': 4303, 'blackpeopl': 498, 'drugtraff': 1361, 'drugsmuggl': 1360, 'ambit': 187, 'drugdeal': 1357, 'dishonesti': 1278, 'denzelwashington': 1192, 'florida': 1720, 'horsebackrid': 2135, 'jamieleecurti': 2356, 'hijack': 2080, 'ransom': 3598, 'walter': 4832, 'tonyscott': 4565, 'pam': 3294, 'greg': 1933, 'wound': 4954, 'cash': 686, 'dad': 1088, 'suspicion': 4406, 'male': 2796, 'roar': 3772, 'skeptic': 4122, 'vomit': 4812, 'robertdeniro': 3779, 'nypd': 3200, 'desk': 1208, 'sit': 4114, 'allen': 168, 'gambl': 1824, 'terri': 4475, 'background': 366, 'photo': 3378, 'focu': 1724, 'case': 684, 'narrat': 3102, 'ceo': 719, 'buddycomedi': 608, 'marshal': 2845, 'enrol': 1492, 'manufactur': 2815, 'guard': 1951, 'marsh': 2844, 'jamescaan': 2338, 'german': 1867, 'hunter': 2171, 'mississippi': 3006, 'plantat': 3407, 'bountyhunt': 540, 'racism': 3577, 'dentist': 1191, 'kerrywashington': 2536, 'quentintarantino': 3559, 'festiv': 1668, 'cruel': 1060, 'gypsi': 1970, 'judg': 2488, 'ugli': 4662, 'religion': 3670, 'witchhunt': 4922, 'demimoor': 1179, 'summon': 4365, 'room': 3822, 'summer': 4364, 'davidspad': 1131, 'church': 818, 'easi': 1397, 'numberintitl': 3196, 'airplanecrash': 140, 'ensemblecast': 1493, 'sylvesterstallon': 4420, 'jasonstatham': 2371, 'dolphlundgren': 1309, 'simonwest': 4094, 'rumor': 3845, 'revolutionari': 3733, 'declar': 1162, 'dianekrug': 1237, 'egg': 1418, 'siennaguillori': 4081, 'ira': 2304, 'carol': 675, 'crown': 1058, 'fort': 1753, 'jamesgandolfini': 2343, 'amandaseyfri': 183, 'jasonsudeiki': 2372, 'tourist': 4581, 'bud': 605, 'anthoni': 252, 'written': 4962, 'hotel': 2144, 'undercoverag': 4675, '1999': 33, 'body': 521, 'bride': 568, 'christin': 800, 'sex': 4026, 'pastor': 3325, 'nuditi': 3194, 'christ': 796, 'priest': 3495, 'satan': 3908, 'gabrielbyrn': 1816, 'kevinpollak': 2543, 'smuggler': 4151, 'valu': 4736, 'rip': 3760, 'journal': 2482, 'smuggl': 4150, 'oppress': 3249, 'stockbrok': 4292, 'refus': 3651, 'cooper': 985, 'mob': 3015, 'sexual': 4029, 'humor': 2166, 'wallstreet': 4829, 'fac': 1598, 'courtroom': 1016, 'accid': 69, 'disfigur': 1275, 'edward': 1412, 'employe': 1469, 'millionair': 2983, 'ward': 4838, 'psychologist': 3538, 'non': 3179, 'commiss': 915, 'satir': 3910, '19th': 34, 'distant': 1284, 'cloud': 864, 'consequ': 956, 'impact': 2214, 'award': 355, 'david': 1121, 'jimbroadb': 2420, 'barn': 388, 'owl': 3280, 'st': 4241, 'brainwash': 549, 'soldiers': 4168, 'ga': 1814, 'ruler': 3843, 'conspiracy': 962, 'mild': 2976, 'mann': 2812, 'wash': 4848, 'eager': 1391, 'say': 3916, 'tail': 4426, 'basketbal': 407, 'benjaminbratt': 450, 'ago': 131, 'torment': 4570, 'receiv': 3632, 'labor': 2596, 'battle': 410, 'warm': 4841, 'presenc': 3478, 'johnhurt': 2448, 'rufussewel': 3838, 'teach': 4446, 'littleboy': 2699, 'alienlife': 164, 'barney': 389, 'trader': 4591, 'someon': 4174, 'faster': 1640, 'extrem': 1593, 'point': 3420, 'fbiagent': 1650, 'aspir': 317, 'babi': 362, 'kalpenn': 2509, 'whale': 4880, 'size': 4119, 'vengeance': 4756, 'harrow': 2012, 'despair': 1210, 'mate': 2871, 'cillianmurphi': 822, 'club': 866, 'bar': 384, 'randyquaid': 3595, 'rosariodawson': 3826, 'occup': 3209, '2003': 38, 'chief': 764, 'roy': 3834, 'rocket': 3795, 'site': 4115, 'chemic': 759, 'elabor': 1423, 'gregkinnear': 1934, 'brown': 596, 'dialogu': 1233, 'independentfilm': 2232, 'unfortunately': 4691, 'abov': 63, 'psychot': 3540, 'kingpin': 2567, 'butcher': 626, 'earlier': 1393, 'area': 284, 'irish': 2310, 'gangwar': 1833, 'danielday': 1101, 'refug': 3650, 'safety': 3874, 'surf': 4387, 'idol': 2190, 'mockumentari': 3017, 'pictur': 3386, 'voic': 4808, 'jeff': 2383, 'zooeydeschanel': 4999, 'housewif': 2151, 'bettemidl': 463, 'glennclos': 1884, 'frankoz': 1774, 'shot': 4067, 'heavi': 2045, 'intens': 2279, 'ground': 1943, 'prisonersofwar': 3502, 'politician': 3432, 'elect': 1425, 'repres': 3692, 'carolina': 676, 'jayroach': 2377, 'taxi': 4441, 'given': 1881, 'millajovovich': 2980, 'samantha': 3885, 'vacat': 4731, 'destin': 1213, 'retreat': 3720, 'rememb': 3678, 'sarahjessicapark': 3905, 'fail': 1605, 'el': 1422, 'worship': 4951, 'nativ': 3108, 'worth': 4953, 'diego': 1247, 'johnleguizamo': 2450, 'unexpectedli': 4686, 'ella': 1437, 'stepmoth': 4277, 'daughters': 1118, 'dash': 1115, 'woods': 4934, 'murdered': 3074, '14': 7, 'watch': 4854, 'grief': 1937, 'observ': 3202, 'thirst': 4506, 'desir': 1207, 'heal': 2033, 'tree': 4616, 'serialkil': 4006, 'corps': 994, 'griev': 1938, 'aquarium': 277, 'friendli': 1791, 'forget': 1748, 'vegetarian': 4753, 'dude': 1369, 'hypnot': 2178, 'hungri': 2169, 'albertbrook': 150, 'viggomortensen': 4780, 'local': 2710, 'countri': 1003, 'manner': 2813, 'howev': 2153, 'survive': 4399, 'couldn': 998, 'juliannemoor': 2494, 'society': 4161, 'goal': 1888, 'radic': 3580, 'fund': 1806, 'alan': 145, 'amanda': 181, 'infam': 2243, 'loos': 2725, 'host': 2139, 'samneil': 3889, 'alzheimer': 180, 'diseas': 1273, 'slowli': 4141, 'notic': 3187, 'subject': 4341, 'especi': 1523, 'johnlithgow': 2451, 'singlemoth': 4106, 'fairi': 1606, 'mary': 2858, 'nicknolt': 3160, 'moscow': 3044, 'method': 2930, 'russia': 3857, 'maryelizabethwinstead': 2859, 'davi': 1120, 'mexican': 2932, 'santa': 3901, 'texas': 4487, 'patrickwilson': 3333, 'bob': 516, 'insur': 2275, 'craigt': 1028, 'nelson': 3130, 'hollyhunt': 2106, 'jasonle': 2367, 'adam': 89, 'difficult': 1251, 'franklangella': 1773, 'rennyharlin': 3683, 'typic': 4658, 'cowboy': 1023, 'camp': 644, 'collector': 887, 'al': 143, 'woodi': 4933, 'truli': 4636, 'runaway': 3847, 'toxic': 4585, 'pennsylvania': 3352, 'hong': 2119, 'complic': 929, 'zhangziyi': 4990, 'clair': 835, 'spencer': 4219, 'hauntedhous': 2024, 'haunt': 2023, 'jamesremar': 2349, 'flint': 1717, 'food': 1731, 'enabl': 1471, 'feed': 1657, 'annafari': 235, 'motor': 3054, 'mouth': 3060, 'tooth': 4569, 'bridg': 570, 'insan': 2259, 'queenlatifah': 3558, 'magazin': 2783, 'daydream': 1137, 'missing': 3002, 'photograph': 3379, 'skateboard': 4120, 'shirleymaclain': 4060, 'aspect': 316, 'tv': 4646, 'dylan': 1383, 'traffic': 4593, 'martial': 2848, 'boston': 535, 'mafia': 2782, 'favor': 1647, 'undercovercop': 4676, 'imperi': 2215, 'li': 2664, 'luck': 2763, 'vietnam': 4775, 'memoir': 2914, 'tropic': 4629, 'budget': 609, 'studio': 4333, 'execut': 1563, 'actor': 85, 'production': 3512, 'gangs': 1830, 'moviestar': 3066, 'disgrac': 1276, 'patriarch': 3328, 'niec': 3164, '40': 48, 'punk': 3547, 'hack': 1972, 'goranvisnj': 1897, 'civilian': 832, 'demand': 1178, 'coffin': 874, 'rachelmcadam': 3574, 'markstrong': 2833, 'rodrigosantoro': 3798, 'jamesgarn': 2344, 'propos': 3526, 'dump': 1372, 'chipmunk': 776, 'germani': 1868, 'unfold': 4688, 'player': 3410, 'colonel': 893, 'isra': 2316, 'll': 2705, 'fake': 1609, 'israel': 2317, 'adamsandl': 91, 'dennisdugan': 1188, 'michellemonaghan': 2955, 'gradual': 1914, 'circumst': 827, 'prostitut': 3529, 'lossofmoth': 2738, 'extraterrestrialtechnolog': 1592, 'doppelgang': 1322, 'haleyjoelos': 1975, 'workahol': 4939, 'mansion': 2814, 'butler': 627, 'decis': 1161, 'reality': 3619, 'fanat': 1627, 'spiritu': 4229, 'jameswood': 2351, 'sebastian': 3963, 'formula': 1752, 'eventu': 1543, 'results': 3715, 'elisabethshu': 1432, 'interpret': 2284, 'investigate': 2299, 'seanpenn': 3957, 'box': 541, 'outwit': 3275, 'bend': 444, 'magician': 2787, 'emma': 1459, 'bishop': 490, 'garysinis': 1842, 'briandepalma': 567, 'linda': 2687, 'word': 4937, 'female': 1662, 'richard': 3737, 'product': 3511, 'andrew': 215, 'youngest': 4980, 'purchas': 3550, 'creativ': 1035, 'oliverplatt': 3228, 'shatter': 4048, 'morn': 3041, 'la': 2594, 'service': 4014, 'franki': 1772, 'deadliest': 1144, 'anonym': 247, 'conan': 934, 'hord': 2129, 'massacr': 2864, 'pain': 3289, 'wilderness': 4896, 'repay': 3688, '1920': 17, 'comeback': 901, 'social': 4159, 'poor': 3435, 'netherland': 3137, 'sdailylif': 3950, 'doll': 1306, 'racehors': 3570, 'victori': 4770, 'lift': 2679, 'horserac': 2136, 'chriscoop': 789, 'sign': 4083, 'paper': 3299, 'nature': 3112, 'truck': 4633, 'helenhunt': 2055, 'caryelw': 683, 'chuck': 817, 'kelly': 2532, 'marriage': 2839, 'ditch': 1288, 'suicideattempt': 4360, 'loneli': 2719, 'song': 4180, 'tap': 4435, 'crush': 1064, 'brittanymurphi': 580, 'document': 1300, 'seasid': 3960, 'sniper': 4155, 'conspir': 960, 'hostage': 2141, 'tak': 4427, 'negoti': 3125, '24': 43, 'hour': 2147, 'charismat': 743, 'roll': 3805, 'danny': 1104, 'specialist': 4214, 'vega': 4751, 'reconcil': 3637, 'tess': 4483, 'stripclub': 4322, 'andygarcía': 218, 'musket': 3084, 'doubl': 1324, 'paulw': 3342, 'anderson': 212, 'dracula': 1332, 'resort': 3704, 'ag': 123, 'backpack': 367, 'frankenstein': 1771, 'kevinjam': 2541, 'realiti': 3618, 'environ': 1504, 'chaotic': 737, 'view': 4778, 'timothyspal': 4539, 'verafarmiga': 4759, 'outrag': 3273, 'puppi': 3549, 'staff': 4244, 'amateur': 184, 'petti': 3370, 'crook': 1054, 'caseyaffleck': 685, 'alanalda': 146, 'cameron': 641, 'kate': 2515, 'britain': 577, 'swap': 4408, 'countryhous': 1005, 'multiplestorylin': 3070, 'dean': 1148, 'victim': 4767, 'theft': 4495, 'genehackman': 1850, 'reginak': 3654, 'divorce': 1294, 'jake': 2333, 'married': 2842, 'merylstreep': 2925, 'johnkrasinski': 2449, 'compos': 930, 'willi': 4901, 'vow': 4816, 'alpacino': 174, 'season': 3961, 'reli': 3668, 'elliot': 1442, 'ralli': 3590, 'bunni': 617, 'ashtonkutch': 311, 'divid': 1291, 'josephfienn': 2475, 'brazilian': 555, 'seannwilliamscott': 3956, 'christopherwalken': 813, 'movieinmovi': 3064, 'spoof': 4232, 'romant': 3810, 'maid': 2788, 'sistersisterrelationship': 4113, 'brothel': 590, 'jail': 2332, 'sean': 3953, 'tokyo': 4552, 'low': 2757, 'rent': 3685, 'section': 3978, 'drift': 1345, 'carjourney': 671, 'arthur': 303, 'misfit': 2998, 'dawn': 1134, 'reaper': 3623, 'vacation': 4732, 'agenda': 127, 'lifeanddeath': 2675, 'loveatfirstsight': 2749, 'claireforlani': 837, 'credit': 1040, 'colombia': 892, 'eliaskotea': 1429, 'semi': 3992, 'strip': 4321, 'collaps': 884, 'broadway': 582, 'surgeri': 4392, 'seven': 4023, 'insecur': 2260, 'canadian': 649, '23': 42, 'rockstar': 3797, 'character': 740, 'rapidli': 3600, 'liter': 2696, 'resolv': 3703, 'hilaryswank': 2084, 'loose': 2726, 'invit': 2301, 'freddieprinzejr': 1781, 'sarahmichellegellar': 3906, 'matthewlillard': 2884, 'wasteland': 4853, 'ma': 2772, 'possibl': 3450, 'urban': 4724, 'deliv': 1174, 'rank': 3597, 'popular': 3439, 'extremeviol': 1594, 'psychic': 3536, 'justic': 2505, 'remot': 3680, 'forward': 1757, 'aris': 288, 'regret': 3655, 'heartattack': 2038, '1950s': 22, 'romero': 3814, 'stephen': 4272, 'antholog': 251, 'leslienielsen': 2655, 'georgea': 1861, 'canin': 652, 'christinaappleg': 801, 'instantli': 2269, 'bloodthirsti': 510, 'survival': 4398, 'adolesc': 99, 'lossofchild': 2733, 'auction': 339, 'selmablair': 3991, 'serial': 4005, 'bay': 412, 'built': 612, 'endless': 1476, 'plannedmurd': 3404, 'embassi': 1450, 'sci': 3931, 'michaelrapaport': 2950, 'michaelrook': 2951, 'rate': 3605, 'ridicul': 3751, 'lovesick': 2755, 'prayer': 3464, 'jenniferaniston': 2390, 'scout': 3942, 'blade': 499, 'ericrobert': 1513, 'tactic': 4424, 'sharp': 4047, 'drunken': 1364, 'hallucin': 1980, 'blind': 502, 'hangov': 1988, 'thailand': 4489, 'stu': 4327, 'wedding': 4867, 'bachelor': 364, 'bangkok': 378, 'bradleycoop': 546, 'toddphillip': 4550, 'disord': 1281, 'christmastre': 806, 'dannydevito': 1106, 'mismatch': 2999, 'suburban': 4346, 'pop': 3436, 'vorort': 4815, 'older': 3226, 'dinner': 1256, 'mile': 2977, 'rock': 3793, 'appoint': 272, 'robertduval': 3781, 'coach': 870, 'inmat': 2256, 'footbal': 1734, 'americanfootbal': 195, 'supervisor': 4380, 'grew': 1936, 'promot': 3522, 'analyst': 207, 'leg': 2639, 'alanarkin': 147, 'industri': 2239, 'awkward': 357, 'daniel': 1099, 'patient': 3327, '1950': 21, 'bust': 625, 'pride': 3494, 'dysfunctionalfamili': 1388, 'sissyspacek': 4110, 'better': 464, 'melbrook': 2910, 'rageandh': 3584, 'joanallen': 2426, 'nephew': 3134, 'entertain': 1500, 'events': 1542, 'imaginari': 2207, 'courteneycox': 1015, 'adamshankman': 92, 'jenniferjasonleigh': 2393, 'pretend': 3487, 'assistant': 323, 'beach': 413, 'beautifulwoman': 421, 'trouble': 4631, 'bag': 369, 'creepi': 1041, 'jerri': 2400, 'rachel': 3573, 'twinbroth': 4652, 'confeder': 941, 'energi': 1482, 'sweetheart': 4411, 'object': 3201, 'marciagayharden': 2821, 'luke': 2767, 'hill': 2085, 'unfortun': 4690, 'guest': 1954, 'trauma': 4608, 'insomnia': 2264, 'loner': 2720, 'franc': 1764, 'stadium': 4243, 'disappears': 1267, 'murderhunt': 3076, 'went': 4872, 'evolut': 1552, 'change': 731, 'speak': 4211, 'ufo': 4661, 'poweroutag': 3460, 'kathyb': 2524, 'theori': 4498, 'taxidriv': 4442, 'paranoia': 3302, 'wheelchair': 4881, 'european': 1534, 'theater': 4493, 'sergeant': 4003, 'divis': 1292, 'lines': 2690, 'germany': 1869, 'fashion': 1638, 'editor': 1410, 'ivanreitman': 2321, 'worse': 4950, 'danaykroyd': 1095, 'justintimberlak': 2508, 'cavalri': 704, 'prospect': 3528, 'robinson': 3787, 'raymond': 3610, 'knock': 2576, 'broker': 585, 'vice': 4765, 'didn': 1244, 'appear': 270, 'sight': 4082, 'rubi': 3837, 'cool': 984, 'blend': 501, 'add': 94, 'jill': 2418, 'saw': 3915, 'hara': 1999, 'account': 74, 'necessari': 3122, 'stanley': 4252, 'femalenud': 1665, 'lax': 2628, 'file': 1684, 'comfort': 907, 'union': 4694, 'mexico': 2934, 'americancivilwar': 194, 'chri': 787, 'anni': 242, 'patriciaarquett': 3329, 'harveykeitel': 2018, 'enchant': 1472, 'requir': 3696, 'literatur': 2697, 'terrygilliam': 4482, 'annetteben': 241, 'hospital': 2138, 'disrupt': 1283, 'pregnant': 3472, 'julie': 2497, 'devis': 1229, 'obstacl': 3205, 'stalk': 4248, 'affair': 114, 'radhamitchel': 3578, 'spark': 4210, 'atomicbomb': 330, 'brucegreenwood': 599, 'dylanbak': 1384, 'jersey': 2401, 'kit': 2571, 'audienc': 340, 'documentari': 1301, 'manipul': 2810, 'profit': 3516, 'resources': 3706, 'tyler': 4655, 'forestwhitak': 1744, 'duck': 1368, 'feud': 1671, 'tire': 4544, 'contract': 974, 'dj': 1295, 'escort': 1522, 'script': 3948, 'week': 4868, 'shoot': 4063, 'mistress': 3011, 'muse': 3079, 'shakespear': 4037, 'willpatton': 4906, 'oliviawilliam': 3232, 'babe': 361, 'contest': 972, 'injur': 2254, 'viciou': 4766, 'yearn': 4971, 'awry': 359, 'grandfath': 1917, 'grandmoth': 1919, 'block': 505, 'flat': 1710, 'sub': 4340, 'reaction': 3613, 'disastr': 1270, 'university': 4699, 'legaci': 2640, 'prize': 3504, 'paranoid': 3303, 'mental': 2918, 'statu': 4263, 'mathematician': 2874, 'schizophrenia': 3927, 'mathemat': 2873, 'delus': 1177, 'crave': 1031, 'titl': 4546, 'lossofpar': 2739, 'scar': 3920, 'boyfriend': 544, 'grandfather': 1918, 'missingperson': 3003, 'vanessahudgen': 4744, 'psychopath': 3539, 'advertis': 111, 'kids': 2554, 'dread': 1339, 'aggress': 130, 'double': 1325, 'shadi': 4032, 'monica': 3025, 'colehaus': 880, 'johnsingleton': 2458, 'sel': 3987, 'motherdaughterrelationship': 3049, 'epidem': 1507, 'jeremynortham': 2398, 'financ': 1692, 'roadmovi': 3769, 'piperperabo': 3394, 'terrier': 4477, 'stray': 4311, 'kevinhart': 2540, 'cun': 1074, 'bite': 492, 'seanconneri': 3955, 'fallinginlov': 1613, 'juli': 2491, 'conduct': 940, 'independ': 2231, 'malcolm': 2795, 'breed': 560, 'behavior': 435, 'richardattenborough': 3738, 'activist': 83, 'miracul': 2991, 'hippi': 2088, 'miracl': 2990, 'cliveowen': 859, 'academi': 66, 'wesley': 4876, 'missionofmurd': 3005, '100': 3, 'prompt': 3523, 'situation': 4118, 'henri': 2061, 'quirki': 3565, 'total': 4575, 'delight': 1173, 'short': 4066, 'term': 4471, 'woo': 4931, 'robschneid': 3792, 'tvshow': 4648, 'basedonstagemus': 400, 'xenophobia': 4966, 'traumat': 4609, 'wwii': 4964, 'somebodi': 4173, 'exorc': 1570, 'demonicpossess': 1181, 'niece': 3165, 'ruperteverett': 3849, 'reward': 3735, 'vault': 4750, 'swing': 4414, 'nobodi': 3176, 'quarantin': 3556, 'transit': 4604, 'simpli': 4096, 'stewardess': 4287, '16': 9, 'quick': 3562, 'emmarobert': 1460, 'austin': 344, 'highest': 2073, 'annie': 243, 'assembl': 320, 'climb': 857, 'afghanistan': 116, 'dollar': 1307, 'secretlov': 3972, 'singer': 4102, 'drugaddict': 1356, 'oscaraward': 3265, 'extramaritalaffair': 1589, 'musicband': 3082, 'industry': 2240, 'cedrictheentertain': 707, 'garygray': 1840, 'hotelroom': 2145, 'ciaránhind': 820, 'seal': 3952, 'surround': 4395, 'romance': 3809, 'katherineheigl': 2522, 'catherineo': 697, 'height': 2048, 'upset': 4721, 'kgb': 2547, 'admit': 98, 'cultur': 1071, 'tension': 4470, 'different': 1250, 'upperclass': 4719, 'relationshipproblem': 3664, 'bed': 427, 'frighten': 1794, 'barrylevinson': 392, 'timeless': 4535, 'richardger': 3741, 'deathpenalti': 1152, 'chowyun': 786, 'bail': 371, 'mickeyrourk': 2961, 'beat': 418, 'guilt': 1956, 'homeinvas': 2109, 'harrison': 2010, 'ford': 1741, 'instructor': 2274, 'solv': 4172, 'rapmus': 3601, 'todd': 4549, 'elimin': 1431, 'soundtrack': 4192, 'seclud': 3964, 'horrifi': 2132, 'coma': 897, 'bodi': 520, 'parallelworld': 3301, 'price': 3492, 'cope': 987, 'asylum': 328, 'jenamalon': 2388, 'policeoffic': 3429, 'johnheard': 2447, 'finn': 1696, 'cemeteri': 712, 'yacht': 4967, 'bahama': 370, 'scubadiv': 3949, 'katehudson': 2518, 'simmon': 4091, 'comedian': 904, 'cancer': 650, 'facil': 1600, 'jennifergarn': 2392, 'ricki': 3746, 'shake': 4035, 'coast': 871, 'eventually': 1544, 'cheat': 755, 'lake': 2602, 'alaska': 148, 'mistaken': 3008, 'jimmi': 2423, 'chill': 771, 'suppress': 4384, 'rural': 3851, 'liber': 2669, 'cup': 1075, 'paulnewman': 3340, 'bonniehunt': 528, 'write': 4960, 'maggi': 2784, 'femal': 1661, 'garrymarshal': 1839, 'junki': 2503, 'exactli': 1557, 'bikini': 472, 'surface': 4389, 'criminals': 1049, 'baby': 363, 'snatch': 4154, 'occupi': 3210, 'jewish': 2416, 'guerrilla': 1953, 'jew': 2414, 'wasn': 4851, 'suppos': 4383, 'did': 1243, 'capt': 656, 'steven': 4282, 'bobhoskin': 519, 'variou': 4747, 'llcoolj': 2706, 'wealth': 4860, 'gorgeou': 1901, 'sofia': 4163, 'horribl': 2130, 'pool': 3434, 'swimmingpool': 4413, 'arctic': 283, 'predat': 3468, 'sensat': 3997, 'stardom': 4256, '25': 44, 'ignit': 2193, 'fought': 1759, 'vietnamveteran': 4776, 'vietnamwar': 4777, 'building': 611, 'respond': 3708, 'bigger': 469, 'angelabassett': 221, 'starfleet': 4257, 'picard': 3384, 'jonathanfrak': 2467, 'expected': 1574, 'publish': 3544, 'albert': 149, 'joey': 2441, 'sold': 4165, 'emilywatson': 1458, 'history': 2093, 'focus': 1725, 'nuclearmissil': 3193, 'michaelbiehn': 2940, 'economi': 1403, 'boys': 545, 'islam': 2312, 'muslim': 3085, 'tonyshalhoub': 4566, 'countrysid': 1007, 'unrequitedlov': 4708, 'tibet': 4525, 'davidthewli': 1133, 'ronni': 3817, 'firm': 1699, 'dilemma': 1254, 'winonaryd': 4915, 'educ': 1411, 'operation': 3244, 'hustler': 2176, 'hiddencamera': 2069, 'mistakenident': 3009, 'imperson': 2216, 'gabrielmacht': 1818, 'inject': 2253, 'kelli': 2531, 'catch': 693, 'arnold': 295, 'vampire': 4739, 'stephenrea': 4276, 'dreams': 1341, 'senior': 3995, 'silent': 4087, 'orchestr': 3251, 'nearbi': 3120, 'unwit': 4715, 'hart': 2015, 'times': 4536, 'rebecca': 3625, 'jonathan': 2466, 'instant': 2268, 'superstar': 4378, 'seriou': 4009, 'roller': 3806, 'chrisklein': 792, 'freeman': 1784, 'ravag': 3606, 'hoodlum': 2123, 'christianslat': 799, 'minniedriv': 2987, 'bobbyfarrelli': 518, 'dorothi': 1323, 'pierr': 3390, 'ski': 4123, 'polli': 3433, 'promin': 3520, 'novelist': 3190, 'yard': 4969, 'seduct': 3982, 'malenud': 2799, 'jimcaviezel': 2422, 'lust': 2770, 'tyrann': 4659, 'insight': 2262, 'advic': 112, 'happens': 1994, 'bella': 439, 'seattl': 3962, 'midst': 2969, 'jacob': 2329, 'gotten': 1907, 'marlonbrando': 2835, 'ballet': 374, 'wesleysnip': 4877, 'newlyw': 3149, 'ted': 4453, 'histor': 2090, 'concern': 935, 'cult': 1069, 'historicalfigur': 2092, 'oscarisaac': 3266, 'aren': 285, 'tool': 4568, 'fred': 1779, 'approach': 275, '60': 51, 'interview': 2288, 'blizzard': 504, 'creature': 1038, 'distrust': 1286, 'shadowi': 4034, 'element': 1426, 'secretorgan': 3974, 'davidduchovni': 1124, 'ancientrom': 210, 'colinfirth': 883, 'troop': 4628, '1940': 19, 'illeg': 2198, 'marisatomei': 2829, 'overcom': 3276, 'thomasjan': 4510, 'office': 3219, 'slavery': 4134, 'speech': 4216, 'familyconflict': 1621, '1971': 27, 'heroism': 2066, '200': 37, 'calvin': 636, 'els': 1444, 'gig': 1876, 'france': 1765, 'parol': 3313, 'megryan': 2908, 'dale': 1091, 'constant': 963, 'strain': 4305, 'becominganadult': 426, 'marysteenburgen': 2861, 'twenti': 4650, 'spanish': 4209, 'foil': 1727, 'wallet': 4828, 'list': 2695, 'highway': 2079, 'hitchhik': 2096, 'loui': 2744, 'runner': 3848, 'neil': 3128, 'elderli': 1424, 'clinteastwood': 858, 'utah': 4730, 'midlifecrisi': 2967, 'suppressedpast': 4385, 'katherin': 2521, 'ann': 233, 'conserv': 958, 'row': 3833, 'sexualobsess': 4031, 'erotic': 1516, 'marijuana': 2826, 'illegalprostitut': 2201, 'candid': 651, 'youngster': 4981, 'rosebyrn': 3828, 'jess': 2403, 'wing': 4913, 'uncomfort': 4670, 'fatal': 1642, 'conman': 949, 'kriskristofferson': 2583, 'mid': 2962, 'colorado': 896, 'pistol': 3396, 'patrol': 3335, 'wander': 4833, 'presidentialelect': 3483, 'scandal': 3919, 'georgew': 1864, 'bush': 621, 'corporation': 993, 'outbreak': 3269, 'blow': 511, 'thug': 4523, 'darkcomedi': 1111, 'davidmors': 1128, 'daxshepard': 1135, 'salesman': 3881, 'fans': 1629, 'trainer': 4600, 'andiemacdowel': 214, 'rough': 3830, 'lisakudrow': 2694, 'oliv': 3227, 'childabus': 766, 'experience': 1578, 'robertrodriguez': 3784, 'dutch': 1377, 'kristinscottthoma': 2587, 'charless': 745, 'dutton': 1379, 'snowstorm': 4157, 'hike': 2081, 'nose': 3184, 'submachinegun': 4342, 'clown': 865, 'reviv': 3731, 'gunsling': 1961, 'cartel': 680, 'police': 3425, 'dress': 1342, 'realis': 3617, 'wade': 4820, 'martinsheen': 2855, 'robrein': 3791, 'hockey': 2100, 'guru': 1962, 'bollywood': 524, 'elvi': 1448, 'partners': 3318, 'shelter': 4051, 'wyom': 4965, 'said': 3876, 'dominicwest': 1312, 'plenti': 3414, 'kathleenturn': 2523, 'gentl': 1857, 'biker': 471, 'roadtrip': 3770, 'hyster': 2179, 'chicken': 763, 'spotlight': 4236, 'georgia': 1865, 'campbell': 646, 'joseph': 2474, 'broadcast': 581, 'opera': 3243, 'odds': 3215, 'dea': 1141, 'bankrobberi': 383, 'venic': 4757, 'depend': 1194, 'legal': 2641, 'hughgrant': 2157, 'switch': 4415, 'general': 1852, 'woodyallen': 4935, 'session': 4015, 'examin': 1559, 'cole': 879, 'smash': 4146, 'eugenelevi': 1532, 'maze': 2892, 'brien': 572, 'zone': 4997, 'pleasur': 3412, 'gunman': 1960, 'montana': 3031, 'sour': 4193, 'peasant': 3349, 'exact': 1556, 'request': 3695, 'bargain': 387, 'sharkattack': 4045, 'footag': 1733, 'popstar': 3437, 'concert': 936, 'terminalil': 4473, 'musician': 3083, 'anthonyanderson': 253, 'parallel': 3300, 'everybodi': 1546, 'elliott': 1443, 'moor': 3035, 'betti': 465, 'uptight': 4723, 'ken': 2534, 'constantli': 964, 'karat': 2511, 'puppet': 3548, 'raid': 3586, 'jan': 2357, 'cynic': 1087, 'clients': 854, 'rightandjustic': 3756, 'norman': 3181, 'ritual': 3764, 'stopmot': 4298, 'jock': 2432, 'annakendrick': 236, 'deputi': 1198, 'sensit': 3998, 'network': 3138, 'raw': 3607, 'warren': 4844, 'chauffeur': 753, 'clark': 839, 'jenniferlovehewitt': 2396, 'navys': 3115, 'stevenseag': 4283, 'davido': 1129, 'russel': 3854, 'funeral': 1808, 'ripley': 3761, 'died': 1246, 'exil': 1566, 'rifl': 3753, 'mostli': 3046, 'gari': 1837, 'evanrachelwood': 1539, 'mistakenli': 3010, 'elizabethbank': 1436, 'triumph': 4627, 'pageant': 3287, 'stan': 4250, 'williamshatn': 4905, 'mickey': 2960, 'cohen': 875, 'drugs': 1359, 'ryangosl': 3863, 'haroldrami': 2007, 'racial': 3576, 'econom': 1402, 'apartheid': 264, 'rugbi': 3839, 'southafrica': 4195, 'poverti': 3457, 'upcom': 4717, 'tomwilkinson': 4562, 'darylhannah': 1114, 'christopherlloyd': 810, 'donaldpetri': 1314, 'kiefersutherland': 2556, 'beverli': 466, 'fetish': 1670, 'tycoon': 4654, 'joelcoen': 2436, 'gu': 1950, 'check': 756, 'disturb': 1287, 'gruesom': 1949, 'stress': 4316, 'therapist': 4499, 'dirtycop': 1264, 'autism': 348, 'homeless': 2111, 'golf': 1893, 'comingofag': 910, 'garfield': 1836, 'sidekick': 4079, 'record': 3639, 'icecub': 2183, 'scottspeedman': 3941, 'vampires': 4740, 'crucifixion': 1059, 'camgigandet': 643, 'sailor': 3878, 'pregnancyandbirth': 3471, 'actress': 86, 'pornographi': 3441, '17': 10, 'demons': 1182, 'companion': 922, 'warlock': 4840, 'apartment': 265, 'bedroom': 428, 'clerk': 851, 'camera': 639, 'denni': 1187, 'rayliotta': 3609, 'turbul': 4640, 'heartbreak': 2039, '30': 45, 'stephenherek': 4275, 'madison': 2780, 'flirt': 1718, 'vegas': 4752, 'sportsteam': 4234, 'brothers': 593, 'jobinterview': 2431, 'ethic': 1531, 'teens': 4463, 'harder': 2003, 'lloyd': 2707, 'fiance': 1673, 'italian': 2320, 'deceas': 1157, 'hometown': 2113, 'johnnyknoxvil': 2457, 'songwrit': 4181, 'arrang': 297, 'coming': 909, 'settler': 4021, 'experiment': 1579, 'hitch': 2095, 'client': 853, 'tabloid': 4423, 'relationships': 3665, 'michel': 2954, 'sick': 4077, 'jasonbigg': 2365, '2009': 39, 'alabama': 144, 'phil': 3371, 'stripper': 4323, 'kat': 2514, 'stretch': 4317, 'mccall': 2893, 'ultra': 4664, 'nowher': 3191, 'mistak': 3007, 'issu': 2318, 'invest': 2297, 'homelessperson': 2112, 'bu': 603, 'su': 4339, 'harass': 2000, 'employer': 1470, 'yakuza': 4968, 'vivicaa': 4807, 'concoct': 937, 'movie': 3063, 'diva': 1289, 'picture': 3387, 'heathergraham': 2042, 'associ': 324, 'motherrol': 3050, 'michaelmadsen': 2947, 'warondrug': 4843, 'ernest': 1515, 'breakdown': 557, 'mere': 2923, 'drink': 1347, 'wang': 4834, 'kurt': 2591, 'clueless': 868, 'roommat': 3823, 'michaelangarano': 2938, 'madonna': 2781, 'liaison': 2665, 'impostor': 2220, 'sir': 4109, 'railroad': 3587, 'note': 3185, 'read': 3614, 'thank': 4491, 'neighborhood': 3127, 'suburb': 4345, 'maniac': 2809, 'mayb': 2889, 'martha': 2846, 'vineyard': 4790, 'walt': 4831, 'cher': 760, 'dancer': 1097, 'freak': 1778, 'jacki': 2325, 'michigan': 2959, '1976': 29, 'nba': 3118, 'davidkoechn': 1127, 'somewhat': 4177, 'seas': 3959, 'minist': 2986, 'reunion': 3723, 'fan': 1626, 'acquaint': 78, 'mirandarichardson': 2992, 'virgin': 4796, 'alik': 165, 'hood': 2122, 'offici': 3221, 'culture': 1072, 'haze': 2030, 'depress': 1196, 'fascin': 1637, 'tombereng': 4555, 'occur': 3211, 'pianist': 3382, 'confess': 942, 'francisfordcoppola': 1768, 'drew': 1343, 'shoe': 4062, 'frustrat': 1799, 'mattdillon': 2878, 'lesbian': 2652, 'idealist': 2187, 'louisiana': 2745, 'penn': 3351, 'influenc': 2248, 'grandmother': 1920, 'maria': 2824, '20th': 40, 'poet': 3418, 'ryanphillipp': 3864, 'jessebradford': 2404, 'length': 2647, 'movies': 3065, 'slasher': 4130, 'ohio': 3223, 'tabl': 4422, 'curtishanson': 1080, 'fword': 1813, 'dirti': 1263, 'argument': 287, 'valentine': 4733, 'earli': 1392, 'midnight': 2968, 'grade': 1913, 'jaychandrasekhar': 2376, 'mitch': 3012, 'minor': 2988, 'cri': 1043, 'pimp': 3393, 'jonathanrhysmey': 2468, 'multipl': 3069, 'james': 2337, 'reel': 3647, 'parodi': 3312, 'bennett': 452, 'gay': 1847, 'deed': 1164, 'lovelett': 2751, 'liar': 2668, 'unexplain': 4687, 'describ': 1204, 'matthew': 2881, 'highschool': 2076, 'neiljordan': 3129, 'spite': 4230, 'profil': 3515, 'courtcas': 1014, 'spikele': 4225, 'nun': 3198, 'emili': 1455, 'single': 4104, 'soulmat': 4190, 'impress': 2221, 'competition': 926, 'fed': 1655, 'commerci': 914, 'celebration': 709, 'billi': 474, 'strategi': 4310, 'aarontaylor': 56, 'yellow': 4973, 'lindsaylohan': 2688, 'tast': 4439, 'hansel': 1991, 'suspici': 4405, 'fi': 1672, 'grasp': 1923, 'tens': 4469, 'numer': 3197, 'capit': 655, 'americanabroad': 193, 'virginiamadsen': 4798, 'rules': 3844, 'illness': 2202, 'psychiatr': 3534, 'protest': 3531, 'varieti': 4746, 'pawn': 3344, 'sleepwalk': 4138, 'americanfootballplay': 196, 'hasn': 2019, 'virginity': 4799, 'heather': 2041, 'masturb': 2869, 'insist': 2263, 'unpredict': 4706, 'foundfootag': 1760, 'foley': 1728, 'lovabl': 2747, 'humananimalrelationship': 2161, 'clever': 852, 'jone': 2469, 'contractor': 975, 'joanchen': 2427, 'davidarquett': 1122, 'solitari': 4170, 'dannyboyl': 1105, 'model': 3018, 'haydenpanettier': 2029, 'crimes': 1046, 'grisli': 1942, 'root': 3824, 'kati': 2525, 'exercis': 1564, 'anjelicahuston': 232, 'johncarpent': 2444, 'metal': 2928, 'sittingonatoilet': 4116, 'murray': 3078, 'punish': 3546, 'cheerlead': 757, 'jimmy': 2424, 'davidcronenberg': 1123, 'dive': 1290, 'cocain': 872, 'davidgordongreen': 1126, 'sweet': 4410, 'reverend': 3730, 'sale': 3880, 'chazzpalminteri': 754, 'onlin': 3238, 'unsuspect': 4713, 'derek': 1200, 'stupid': 4337, 'harold': 2006, 'tick': 4526, 'problems': 3507, 'rockandrol': 3794, 'heavymet': 2047, 'defin': 1172, 'addict': 95, 'indiana': 2236, 'injuri': 2255, 'murderer': 3075, 'chamber': 725, 'junior': 2502, 'bunker': 616, 'nicol': 3161, 'whoopigoldberg': 4887, 'hypnosi': 2177, 'marymccormack': 2860, 'frequent': 1787, 'jazz': 2378, 'karen': 2512, 'fend': 1667, 'violence': 4794, 'gangsterboss': 1832, 'puberti': 3542, 'policebrut': 3426, 'servant': 4012, 'stephenfrear': 4274, 'womanrel': 4927, 'dermotmulroney': 1202, 'couple': 1010, 'megan': 2906, '1990': 32, 'kidnapp': 2552, 'charliesheen': 748, 'malefriendship': 2798, 'ethanhawk': 1530, 'convent': 978, 'ail': 136, 'regim': 3653, 'comed': 902, 'gave': 1846, 'stephendorff': 4273, 'headlin': 2032, 'academ': 65, 'scholarship': 3928, 'reckless': 3634, 'tonicollett': 4564, 'voice': 4809, 'intertwin': 2287, 'killers': 2561, 'victims': 4768, 'ensues': 1495, 'rodsteig': 3799, 'changes': 733, 'dolphin': 1308, 'weird': 4870, 'families': 1619, 'benefit': 446, 'diagnos': 1232, 'bankrobb': 382, 'pot': 3453, 'kimbasing': 2563, 'elli': 1441, 'riot': 3759, 'connecticut': 951, 'seriesofmurd': 4008, 'doug': 1329, 'laura': 2621, 'jennif': 2389, 'ashley': 309, 'pledg': 3413, 'blond': 506, 'episod': 1508, 'derekluk': 1201, 'deaf': 1145, 'unhappi': 4692, 'flash': 1708, 'princip': 3500, 'incompet': 2227, 'supermarket': 4374, 'hilaryduff': 2083, 'iranian': 2306, 'samuel': 3893, 'stewart': 4288, 'sexualabus': 4030, 'photographi': 3380, 'jackass': 2323, 'madam': 2778, 'unorthodox': 4704, 'bronx': 586, 'poetri': 3419, 'unsoci': 4710, 'gusvans': 1963, 'drunk': 1363, 'treatment': 4615, 'piano': 3383, 'hop': 2125, 'exam': 1558, 'classmat': 844, 'zacefron': 4984, 'strict': 4318, 'students': 4331, 'hopelessli': 2128, 'oppositesattract': 3248, 'straight': 4304, 'wildli': 4897, 'taylor': 4444, 'marti': 2847, 'unconvent': 4671, 'ashleyjudd': 310, 'barbrastreisand': 385, 'premonit': 3475, 'lgbt': 2663, 'solomon': 4171, 'edwardburn': 1413, 'dennishopp': 1189, 'kim': 2562, 'pete': 3365, 'rapper': 3602, 'hip': 2087, 'mekhiphif': 2909, 'shannynsossamon': 4041, 'scam': 3918, 'diner': 1255, 'campu': 647, 'carmen': 674, 'alexapenavega': 154, 'stab': 4242, 'nevecampbel': 3140, 'wescraven': 4875, 'schoolteach': 3930, 'julia': 2492, 'circuit': 826, 'countrymus': 1006, 'fromragstorich': 1796, 'camcord': 637, 'orlean': 3260, 'homophobia': 2115, 'attitud': 336, 'nanni': 3098, 'dysfunct': 1387, 'nialong': 3156, 'highschoolsport': 2077, 'mutual': 3090, 'seriously': 4010, 'aidanquinn': 135, 'sexaddict': 4027, 'maya': 2888, 'higher': 2072, 'valuabl': 4737, 'ax': 360, 'hannah': 1990, 'nightstand': 3172, 'bridesmaid': 569, 'malefemalerelationship': 2797, 'bestfriendsinlov': 459, 'generation': 1853, 'basedonplay': 399, 'ambul': 189, 'institut': 2272, 'mentalil': 2919, 'medicin': 2902, 'extra': 1588, 'morgu': 3039, 'sidney': 4080, 'reconnect': 3638, 'particularli': 3316, 'frantic': 1775, 'announc': 245, 'deathoffath': 1151, 'youngboy': 4978, 'stories': 4301, 'africanamerican': 119, 'eric': 1511, 'catherinedeneuv': 695, 'sisters': 4112, 'zoe': 4992, 'round': 3831, 'vincent': 4786, 'jasonschwartzman': 2369, 'rachaelleighcook': 3572, 'yuppi': 4983, 'chevychas': 761, 'shyness': 4075, 'girls': 1880, 'teencomedi': 4461, 'brief': 571, 'reflect': 3649, 'voyeur': 4818, 'regular': 3656, 'du': 1365, 'claudevandamm': 846, 'cliff': 855, 'prank': 3463, 'naiv': 3097, 'nomad': 3178, 'screenwrit': 3947, 'guitar': 1957, 'totalitarian': 4576, 'caretak': 668, 'working': 4942, 'juliettelewi': 2499, 'beer': 429, 'manager': 2804, 'chad': 721, 'gym': 1969, 'reclus': 3636, 'happiness': 1997, 'farewel': 1634, 'kevinsmith': 2544, 'crab': 1024, 'lukewilson': 2768, 'amy': 204, 'trucker': 4634, 'walsh': 4830, 'botch': 536, 'colin': 881, 'elev': 1428, 'saint': 3879, 'cathol': 699, 'remark': 3677, 'tested': 4485, 'entiti': 1503, 'jamesdoohan': 2341, 'cairo': 633, 'comingout': 911, 'decapit': 1156, 'krueger': 2588, 'community': 920, 'jami': 2352, 'patriciaclarkson': 3330, 'soror': 4187, 'fratern': 1776, 'thirti': 4507, 'films': 1689, 'michaelsheen': 2953, 'jesu': 2410, 'jesuschrist': 2412, 'groupoffriend': 1945, 'amysmart': 206, 'dian': 1235, 'tylerperri': 4656, 'portrait': 3445, 'finale': 1691, 'condition': 939, 'sarapaxton': 3907, 'oregon': 3254, 'australian': 346, 'lassehallström': 2614, 'baron': 390, 'victoria': 4771, 'harriet': 2009, 'harsh': 2014, 'verylittledialogu': 4763, 'jigsaw': 2417, '1974': 28, 'wine': 4912, 'festival': 1669, 'omar': 3235, 'viewer': 4779, 'amidst': 198, 'countess': 1001, 'ellenburstyn': 1439, 'cleaduval': 848, 'communist': 919, 'joel': 2435, 'frozen': 1798, 'teenagesexu': 4460, 'sudden': 4353, 'anarchiccomedi': 208, 'nightlif': 3168, 'korea': 2581, 'disabl': 1265, 'rogermoor': 3801, 'hopedavi': 2127, 'recreat': 3642, 'grad': 1912, 'caraccid': 661, 'slum': 4142, 'multi': 3068, 'workers': 4941, 'judygr': 2490, 'teenagegirl': 4457, 'teenmovi': 4462, 'rugrat': 3840, 'painter': 3291, 'diplomat': 1258, 'morrischestnut': 3042, 'gaelgarcíabern': 1820, 'deeper': 1166, 'smoke': 4149, 'loan': 2709, 'doorstep': 1321, 'freshman': 1789, 'classroom': 845, 'prom': 3519, 'counselor': 999, 'tradit': 4592, 'whit': 4884, 'jamie': 2353, 'miner': 2985, '18': 12, 'canada': 648, 'prejudic': 3474, 'suitor': 4362, 'gambler': 1825, 'inevit': 2241, 'convers': 980, '1960s': 24, 'easili': 1398, 'famous': 1625, 'rutgerhau': 3859, '1970s': 26, 'debut': 1154, 'cultfilm': 1070, 'occasion': 3207, 'cigarettesmok': 821, 'highland': 2074, 'jesus': 2411, 'incest': 2224, 'lili': 2684, 'ghetto': 1871, 'crocodil': 1053, 'drugus': 1362, 'moore': 3036, 'stalker': 4249, 'cruelti': 1061, 'playwright': 3411, 'oxford': 3282, 'shakespeare': 4038, 'richardlinklat': 3744, 'jessica': 2406, 'practic': 3462, 'mall': 2801, 'firsttim': 1700, 'romeo': 3813, 'theatremilieu': 4494, 'stoner': 4296, 'lawman': 2626, 'mayhem': 2890, 'illustr': 2204, 'christopherlambert': 809, 'sandi': 3898, 'matthewgood': 2883, 'iraqwar': 2308, 'traffick': 4594, 'freddi': 1780, 'robertenglund': 3782, 'fling': 1716, 'gregorypeck': 1935, 'beth': 461, 'newcom': 3143, 'madea': 2779, 'appreci': 273, 'arrangedmarriag': 298, 'eddiegriffin': 1405, 'heard': 2036, 'olivia': 3230, 'spin': 4226, 'jasonrobard': 2368, 'porn': 3440, 'emigr': 1453, 'unforgett': 4689, 'ireland': 2309, 'converg': 979, 'zealand': 4987, 'mega': 2905, 'philadelphia': 3372, 'meagangood': 2895, 'diannewiest': 1239, 'encourag': 1474, 'acclaim': 71, 'bloodsplatt': 509, 'molli': 3021, 'sleazi': 4135, 'loser': 2730, 'gandhi': 1828, 'indianlead': 2237, 'brucedern': 598, 'sound': 4191, 'existenti': 1569, 'getaway': 1870, 'mitchel': 3013, 'femalecorps': 1663, 'buck': 604, 'basement': 406, 'chloe': 778, 'crossdress': 1056, 'intim': 2289, 'stella': 4268, 'tayedigg': 4443, 'janitor': 2359, 'gossip': 1903, 'chainsaw': 723, 'jerusalem': 2402, 'bisexu': 489, 'alfredhitchcock': 156, 'preacher': 3466, 'michaelmoor': 2948, 'misanthrop': 2995, 'satisfi': 3911, 'christopherguest': 808, 'warehous': 4839, 'outback': 3268, 'lola': 2715, 'difficulti': 1252, 'brent': 563, 'oddbal': 3214, 'recount': 3640, 'contemporari': 969, 'elite': 1434, 'silentfilm': 4088, 'tvmovi': 4647, '1944': 20, 'craig': 1027, 'jamesivori': 2345, 'unsimulatedsex': 4709, 'legends': 2644, 'leon': 2649, 'mikeepp': 2973, 'slapstick': 4129, 'gayinterest': 1848, 'toronto': 4573, 'highschoolstud': 2078, 'jin': 2425, 'holli': 2105, 'folk': 1729, 'brandon': 551, 'mumblecor': 3071, 'chloësevigni': 780, 'iran': 2305, 'lesbianrelationship': 2653, 'wrestler': 4957, 'eva': 1535, 'mormon': 3040, 'exclus': 1562, 'mumblegor': 3072, 'hud': 2154, 'alexkendrick': 155}\n"
     ]
    }
   ],
   "source": [
    "print(cv.vocabulary_)"
   ]
  },
  {
   "cell_type": "code",
   "execution_count": null,
   "id": "8c576b5d",
   "metadata": {},
   "outputs": [],
   "source": [
    "#TO see what are the 5000 most common words:\n",
    "cv.get_feature_names_out()[:500]"
   ]
  },
  {
   "cell_type": "code",
   "execution_count": null,
   "id": "4f5d2135",
   "metadata": {},
   "outputs": [],
   "source": [
    "# we are performing steaming now\n",
    "# for eg: (if in the list of 5000 words there are words like:)\n",
    "# [\"loved\",\"loving\",\"love\"]\n",
    "# then asnwer will be:\n",
    "# [\"love\",\"love\",\"love\"]"
   ]
  },
  {
   "cell_type": "markdown",
   "id": "ef613665",
   "metadata": {},
   "source": [
    "# key observation\n",
    "1. \"ast.literal_eval()\" is used to convert a string representation of a list into an actual list. \n",
    " for eg:\n",
    "my_string = \"[1, 2, 3, 4, 5]\"\n",
    "\n",
    "my_list = ast.literal_eval(my_string)\n",
    "print(my_list)\n",
    "\n",
    "output:\n",
    "[1, 2, 3, 4, 5]\n",
    "\n",
    "2. To convert a normal string into a list: \"split()\" method is used\n",
    "3. To convert a list to string : \"join()\" method is used\n",
    "4. enumerate() is used to work with both index and values of each item in sequence .In Python, enumerate() is a built-in function that allows you to iterate over a sequence (such as a list, tuple, or string)\n",
    "\n",
    " "
   ]
  },
  {
   "cell_type": "code",
   "execution_count": null,
   "id": "5cedee8f",
   "metadata": {},
   "outputs": [],
   "source": [
    "movie_df1[\"tags\"][0]"
   ]
  },
  {
   "cell_type": "code",
   "execution_count": null,
   "id": "c6041c05",
   "metadata": {},
   "outputs": [],
   "source": [
    "movie_df1.shape"
   ]
  },
  {
   "cell_type": "code",
   "execution_count": null,
   "id": "0db6b009",
   "metadata": {},
   "outputs": [],
   "source": [
    "len(vectors)"
   ]
  },
  {
   "cell_type": "markdown",
   "id": "4b4de29a",
   "metadata": {},
   "source": [
    "# using cosine simalrity to calculate the similarity of each tags with other tags\n",
    "#### for eg : for tag of 1st movie we calculate the similary of that tags with all other movies(i.e 4800)"
   ]
  },
  {
   "cell_type": "code",
   "execution_count": 74,
   "id": "c9e12c1f",
   "metadata": {},
   "outputs": [],
   "source": [
    " from sklearn.metrics.pairwise import cosine_similarity"
   ]
  },
  {
   "cell_type": "code",
   "execution_count": 75,
   "id": "d2ba9024",
   "metadata": {},
   "outputs": [],
   "source": [
    "# Here we pass the entire vectors ..then it will calculate the similarity of each \n",
    "# vector with other (4800) vectors\n",
    "# 1 means similar (same)\n",
    "similarity=cosine_similarity(vectors)"
   ]
  },
  {
   "cell_type": "code",
   "execution_count": 79,
   "id": "77e3cb67",
   "metadata": {},
   "outputs": [
    {
     "data": {
      "text/plain": [
       "array([1.        , 0.02214417, 0.03058717, ..., 0.02423801, 0.        ,\n",
       "       0.        ])"
      ]
     },
     "execution_count": 79,
     "metadata": {},
     "output_type": "execute_result"
    }
   ],
   "source": [
    "# This is the similarity of first movie with other remaining 4800 movies\n",
    "similarity[0]"
   ]
  },
  {
   "cell_type": "code",
   "execution_count": 80,
   "id": "e863d256",
   "metadata": {},
   "outputs": [
    {
     "data": {
      "text/plain": [
       "array([[1.        , 0.02214417, 0.03058717, ..., 0.02423801, 0.        ,\n",
       "        0.        ],\n",
       "       [0.02214417, 1.        , 0.01239812, ..., 0.01696445, 0.        ,\n",
       "        0.00617394],\n",
       "       [0.03058717, 0.01239812, 1.        , ..., 0.01625895, 0.        ,\n",
       "        0.        ],\n",
       "       ...,\n",
       "       [0.02423801, 0.01696445, 0.01625895, ..., 1.        , 0.01901353,\n",
       "        0.02849157],\n",
       "       [0.        , 0.        , 0.        , ..., 0.01901353, 1.        ,\n",
       "        0.0193739 ],\n",
       "       [0.        , 0.00617394, 0.        , ..., 0.02849157, 0.0193739 ,\n",
       "        1.        ]])"
      ]
     },
     "execution_count": 80,
     "metadata": {},
     "output_type": "execute_result"
    }
   ],
   "source": [
    "similarity"
   ]
  },
  {
   "cell_type": "markdown",
   "id": "c6b3e306",
   "metadata": {},
   "source": [
    "# Function to recomend movies"
   ]
  },
  {
   "cell_type": "code",
   "execution_count": 81,
   "id": "a9ba4d16",
   "metadata": {},
   "outputs": [],
   "source": [
    "def recommend(movie):\n",
    "    for index, m in enumerate(movie_df1['title']):\n",
    "        if m == movie:\n",
    "            original_indices = list(range(len(similarity[index])))\n",
    "            sorted_similarities_with_indices = sorted(zip(similarity[index], original_indices), reverse=True)[1:6]\n",
    "            for i in sorted_similarities_with_indices:\n",
    "                print(i[0],\" ->\",i[1],\" ->\",movie_df1['title'][i[1]])\n",
    "                        "
   ]
  },
  {
   "cell_type": "code",
   "execution_count": 82,
   "id": "1b28f783",
   "metadata": {},
   "outputs": [
    {
     "name": "stdout",
     "output_type": "stream",
     "text": [
      "0.3765120092882109  -> 65  -> The Dark Knight\n",
      "0.31642348161111894  -> 3  -> The Dark Knight Rises\n",
      "0.2828086605299428  -> 9  -> Batman v Superman: Dawn of Justice\n",
      "0.2765394530401105  -> 428  -> Batman Returns\n",
      "0.26587743704073924  -> 1359  -> Batman\n"
     ]
    }
   ],
   "source": [
    "recommend(\"Batman Begins\")"
   ]
  },
  {
   "cell_type": "markdown",
   "id": "8a0d5fe6",
   "metadata": {},
   "source": [
    "# mine"
   ]
  },
  {
   "cell_type": "code",
   "execution_count": 83,
   "id": "f0e29cee",
   "metadata": {},
   "outputs": [],
   "source": [
    "# the idea is to identify the index of the movie that the user passed to the function.(to get recommendation)\n",
    "# the 1st and 2nd line of the function is to identify the index of the movie given by user\n",
    "# once we obtain the index we use the index to access the \"similarity\" matrix for that index\n",
    "# then we sort the \"similarity\" matrix in descending order(reverse = True) and find the top 5 movies\n",
    "# the main probelm here is if we directly sort the matrix the original index will be lost\n",
    "# in order to preserve the index we use enumerate() function to obtain the top 5 similar value of the \"similarity\" matrix along with their index\n",
    "def recommend4(movie):\n",
    "    for index, m in enumerate(movie_df1['title']):\n",
    "        if m == movie:\n",
    "            distances=sorted(list(enumerate(similarity[index])),reverse=True,key=lambda x:x[1])[1:6]\n",
    "            for i in distances:\n",
    "                print(i[0],\" ->\",i[1],\" ->\",movie_df1['title'][i[0]])\n",
    "                \n",
    "            \n"
   ]
  },
  {
   "cell_type": "code",
   "execution_count": 84,
   "id": "861feef7",
   "metadata": {},
   "outputs": [
    {
     "name": "stdout",
     "output_type": "stream",
     "text": [
      "12  -> 0.4425067362820536  -> Pirates of the Caribbean: Dead Man's Chest\n",
      "199  -> 0.2763857567914614  -> Pirates of the Caribbean: The Curse of the Black Pearl\n",
      "17  -> 0.19564678085759976  -> Pirates of the Caribbean: On Stranger Tides\n",
      "216  -> 0.18138348026063356  -> Life of Pi\n",
      "3567  -> 0.17495369029755287  -> Monster\n"
     ]
    }
   ],
   "source": [
    "recommend4(\"Pirates of the Caribbean: At World's End\")"
   ]
  },
  {
   "cell_type": "markdown",
   "id": "b279878b",
   "metadata": {},
   "source": [
    "# campusx"
   ]
  }
 ],
 "metadata": {
  "kernelspec": {
   "display_name": "Python 3 (ipykernel)",
   "language": "python",
   "name": "python3"
  },
  "language_info": {
   "codemirror_mode": {
    "name": "ipython",
    "version": 3
   },
   "file_extension": ".py",
   "mimetype": "text/x-python",
   "name": "python",
   "nbconvert_exporter": "python",
   "pygments_lexer": "ipython3",
   "version": "3.11.5"
  }
 },
 "nbformat": 4,
 "nbformat_minor": 5
}
